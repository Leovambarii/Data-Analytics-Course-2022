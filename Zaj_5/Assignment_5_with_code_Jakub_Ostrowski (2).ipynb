{
  "cells": [
    {
      "cell_type": "markdown",
      "metadata": {
        "id": "6yBSDnjBZaYW"
      },
      "source": [
        "When exploring a large set of documents -- such as Wikipedia, news articles, StackOverflow, etc. -- it can be useful to get a list of related material. To find relevant documents you typically\n",
        "* Decide on a notion of similarity\n",
        "* Find the documents that are most similar \n",
        "\n",
        "In the assignment you will\n",
        "* Gain intuition for different notions of similarity and practice finding similar documents. \n",
        "* Explore the tradeoffs with representing documents using raw word counts and TF-IDF\n",
        "* Explore the behavior of different distance metrics by looking at the Wikipedia pages most similar to President Obama’s page."
      ]
    },
    {
      "cell_type": "code",
      "execution_count": 144,
      "metadata": {
        "id": "tFr0mVwHZaYY",
        "jupyter": {
          "outputs_hidden": false
        }
      },
      "outputs": [],
      "source": [
        "import matplotlib.pyplot as plt\n",
        "import numpy as np\n",
        "import pandas as pd\n",
        "%matplotlib inline\n",
        "from sklearn.metrics.pairwise import pairwise_distances"
      ]
    },
    {
      "cell_type": "markdown",
      "metadata": {
        "id": "H5wZX-2CZaYZ"
      },
      "source": [
        "## Load Wikipedia dataset"
      ]
    },
    {
      "cell_type": "code",
      "execution_count": 145,
      "metadata": {
        "id": "-idY1KROZy08"
      },
      "outputs": [],
      "source": [
        "# from google.colab import files\n",
        "# upload = files.upload()"
      ]
    },
    {
      "cell_type": "markdown",
      "metadata": {
        "id": "eZV9ShGLZaYZ"
      },
      "source": [
        "We will be using the dataset of abridged Wikipedia pages. Each element of the dataset consists of a link to the wikipedia article, the name of the person, and the text of the article (in lowercase).  "
      ]
    },
    {
      "cell_type": "code",
      "execution_count": 146,
      "metadata": {
        "colab": {
          "base_uri": "https://localhost:8080/",
          "height": 206
        },
        "id": "uT-AGt0zZaYZ",
        "jupyter": {
          "outputs_hidden": false
        },
        "outputId": "7b34538c-6344-4484-d48f-32cf1b550597"
      },
      "outputs": [
        {
          "output_type": "execute_result",
          "data": {
            "text/plain": [
              "                                                 URI                 name  \\\n",
              "0        <http://dbpedia.org/resource/Digby_Morrell>        Digby Morrell   \n",
              "1       <http://dbpedia.org/resource/Alfred_J._Lewy>       Alfred J. Lewy   \n",
              "2        <http://dbpedia.org/resource/Harpdog_Brown>        Harpdog Brown   \n",
              "3  <http://dbpedia.org/resource/Franz_Rottensteiner>  Franz Rottensteiner   \n",
              "4               <http://dbpedia.org/resource/G-Enka>               G-Enka   \n",
              "\n",
              "                                                text  \n",
              "0  digby morrell born 10 october 1979 is a former...  \n",
              "1  alfred j lewy aka sandy lewy graduated from un...  \n",
              "2  harpdog brown is a singer and harmonica player...  \n",
              "3  franz rottensteiner born in waidmannsfeld lowe...  \n",
              "4  henry krvits born 30 december 1974 in tallinn ...  "
            ],
            "text/html": [
              "\n",
              "  <div id=\"df-a3e8b719-6d61-46bd-a3e3-5cdfbf5cbb57\">\n",
              "    <div class=\"colab-df-container\">\n",
              "      <div>\n",
              "<style scoped>\n",
              "    .dataframe tbody tr th:only-of-type {\n",
              "        vertical-align: middle;\n",
              "    }\n",
              "\n",
              "    .dataframe tbody tr th {\n",
              "        vertical-align: top;\n",
              "    }\n",
              "\n",
              "    .dataframe thead th {\n",
              "        text-align: right;\n",
              "    }\n",
              "</style>\n",
              "<table border=\"1\" class=\"dataframe\">\n",
              "  <thead>\n",
              "    <tr style=\"text-align: right;\">\n",
              "      <th></th>\n",
              "      <th>URI</th>\n",
              "      <th>name</th>\n",
              "      <th>text</th>\n",
              "    </tr>\n",
              "  </thead>\n",
              "  <tbody>\n",
              "    <tr>\n",
              "      <th>0</th>\n",
              "      <td>&lt;http://dbpedia.org/resource/Digby_Morrell&gt;</td>\n",
              "      <td>Digby Morrell</td>\n",
              "      <td>digby morrell born 10 october 1979 is a former...</td>\n",
              "    </tr>\n",
              "    <tr>\n",
              "      <th>1</th>\n",
              "      <td>&lt;http://dbpedia.org/resource/Alfred_J._Lewy&gt;</td>\n",
              "      <td>Alfred J. Lewy</td>\n",
              "      <td>alfred j lewy aka sandy lewy graduated from un...</td>\n",
              "    </tr>\n",
              "    <tr>\n",
              "      <th>2</th>\n",
              "      <td>&lt;http://dbpedia.org/resource/Harpdog_Brown&gt;</td>\n",
              "      <td>Harpdog Brown</td>\n",
              "      <td>harpdog brown is a singer and harmonica player...</td>\n",
              "    </tr>\n",
              "    <tr>\n",
              "      <th>3</th>\n",
              "      <td>&lt;http://dbpedia.org/resource/Franz_Rottensteiner&gt;</td>\n",
              "      <td>Franz Rottensteiner</td>\n",
              "      <td>franz rottensteiner born in waidmannsfeld lowe...</td>\n",
              "    </tr>\n",
              "    <tr>\n",
              "      <th>4</th>\n",
              "      <td>&lt;http://dbpedia.org/resource/G-Enka&gt;</td>\n",
              "      <td>G-Enka</td>\n",
              "      <td>henry krvits born 30 december 1974 in tallinn ...</td>\n",
              "    </tr>\n",
              "  </tbody>\n",
              "</table>\n",
              "</div>\n",
              "      <button class=\"colab-df-convert\" onclick=\"convertToInteractive('df-a3e8b719-6d61-46bd-a3e3-5cdfbf5cbb57')\"\n",
              "              title=\"Convert this dataframe to an interactive table.\"\n",
              "              style=\"display:none;\">\n",
              "        \n",
              "  <svg xmlns=\"http://www.w3.org/2000/svg\" height=\"24px\"viewBox=\"0 0 24 24\"\n",
              "       width=\"24px\">\n",
              "    <path d=\"M0 0h24v24H0V0z\" fill=\"none\"/>\n",
              "    <path d=\"M18.56 5.44l.94 2.06.94-2.06 2.06-.94-2.06-.94-.94-2.06-.94 2.06-2.06.94zm-11 1L8.5 8.5l.94-2.06 2.06-.94-2.06-.94L8.5 2.5l-.94 2.06-2.06.94zm10 10l.94 2.06.94-2.06 2.06-.94-2.06-.94-.94-2.06-.94 2.06-2.06.94z\"/><path d=\"M17.41 7.96l-1.37-1.37c-.4-.4-.92-.59-1.43-.59-.52 0-1.04.2-1.43.59L10.3 9.45l-7.72 7.72c-.78.78-.78 2.05 0 2.83L4 21.41c.39.39.9.59 1.41.59.51 0 1.02-.2 1.41-.59l7.78-7.78 2.81-2.81c.8-.78.8-2.07 0-2.86zM5.41 20L4 18.59l7.72-7.72 1.47 1.35L5.41 20z\"/>\n",
              "  </svg>\n",
              "      </button>\n",
              "      \n",
              "  <style>\n",
              "    .colab-df-container {\n",
              "      display:flex;\n",
              "      flex-wrap:wrap;\n",
              "      gap: 12px;\n",
              "    }\n",
              "\n",
              "    .colab-df-convert {\n",
              "      background-color: #E8F0FE;\n",
              "      border: none;\n",
              "      border-radius: 50%;\n",
              "      cursor: pointer;\n",
              "      display: none;\n",
              "      fill: #1967D2;\n",
              "      height: 32px;\n",
              "      padding: 0 0 0 0;\n",
              "      width: 32px;\n",
              "    }\n",
              "\n",
              "    .colab-df-convert:hover {\n",
              "      background-color: #E2EBFA;\n",
              "      box-shadow: 0px 1px 2px rgba(60, 64, 67, 0.3), 0px 1px 3px 1px rgba(60, 64, 67, 0.15);\n",
              "      fill: #174EA6;\n",
              "    }\n",
              "\n",
              "    [theme=dark] .colab-df-convert {\n",
              "      background-color: #3B4455;\n",
              "      fill: #D2E3FC;\n",
              "    }\n",
              "\n",
              "    [theme=dark] .colab-df-convert:hover {\n",
              "      background-color: #434B5C;\n",
              "      box-shadow: 0px 1px 3px 1px rgba(0, 0, 0, 0.15);\n",
              "      filter: drop-shadow(0px 1px 2px rgba(0, 0, 0, 0.3));\n",
              "      fill: #FFFFFF;\n",
              "    }\n",
              "  </style>\n",
              "\n",
              "      <script>\n",
              "        const buttonEl =\n",
              "          document.querySelector('#df-a3e8b719-6d61-46bd-a3e3-5cdfbf5cbb57 button.colab-df-convert');\n",
              "        buttonEl.style.display =\n",
              "          google.colab.kernel.accessAllowed ? 'block' : 'none';\n",
              "\n",
              "        async function convertToInteractive(key) {\n",
              "          const element = document.querySelector('#df-a3e8b719-6d61-46bd-a3e3-5cdfbf5cbb57');\n",
              "          const dataTable =\n",
              "            await google.colab.kernel.invokeFunction('convertToInteractive',\n",
              "                                                     [key], {});\n",
              "          if (!dataTable) return;\n",
              "\n",
              "          const docLinkHtml = 'Like what you see? Visit the ' +\n",
              "            '<a target=\"_blank\" href=https://colab.research.google.com/notebooks/data_table.ipynb>data table notebook</a>'\n",
              "            + ' to learn more about interactive tables.';\n",
              "          element.innerHTML = '';\n",
              "          dataTable['output_type'] = 'display_data';\n",
              "          await google.colab.output.renderOutput(dataTable, element);\n",
              "          const docLink = document.createElement('div');\n",
              "          docLink.innerHTML = docLinkHtml;\n",
              "          element.appendChild(docLink);\n",
              "        }\n",
              "      </script>\n",
              "    </div>\n",
              "  </div>\n",
              "  "
            ]
          },
          "metadata": {},
          "execution_count": 146
        }
      ],
      "source": [
        "wiki = pd.read_csv('people_wiki.csv')\n",
        "wiki.head()"
      ]
    },
    {
      "cell_type": "markdown",
      "metadata": {
        "id": "ULwSEKfKZaYa"
      },
      "source": [
        "If you want to check whether the text on the webpage agrees with the one here, you can display it with the following code:"
      ]
    },
    {
      "cell_type": "code",
      "execution_count": 147,
      "metadata": {
        "collapsed": true,
        "id": "ehh_JQfXZaYa"
      },
      "outputs": [],
      "source": [
        "# from IPython.display import HTML\n",
        "# print(wiki['text'][0])\n",
        "# HTML(url=wiki['URI'][0])"
      ]
    },
    {
      "cell_type": "markdown",
      "metadata": {
        "id": "3riBMk9NZaYb"
      },
      "source": [
        "## Ex. 1: Extract word count vectors"
      ]
    },
    {
      "cell_type": "markdown",
      "metadata": {
        "id": "E3N2kTXVZaYb"
      },
      "source": [
        "As we have seen in Assignment 4, we can extract word count vectors using `CountVectorizer` function.\n",
        "- make sure you include words of unit length by using the parameter: `token_pattern=r\"(?u)\\b\\w+\\b\"`\n",
        "- do not use any stopwords\n",
        "- take 10000 most frequent words in the corpus\n",
        "- explicitly take all the words independent of in how many documents they occur\n",
        "- obtain the matrix of word counts"
      ]
    },
    {
      "cell_type": "code",
      "execution_count": 148,
      "metadata": {
        "colab": {
          "base_uri": "https://localhost:8080/"
        },
        "collapsed": true,
        "id": "p0gesrUOZaYb",
        "outputId": "5fb5b4d6-ec2b-4d90-caaa-dd4fc0d4da6f"
      },
      "outputs": [
        {
          "output_type": "execute_result",
          "data": {
            "text/plain": [
              "array(['0', '01', '1', ..., 'zoology', 'zrich', 'zurich'], dtype=object)"
            ]
          },
          "metadata": {},
          "execution_count": 148
        }
      ],
      "source": [
        "from sklearn.feature_extraction.text import CountVectorizer\n",
        "\n",
        "vectorizer = CountVectorizer(token_pattern=r\"(?u)\\b\\w+\\b\", stop_words=None, max_features=10000)\n",
        "WCmatrix = vectorizer.fit_transform(wiki.text).todense()\n",
        "vectorizer.get_feature_names_out()"
      ]
    },
    {
      "cell_type": "markdown",
      "metadata": {
        "id": "_1o2MPQDZaYc"
      },
      "source": [
        "## Ex. 2: Find nearest neighbors"
      ]
    },
    {
      "cell_type": "markdown",
      "metadata": {
        "id": "PbMhYY-KZaYc"
      },
      "source": [
        "**a)** Start by finding the nearest neighbors of the Barack Obama page using the above word count matrix to represent the articles and **Euclidean** distance to measure distance.\n",
        "Save the distances in `wiki['BO-eucl']` and look at the top 10 nearest neighbors."
      ]
    },
    {
      "cell_type": "code",
      "execution_count": 149,
      "metadata": {
        "colab": {
          "base_uri": "https://localhost:8080/",
          "height": 580
        },
        "collapsed": true,
        "id": "nKrP5HxzZaYc",
        "outputId": "2afd5bf6-778e-4711-8784-13dc030887b5"
      },
      "outputs": [
        {
          "output_type": "execute_result",
          "data": {
            "text/plain": [
              "                                                   URI               name  \\\n",
              "35817       <http://dbpedia.org/resource/Barack_Obama>       Barack Obama   \n",
              "24478          <http://dbpedia.org/resource/Joe_Biden>          Joe Biden   \n",
              "28447     <http://dbpedia.org/resource/George_W._Bush>     George W. Bush   \n",
              "48202       <http://dbpedia.org/resource/Tony_Vaccaro>       Tony Vaccaro   \n",
              "14754        <http://dbpedia.org/resource/Mitt_Romney>        Mitt Romney   \n",
              "31423     <http://dbpedia.org/resource/Walter_Mondale>     Walter Mondale   \n",
              "36364         <http://dbpedia.org/resource/Don_Bonker>         Don Bonker   \n",
              "13229   <http://dbpedia.org/resource/Francisco_Barrio>   Francisco Barrio   \n",
              "35357   <http://dbpedia.org/resource/Lawrence_Summers>   Lawrence Summers   \n",
              "25258  <http://dbpedia.org/resource/Marc_Ravalomanana>  Marc Ravalomanana   \n",
              "\n",
              "                                                    text    BO-eucl  \n",
              "35817  barack hussein obama ii brk husen bm born augu...   0.000000  \n",
              "24478  joseph robinette joe biden jr dosf rbnt badn b...  31.336879  \n",
              "28447  george walker bush born july 6 1946 is an amer...  33.645208  \n",
              "48202  michelantonio celestino onofrio vaccaro born d...  33.734256  \n",
              "14754  willard mitt romney born march 12 1947 is an a...  34.351128  \n",
              "31423  walter frederick fritz mondale born january 5 ...  34.423829  \n",
              "36364  don leroy bonker born march 7 1937 in denver c...  34.597688  \n",
              "13229  francisco javier barrio terrazas born november...  34.669872  \n",
              "35357  lawrence henry larry summers born november 30 ...  35.383612  \n",
              "25258  marc ravalomanana malagasy ravalumanan born 12...  35.440090  "
            ],
            "text/html": [
              "\n",
              "  <div id=\"df-0ec689ba-30d6-40e2-89c6-6a9bdbb73d91\">\n",
              "    <div class=\"colab-df-container\">\n",
              "      <div>\n",
              "<style scoped>\n",
              "    .dataframe tbody tr th:only-of-type {\n",
              "        vertical-align: middle;\n",
              "    }\n",
              "\n",
              "    .dataframe tbody tr th {\n",
              "        vertical-align: top;\n",
              "    }\n",
              "\n",
              "    .dataframe thead th {\n",
              "        text-align: right;\n",
              "    }\n",
              "</style>\n",
              "<table border=\"1\" class=\"dataframe\">\n",
              "  <thead>\n",
              "    <tr style=\"text-align: right;\">\n",
              "      <th></th>\n",
              "      <th>URI</th>\n",
              "      <th>name</th>\n",
              "      <th>text</th>\n",
              "      <th>BO-eucl</th>\n",
              "    </tr>\n",
              "  </thead>\n",
              "  <tbody>\n",
              "    <tr>\n",
              "      <th>35817</th>\n",
              "      <td>&lt;http://dbpedia.org/resource/Barack_Obama&gt;</td>\n",
              "      <td>Barack Obama</td>\n",
              "      <td>barack hussein obama ii brk husen bm born augu...</td>\n",
              "      <td>0.000000</td>\n",
              "    </tr>\n",
              "    <tr>\n",
              "      <th>24478</th>\n",
              "      <td>&lt;http://dbpedia.org/resource/Joe_Biden&gt;</td>\n",
              "      <td>Joe Biden</td>\n",
              "      <td>joseph robinette joe biden jr dosf rbnt badn b...</td>\n",
              "      <td>31.336879</td>\n",
              "    </tr>\n",
              "    <tr>\n",
              "      <th>28447</th>\n",
              "      <td>&lt;http://dbpedia.org/resource/George_W._Bush&gt;</td>\n",
              "      <td>George W. Bush</td>\n",
              "      <td>george walker bush born july 6 1946 is an amer...</td>\n",
              "      <td>33.645208</td>\n",
              "    </tr>\n",
              "    <tr>\n",
              "      <th>48202</th>\n",
              "      <td>&lt;http://dbpedia.org/resource/Tony_Vaccaro&gt;</td>\n",
              "      <td>Tony Vaccaro</td>\n",
              "      <td>michelantonio celestino onofrio vaccaro born d...</td>\n",
              "      <td>33.734256</td>\n",
              "    </tr>\n",
              "    <tr>\n",
              "      <th>14754</th>\n",
              "      <td>&lt;http://dbpedia.org/resource/Mitt_Romney&gt;</td>\n",
              "      <td>Mitt Romney</td>\n",
              "      <td>willard mitt romney born march 12 1947 is an a...</td>\n",
              "      <td>34.351128</td>\n",
              "    </tr>\n",
              "    <tr>\n",
              "      <th>31423</th>\n",
              "      <td>&lt;http://dbpedia.org/resource/Walter_Mondale&gt;</td>\n",
              "      <td>Walter Mondale</td>\n",
              "      <td>walter frederick fritz mondale born january 5 ...</td>\n",
              "      <td>34.423829</td>\n",
              "    </tr>\n",
              "    <tr>\n",
              "      <th>36364</th>\n",
              "      <td>&lt;http://dbpedia.org/resource/Don_Bonker&gt;</td>\n",
              "      <td>Don Bonker</td>\n",
              "      <td>don leroy bonker born march 7 1937 in denver c...</td>\n",
              "      <td>34.597688</td>\n",
              "    </tr>\n",
              "    <tr>\n",
              "      <th>13229</th>\n",
              "      <td>&lt;http://dbpedia.org/resource/Francisco_Barrio&gt;</td>\n",
              "      <td>Francisco Barrio</td>\n",
              "      <td>francisco javier barrio terrazas born november...</td>\n",
              "      <td>34.669872</td>\n",
              "    </tr>\n",
              "    <tr>\n",
              "      <th>35357</th>\n",
              "      <td>&lt;http://dbpedia.org/resource/Lawrence_Summers&gt;</td>\n",
              "      <td>Lawrence Summers</td>\n",
              "      <td>lawrence henry larry summers born november 30 ...</td>\n",
              "      <td>35.383612</td>\n",
              "    </tr>\n",
              "    <tr>\n",
              "      <th>25258</th>\n",
              "      <td>&lt;http://dbpedia.org/resource/Marc_Ravalomanana&gt;</td>\n",
              "      <td>Marc Ravalomanana</td>\n",
              "      <td>marc ravalomanana malagasy ravalumanan born 12...</td>\n",
              "      <td>35.440090</td>\n",
              "    </tr>\n",
              "  </tbody>\n",
              "</table>\n",
              "</div>\n",
              "      <button class=\"colab-df-convert\" onclick=\"convertToInteractive('df-0ec689ba-30d6-40e2-89c6-6a9bdbb73d91')\"\n",
              "              title=\"Convert this dataframe to an interactive table.\"\n",
              "              style=\"display:none;\">\n",
              "        \n",
              "  <svg xmlns=\"http://www.w3.org/2000/svg\" height=\"24px\"viewBox=\"0 0 24 24\"\n",
              "       width=\"24px\">\n",
              "    <path d=\"M0 0h24v24H0V0z\" fill=\"none\"/>\n",
              "    <path d=\"M18.56 5.44l.94 2.06.94-2.06 2.06-.94-2.06-.94-.94-2.06-.94 2.06-2.06.94zm-11 1L8.5 8.5l.94-2.06 2.06-.94-2.06-.94L8.5 2.5l-.94 2.06-2.06.94zm10 10l.94 2.06.94-2.06 2.06-.94-2.06-.94-.94-2.06-.94 2.06-2.06.94z\"/><path d=\"M17.41 7.96l-1.37-1.37c-.4-.4-.92-.59-1.43-.59-.52 0-1.04.2-1.43.59L10.3 9.45l-7.72 7.72c-.78.78-.78 2.05 0 2.83L4 21.41c.39.39.9.59 1.41.59.51 0 1.02-.2 1.41-.59l7.78-7.78 2.81-2.81c.8-.78.8-2.07 0-2.86zM5.41 20L4 18.59l7.72-7.72 1.47 1.35L5.41 20z\"/>\n",
              "  </svg>\n",
              "      </button>\n",
              "      \n",
              "  <style>\n",
              "    .colab-df-container {\n",
              "      display:flex;\n",
              "      flex-wrap:wrap;\n",
              "      gap: 12px;\n",
              "    }\n",
              "\n",
              "    .colab-df-convert {\n",
              "      background-color: #E8F0FE;\n",
              "      border: none;\n",
              "      border-radius: 50%;\n",
              "      cursor: pointer;\n",
              "      display: none;\n",
              "      fill: #1967D2;\n",
              "      height: 32px;\n",
              "      padding: 0 0 0 0;\n",
              "      width: 32px;\n",
              "    }\n",
              "\n",
              "    .colab-df-convert:hover {\n",
              "      background-color: #E2EBFA;\n",
              "      box-shadow: 0px 1px 2px rgba(60, 64, 67, 0.3), 0px 1px 3px 1px rgba(60, 64, 67, 0.15);\n",
              "      fill: #174EA6;\n",
              "    }\n",
              "\n",
              "    [theme=dark] .colab-df-convert {\n",
              "      background-color: #3B4455;\n",
              "      fill: #D2E3FC;\n",
              "    }\n",
              "\n",
              "    [theme=dark] .colab-df-convert:hover {\n",
              "      background-color: #434B5C;\n",
              "      box-shadow: 0px 1px 3px 1px rgba(0, 0, 0, 0.15);\n",
              "      filter: drop-shadow(0px 1px 2px rgba(0, 0, 0, 0.3));\n",
              "      fill: #FFFFFF;\n",
              "    }\n",
              "  </style>\n",
              "\n",
              "      <script>\n",
              "        const buttonEl =\n",
              "          document.querySelector('#df-0ec689ba-30d6-40e2-89c6-6a9bdbb73d91 button.colab-df-convert');\n",
              "        buttonEl.style.display =\n",
              "          google.colab.kernel.accessAllowed ? 'block' : 'none';\n",
              "\n",
              "        async function convertToInteractive(key) {\n",
              "          const element = document.querySelector('#df-0ec689ba-30d6-40e2-89c6-6a9bdbb73d91');\n",
              "          const dataTable =\n",
              "            await google.colab.kernel.invokeFunction('convertToInteractive',\n",
              "                                                     [key], {});\n",
              "          if (!dataTable) return;\n",
              "\n",
              "          const docLinkHtml = 'Like what you see? Visit the ' +\n",
              "            '<a target=\"_blank\" href=https://colab.research.google.com/notebooks/data_table.ipynb>data table notebook</a>'\n",
              "            + ' to learn more about interactive tables.';\n",
              "          element.innerHTML = '';\n",
              "          dataTable['output_type'] = 'display_data';\n",
              "          await google.colab.output.renderOutput(dataTable, element);\n",
              "          const docLink = document.createElement('div');\n",
              "          docLink.innerHTML = docLinkHtml;\n",
              "          element.appendChild(docLink);\n",
              "        }\n",
              "      </script>\n",
              "    </div>\n",
              "  </div>\n",
              "  "
            ]
          },
          "metadata": {},
          "execution_count": 149
        }
      ],
      "source": [
        "# One can use the following:\n",
        "    # from sklearn.neighbors import NearestNeighbors\n",
        "    # nbrs = NearestNeighbors(n_neighbors=3, algorithm='brute',metric='euclidean').fit(X.toarray())\n",
        "    # distances, indices = nbrs.kneighbors(X.toarray())\n",
        "# but here let's use:\n",
        "dist = pairwise_distances(X=np.asarray(WCmatrix[wiki[wiki['name']=='Barack Obama'].index]), Y=np.asarray(WCmatrix), metric='euclidean')\n",
        "wiki['BO-eucl'] = dist.T\n",
        "result = wiki.sort_values('BO-eucl').iloc[:10]\n",
        "result\n"
      ]
    },
    {
      "cell_type": "markdown",
      "metadata": {
        "id": "DuTvxR2SderG"
      },
      "source": [
        "Top results are politicians such as Obama. As we can see the nearest neighbours to Barack Obama are Joe Biden and George W.Bush. They were USA presidents. However there are people such as Tony Vaccaro that aren't associated with Obama (Tony Vaccaro was an American photographer who was known for his World War photos)."
      ]
    },
    {
      "cell_type": "markdown",
      "metadata": {
        "id": "LDjQ6h34ZaYd"
      },
      "source": [
        "**b)** Measure the pairwise distance between the Wikipedia pages of Barack Obama, George W. Bush, and Joe Biden. Which of the three pairs has the smallest distance?"
      ]
    },
    {
      "cell_type": "code",
      "execution_count": 150,
      "metadata": {
        "colab": {
          "base_uri": "https://localhost:8080/"
        },
        "id": "N7xjgYKaZaYd",
        "outputId": "246e43de-c64c-4a97-b35d-1a52d1b28ef0"
      },
      "outputs": [
        {
          "output_type": "stream",
          "name": "stdout",
          "text": [
            "Barack and George ->  31.336879231984796\n",
            "Joe and George ->  33.645207682521445\n",
            "Barack and Joe ->  30.919249667480614\n"
          ]
        }
      ],
      "source": [
        "to_search = wiki[wiki[\"name\"].isin([\"Barack Obama\", \"Joe Biden\", \"George W. Bush\"])]\n",
        "dist = pairwise_distances(np.asarray(WCmatrix[to_search.index]))\n",
        "print('Barack and George -> ', dist[0, 2])\n",
        "print('Joe and George -> ', dist[1, 2])\n",
        "print('Barack and Joe -> ', dist[0, 1])"
      ]
    },
    {
      "cell_type": "markdown",
      "metadata": {
        "id": "JI9-GAgRderG"
      },
      "source": [
        "The smallest distance is between Barack Obama and Joe Biden."
      ]
    },
    {
      "cell_type": "markdown",
      "metadata": {
        "id": "Y08S5Z-ZZaYd"
      },
      "source": [
        "All of the 10 people from **a)** are politicians, but about half of them have rather tenuous connections with Obama, other than the fact that they are politicians, e.g.,\n",
        "\n",
        "* Francisco Barrio is a Mexican politician, and a former governor of Chihuahua.\n",
        "* Walter Mondale and Don Bonker are Democrats who made their career in late 1970s.\n",
        "\n",
        "Nearest neighbors with raw word counts got some things right, showing all politicians in the query result, but missed finer and important details."
      ]
    },
    {
      "cell_type": "markdown",
      "metadata": {
        "id": "w_ADhsFdZaYd"
      },
      "source": [
        "**c)** Let's find out why Francisco Barrio was considered a close neighbor of Obama.\n",
        "To do this, look at the most frequently used words in each of Barack Obama and Francisco Barrio's pages."
      ]
    },
    {
      "cell_type": "code",
      "execution_count": 151,
      "metadata": {
        "collapsed": true,
        "id": "8s0qO_UEZaYd"
      },
      "outputs": [],
      "source": [
        "def top_words(name):\n",
        "    \"\"\"\n",
        "    Get a table of the most frequent words in the given person's wikipedia page.\n",
        "    \"\"\"\n",
        "    df = pd.DataFrame(wiki[wiki['name']==name].text.values[0].split(), columns=['split'])\n",
        "    df = df['split'].value_counts().to_frame('count')\n",
        "    return df.sort_values(by='count', ascending=False)"
      ]
    },
    {
      "cell_type": "code",
      "execution_count": 152,
      "metadata": {
        "colab": {
          "base_uri": "https://localhost:8080/",
          "height": 424
        },
        "id": "1vbSIAcOZaYd",
        "jupyter": {
          "outputs_hidden": false
        },
        "outputId": "ef46c833-32f7-47a1-b023-d348b9f4c15e"
      },
      "outputs": [
        {
          "output_type": "execute_result",
          "data": {
            "text/plain": [
              "           count\n",
              "the           40\n",
              "in            30\n",
              "and           21\n",
              "of            18\n",
              "to            14\n",
              "...          ...\n",
              "budget         1\n",
              "taxpayer       1\n",
              "2012obama      1\n",
              "reelected      1\n",
              "cuba           1\n",
              "\n",
              "[273 rows x 1 columns]"
            ],
            "text/html": [
              "\n",
              "  <div id=\"df-e61135b6-5257-4a5d-9e8b-844a97d4a814\">\n",
              "    <div class=\"colab-df-container\">\n",
              "      <div>\n",
              "<style scoped>\n",
              "    .dataframe tbody tr th:only-of-type {\n",
              "        vertical-align: middle;\n",
              "    }\n",
              "\n",
              "    .dataframe tbody tr th {\n",
              "        vertical-align: top;\n",
              "    }\n",
              "\n",
              "    .dataframe thead th {\n",
              "        text-align: right;\n",
              "    }\n",
              "</style>\n",
              "<table border=\"1\" class=\"dataframe\">\n",
              "  <thead>\n",
              "    <tr style=\"text-align: right;\">\n",
              "      <th></th>\n",
              "      <th>count</th>\n",
              "    </tr>\n",
              "  </thead>\n",
              "  <tbody>\n",
              "    <tr>\n",
              "      <th>the</th>\n",
              "      <td>40</td>\n",
              "    </tr>\n",
              "    <tr>\n",
              "      <th>in</th>\n",
              "      <td>30</td>\n",
              "    </tr>\n",
              "    <tr>\n",
              "      <th>and</th>\n",
              "      <td>21</td>\n",
              "    </tr>\n",
              "    <tr>\n",
              "      <th>of</th>\n",
              "      <td>18</td>\n",
              "    </tr>\n",
              "    <tr>\n",
              "      <th>to</th>\n",
              "      <td>14</td>\n",
              "    </tr>\n",
              "    <tr>\n",
              "      <th>...</th>\n",
              "      <td>...</td>\n",
              "    </tr>\n",
              "    <tr>\n",
              "      <th>budget</th>\n",
              "      <td>1</td>\n",
              "    </tr>\n",
              "    <tr>\n",
              "      <th>taxpayer</th>\n",
              "      <td>1</td>\n",
              "    </tr>\n",
              "    <tr>\n",
              "      <th>2012obama</th>\n",
              "      <td>1</td>\n",
              "    </tr>\n",
              "    <tr>\n",
              "      <th>reelected</th>\n",
              "      <td>1</td>\n",
              "    </tr>\n",
              "    <tr>\n",
              "      <th>cuba</th>\n",
              "      <td>1</td>\n",
              "    </tr>\n",
              "  </tbody>\n",
              "</table>\n",
              "<p>273 rows × 1 columns</p>\n",
              "</div>\n",
              "      <button class=\"colab-df-convert\" onclick=\"convertToInteractive('df-e61135b6-5257-4a5d-9e8b-844a97d4a814')\"\n",
              "              title=\"Convert this dataframe to an interactive table.\"\n",
              "              style=\"display:none;\">\n",
              "        \n",
              "  <svg xmlns=\"http://www.w3.org/2000/svg\" height=\"24px\"viewBox=\"0 0 24 24\"\n",
              "       width=\"24px\">\n",
              "    <path d=\"M0 0h24v24H0V0z\" fill=\"none\"/>\n",
              "    <path d=\"M18.56 5.44l.94 2.06.94-2.06 2.06-.94-2.06-.94-.94-2.06-.94 2.06-2.06.94zm-11 1L8.5 8.5l.94-2.06 2.06-.94-2.06-.94L8.5 2.5l-.94 2.06-2.06.94zm10 10l.94 2.06.94-2.06 2.06-.94-2.06-.94-.94-2.06-.94 2.06-2.06.94z\"/><path d=\"M17.41 7.96l-1.37-1.37c-.4-.4-.92-.59-1.43-.59-.52 0-1.04.2-1.43.59L10.3 9.45l-7.72 7.72c-.78.78-.78 2.05 0 2.83L4 21.41c.39.39.9.59 1.41.59.51 0 1.02-.2 1.41-.59l7.78-7.78 2.81-2.81c.8-.78.8-2.07 0-2.86zM5.41 20L4 18.59l7.72-7.72 1.47 1.35L5.41 20z\"/>\n",
              "  </svg>\n",
              "      </button>\n",
              "      \n",
              "  <style>\n",
              "    .colab-df-container {\n",
              "      display:flex;\n",
              "      flex-wrap:wrap;\n",
              "      gap: 12px;\n",
              "    }\n",
              "\n",
              "    .colab-df-convert {\n",
              "      background-color: #E8F0FE;\n",
              "      border: none;\n",
              "      border-radius: 50%;\n",
              "      cursor: pointer;\n",
              "      display: none;\n",
              "      fill: #1967D2;\n",
              "      height: 32px;\n",
              "      padding: 0 0 0 0;\n",
              "      width: 32px;\n",
              "    }\n",
              "\n",
              "    .colab-df-convert:hover {\n",
              "      background-color: #E2EBFA;\n",
              "      box-shadow: 0px 1px 2px rgba(60, 64, 67, 0.3), 0px 1px 3px 1px rgba(60, 64, 67, 0.15);\n",
              "      fill: #174EA6;\n",
              "    }\n",
              "\n",
              "    [theme=dark] .colab-df-convert {\n",
              "      background-color: #3B4455;\n",
              "      fill: #D2E3FC;\n",
              "    }\n",
              "\n",
              "    [theme=dark] .colab-df-convert:hover {\n",
              "      background-color: #434B5C;\n",
              "      box-shadow: 0px 1px 3px 1px rgba(0, 0, 0, 0.15);\n",
              "      filter: drop-shadow(0px 1px 2px rgba(0, 0, 0, 0.3));\n",
              "      fill: #FFFFFF;\n",
              "    }\n",
              "  </style>\n",
              "\n",
              "      <script>\n",
              "        const buttonEl =\n",
              "          document.querySelector('#df-e61135b6-5257-4a5d-9e8b-844a97d4a814 button.colab-df-convert');\n",
              "        buttonEl.style.display =\n",
              "          google.colab.kernel.accessAllowed ? 'block' : 'none';\n",
              "\n",
              "        async function convertToInteractive(key) {\n",
              "          const element = document.querySelector('#df-e61135b6-5257-4a5d-9e8b-844a97d4a814');\n",
              "          const dataTable =\n",
              "            await google.colab.kernel.invokeFunction('convertToInteractive',\n",
              "                                                     [key], {});\n",
              "          if (!dataTable) return;\n",
              "\n",
              "          const docLinkHtml = 'Like what you see? Visit the ' +\n",
              "            '<a target=\"_blank\" href=https://colab.research.google.com/notebooks/data_table.ipynb>data table notebook</a>'\n",
              "            + ' to learn more about interactive tables.';\n",
              "          element.innerHTML = '';\n",
              "          dataTable['output_type'] = 'display_data';\n",
              "          await google.colab.output.renderOutput(dataTable, element);\n",
              "          const docLink = document.createElement('div');\n",
              "          docLink.innerHTML = docLinkHtml;\n",
              "          element.appendChild(docLink);\n",
              "        }\n",
              "      </script>\n",
              "    </div>\n",
              "  </div>\n",
              "  "
            ]
          },
          "metadata": {},
          "execution_count": 152
        }
      ],
      "source": [
        "obama_words = top_words('Barack Obama')\n",
        "obama_words"
      ]
    },
    {
      "cell_type": "code",
      "execution_count": 153,
      "metadata": {
        "colab": {
          "base_uri": "https://localhost:8080/",
          "height": 424
        },
        "id": "BlTalzY2ZaYe",
        "outputId": "2a2b1558-ffd3-48bf-ef95-403c78c2fcf9"
      },
      "outputs": [
        {
          "output_type": "execute_result",
          "data": {
            "text/plain": [
              "         count\n",
              "the         36\n",
              "of          24\n",
              "and         18\n",
              "in          17\n",
              "he          10\n",
              "...        ...\n",
              "due          1\n",
              "actions      1\n",
              "7            1\n",
              "july         1\n",
              "murders      1\n",
              "\n",
              "[225 rows x 1 columns]"
            ],
            "text/html": [
              "\n",
              "  <div id=\"df-0ccec6c9-4553-4a6a-a50a-6ae70b09ed41\">\n",
              "    <div class=\"colab-df-container\">\n",
              "      <div>\n",
              "<style scoped>\n",
              "    .dataframe tbody tr th:only-of-type {\n",
              "        vertical-align: middle;\n",
              "    }\n",
              "\n",
              "    .dataframe tbody tr th {\n",
              "        vertical-align: top;\n",
              "    }\n",
              "\n",
              "    .dataframe thead th {\n",
              "        text-align: right;\n",
              "    }\n",
              "</style>\n",
              "<table border=\"1\" class=\"dataframe\">\n",
              "  <thead>\n",
              "    <tr style=\"text-align: right;\">\n",
              "      <th></th>\n",
              "      <th>count</th>\n",
              "    </tr>\n",
              "  </thead>\n",
              "  <tbody>\n",
              "    <tr>\n",
              "      <th>the</th>\n",
              "      <td>36</td>\n",
              "    </tr>\n",
              "    <tr>\n",
              "      <th>of</th>\n",
              "      <td>24</td>\n",
              "    </tr>\n",
              "    <tr>\n",
              "      <th>and</th>\n",
              "      <td>18</td>\n",
              "    </tr>\n",
              "    <tr>\n",
              "      <th>in</th>\n",
              "      <td>17</td>\n",
              "    </tr>\n",
              "    <tr>\n",
              "      <th>he</th>\n",
              "      <td>10</td>\n",
              "    </tr>\n",
              "    <tr>\n",
              "      <th>...</th>\n",
              "      <td>...</td>\n",
              "    </tr>\n",
              "    <tr>\n",
              "      <th>due</th>\n",
              "      <td>1</td>\n",
              "    </tr>\n",
              "    <tr>\n",
              "      <th>actions</th>\n",
              "      <td>1</td>\n",
              "    </tr>\n",
              "    <tr>\n",
              "      <th>7</th>\n",
              "      <td>1</td>\n",
              "    </tr>\n",
              "    <tr>\n",
              "      <th>july</th>\n",
              "      <td>1</td>\n",
              "    </tr>\n",
              "    <tr>\n",
              "      <th>murders</th>\n",
              "      <td>1</td>\n",
              "    </tr>\n",
              "  </tbody>\n",
              "</table>\n",
              "<p>225 rows × 1 columns</p>\n",
              "</div>\n",
              "      <button class=\"colab-df-convert\" onclick=\"convertToInteractive('df-0ccec6c9-4553-4a6a-a50a-6ae70b09ed41')\"\n",
              "              title=\"Convert this dataframe to an interactive table.\"\n",
              "              style=\"display:none;\">\n",
              "        \n",
              "  <svg xmlns=\"http://www.w3.org/2000/svg\" height=\"24px\"viewBox=\"0 0 24 24\"\n",
              "       width=\"24px\">\n",
              "    <path d=\"M0 0h24v24H0V0z\" fill=\"none\"/>\n",
              "    <path d=\"M18.56 5.44l.94 2.06.94-2.06 2.06-.94-2.06-.94-.94-2.06-.94 2.06-2.06.94zm-11 1L8.5 8.5l.94-2.06 2.06-.94-2.06-.94L8.5 2.5l-.94 2.06-2.06.94zm10 10l.94 2.06.94-2.06 2.06-.94-2.06-.94-.94-2.06-.94 2.06-2.06.94z\"/><path d=\"M17.41 7.96l-1.37-1.37c-.4-.4-.92-.59-1.43-.59-.52 0-1.04.2-1.43.59L10.3 9.45l-7.72 7.72c-.78.78-.78 2.05 0 2.83L4 21.41c.39.39.9.59 1.41.59.51 0 1.02-.2 1.41-.59l7.78-7.78 2.81-2.81c.8-.78.8-2.07 0-2.86zM5.41 20L4 18.59l7.72-7.72 1.47 1.35L5.41 20z\"/>\n",
              "  </svg>\n",
              "      </button>\n",
              "      \n",
              "  <style>\n",
              "    .colab-df-container {\n",
              "      display:flex;\n",
              "      flex-wrap:wrap;\n",
              "      gap: 12px;\n",
              "    }\n",
              "\n",
              "    .colab-df-convert {\n",
              "      background-color: #E8F0FE;\n",
              "      border: none;\n",
              "      border-radius: 50%;\n",
              "      cursor: pointer;\n",
              "      display: none;\n",
              "      fill: #1967D2;\n",
              "      height: 32px;\n",
              "      padding: 0 0 0 0;\n",
              "      width: 32px;\n",
              "    }\n",
              "\n",
              "    .colab-df-convert:hover {\n",
              "      background-color: #E2EBFA;\n",
              "      box-shadow: 0px 1px 2px rgba(60, 64, 67, 0.3), 0px 1px 3px 1px rgba(60, 64, 67, 0.15);\n",
              "      fill: #174EA6;\n",
              "    }\n",
              "\n",
              "    [theme=dark] .colab-df-convert {\n",
              "      background-color: #3B4455;\n",
              "      fill: #D2E3FC;\n",
              "    }\n",
              "\n",
              "    [theme=dark] .colab-df-convert:hover {\n",
              "      background-color: #434B5C;\n",
              "      box-shadow: 0px 1px 3px 1px rgba(0, 0, 0, 0.15);\n",
              "      filter: drop-shadow(0px 1px 2px rgba(0, 0, 0, 0.3));\n",
              "      fill: #FFFFFF;\n",
              "    }\n",
              "  </style>\n",
              "\n",
              "      <script>\n",
              "        const buttonEl =\n",
              "          document.querySelector('#df-0ccec6c9-4553-4a6a-a50a-6ae70b09ed41 button.colab-df-convert');\n",
              "        buttonEl.style.display =\n",
              "          google.colab.kernel.accessAllowed ? 'block' : 'none';\n",
              "\n",
              "        async function convertToInteractive(key) {\n",
              "          const element = document.querySelector('#df-0ccec6c9-4553-4a6a-a50a-6ae70b09ed41');\n",
              "          const dataTable =\n",
              "            await google.colab.kernel.invokeFunction('convertToInteractive',\n",
              "                                                     [key], {});\n",
              "          if (!dataTable) return;\n",
              "\n",
              "          const docLinkHtml = 'Like what you see? Visit the ' +\n",
              "            '<a target=\"_blank\" href=https://colab.research.google.com/notebooks/data_table.ipynb>data table notebook</a>'\n",
              "            + ' to learn more about interactive tables.';\n",
              "          element.innerHTML = '';\n",
              "          dataTable['output_type'] = 'display_data';\n",
              "          await google.colab.output.renderOutput(dataTable, element);\n",
              "          const docLink = document.createElement('div');\n",
              "          docLink.innerHTML = docLinkHtml;\n",
              "          element.appendChild(docLink);\n",
              "        }\n",
              "      </script>\n",
              "    </div>\n",
              "  </div>\n",
              "  "
            ]
          },
          "metadata": {},
          "execution_count": 153
        }
      ],
      "source": [
        "barrio_words = top_words('Francisco Barrio')\n",
        "barrio_words"
      ]
    },
    {
      "cell_type": "markdown",
      "metadata": {
        "id": "VHzwyBK6derI"
      },
      "source": [
        "There are many similar short words that are commonly used in sentences. "
      ]
    },
    {
      "cell_type": "markdown",
      "metadata": {
        "id": "5spa3WKeZaYe"
      },
      "source": [
        "**d)** Extract the list of most frequent **common** words that appear in both Obama's and Barrio's documents and display the five words that appear most often in Barrio's article.\n",
        "\n",
        "Use a dataframe operation known as **join**. The **join** operation is very useful when it comes to playing around with data: it lets you combine the content of two tables using a shared column (in this case, the index column of words). See [the documentation](https://pandas.pydata.org/pandas-docs/stable/reference/api/pandas.DataFrame.join.html) for more details."
      ]
    },
    {
      "cell_type": "code",
      "execution_count": 154,
      "metadata": {
        "colab": {
          "base_uri": "https://localhost:8080/",
          "height": 206
        },
        "id": "938BCcmEZaYe",
        "jupyter": {
          "outputs_hidden": false
        },
        "outputId": "6f978871-2df7-401c-80dd-a4dd05f901b4"
      },
      "outputs": [
        {
          "output_type": "execute_result",
          "data": {
            "text/plain": [
              "     count_Obama  count_Barrio\n",
              "the           40          36.0\n",
              "of            18          24.0\n",
              "and           21          18.0\n",
              "in            30          17.0\n",
              "he             7          10.0"
            ],
            "text/html": [
              "\n",
              "  <div id=\"df-fa302f0a-610e-430a-89d3-52aa6998bae5\">\n",
              "    <div class=\"colab-df-container\">\n",
              "      <div>\n",
              "<style scoped>\n",
              "    .dataframe tbody tr th:only-of-type {\n",
              "        vertical-align: middle;\n",
              "    }\n",
              "\n",
              "    .dataframe tbody tr th {\n",
              "        vertical-align: top;\n",
              "    }\n",
              "\n",
              "    .dataframe thead th {\n",
              "        text-align: right;\n",
              "    }\n",
              "</style>\n",
              "<table border=\"1\" class=\"dataframe\">\n",
              "  <thead>\n",
              "    <tr style=\"text-align: right;\">\n",
              "      <th></th>\n",
              "      <th>count_Obama</th>\n",
              "      <th>count_Barrio</th>\n",
              "    </tr>\n",
              "  </thead>\n",
              "  <tbody>\n",
              "    <tr>\n",
              "      <th>the</th>\n",
              "      <td>40</td>\n",
              "      <td>36.0</td>\n",
              "    </tr>\n",
              "    <tr>\n",
              "      <th>of</th>\n",
              "      <td>18</td>\n",
              "      <td>24.0</td>\n",
              "    </tr>\n",
              "    <tr>\n",
              "      <th>and</th>\n",
              "      <td>21</td>\n",
              "      <td>18.0</td>\n",
              "    </tr>\n",
              "    <tr>\n",
              "      <th>in</th>\n",
              "      <td>30</td>\n",
              "      <td>17.0</td>\n",
              "    </tr>\n",
              "    <tr>\n",
              "      <th>he</th>\n",
              "      <td>7</td>\n",
              "      <td>10.0</td>\n",
              "    </tr>\n",
              "  </tbody>\n",
              "</table>\n",
              "</div>\n",
              "      <button class=\"colab-df-convert\" onclick=\"convertToInteractive('df-fa302f0a-610e-430a-89d3-52aa6998bae5')\"\n",
              "              title=\"Convert this dataframe to an interactive table.\"\n",
              "              style=\"display:none;\">\n",
              "        \n",
              "  <svg xmlns=\"http://www.w3.org/2000/svg\" height=\"24px\"viewBox=\"0 0 24 24\"\n",
              "       width=\"24px\">\n",
              "    <path d=\"M0 0h24v24H0V0z\" fill=\"none\"/>\n",
              "    <path d=\"M18.56 5.44l.94 2.06.94-2.06 2.06-.94-2.06-.94-.94-2.06-.94 2.06-2.06.94zm-11 1L8.5 8.5l.94-2.06 2.06-.94-2.06-.94L8.5 2.5l-.94 2.06-2.06.94zm10 10l.94 2.06.94-2.06 2.06-.94-2.06-.94-.94-2.06-.94 2.06-2.06.94z\"/><path d=\"M17.41 7.96l-1.37-1.37c-.4-.4-.92-.59-1.43-.59-.52 0-1.04.2-1.43.59L10.3 9.45l-7.72 7.72c-.78.78-.78 2.05 0 2.83L4 21.41c.39.39.9.59 1.41.59.51 0 1.02-.2 1.41-.59l7.78-7.78 2.81-2.81c.8-.78.8-2.07 0-2.86zM5.41 20L4 18.59l7.72-7.72 1.47 1.35L5.41 20z\"/>\n",
              "  </svg>\n",
              "      </button>\n",
              "      \n",
              "  <style>\n",
              "    .colab-df-container {\n",
              "      display:flex;\n",
              "      flex-wrap:wrap;\n",
              "      gap: 12px;\n",
              "    }\n",
              "\n",
              "    .colab-df-convert {\n",
              "      background-color: #E8F0FE;\n",
              "      border: none;\n",
              "      border-radius: 50%;\n",
              "      cursor: pointer;\n",
              "      display: none;\n",
              "      fill: #1967D2;\n",
              "      height: 32px;\n",
              "      padding: 0 0 0 0;\n",
              "      width: 32px;\n",
              "    }\n",
              "\n",
              "    .colab-df-convert:hover {\n",
              "      background-color: #E2EBFA;\n",
              "      box-shadow: 0px 1px 2px rgba(60, 64, 67, 0.3), 0px 1px 3px 1px rgba(60, 64, 67, 0.15);\n",
              "      fill: #174EA6;\n",
              "    }\n",
              "\n",
              "    [theme=dark] .colab-df-convert {\n",
              "      background-color: #3B4455;\n",
              "      fill: #D2E3FC;\n",
              "    }\n",
              "\n",
              "    [theme=dark] .colab-df-convert:hover {\n",
              "      background-color: #434B5C;\n",
              "      box-shadow: 0px 1px 3px 1px rgba(0, 0, 0, 0.15);\n",
              "      filter: drop-shadow(0px 1px 2px rgba(0, 0, 0, 0.3));\n",
              "      fill: #FFFFFF;\n",
              "    }\n",
              "  </style>\n",
              "\n",
              "      <script>\n",
              "        const buttonEl =\n",
              "          document.querySelector('#df-fa302f0a-610e-430a-89d3-52aa6998bae5 button.colab-df-convert');\n",
              "        buttonEl.style.display =\n",
              "          google.colab.kernel.accessAllowed ? 'block' : 'none';\n",
              "\n",
              "        async function convertToInteractive(key) {\n",
              "          const element = document.querySelector('#df-fa302f0a-610e-430a-89d3-52aa6998bae5');\n",
              "          const dataTable =\n",
              "            await google.colab.kernel.invokeFunction('convertToInteractive',\n",
              "                                                     [key], {});\n",
              "          if (!dataTable) return;\n",
              "\n",
              "          const docLinkHtml = 'Like what you see? Visit the ' +\n",
              "            '<a target=\"_blank\" href=https://colab.research.google.com/notebooks/data_table.ipynb>data table notebook</a>'\n",
              "            + ' to learn more about interactive tables.';\n",
              "          element.innerHTML = '';\n",
              "          dataTable['output_type'] = 'display_data';\n",
              "          await google.colab.output.renderOutput(dataTable, element);\n",
              "          const docLink = document.createElement('div');\n",
              "          docLink.innerHTML = docLinkHtml;\n",
              "          element.appendChild(docLink);\n",
              "        }\n",
              "      </script>\n",
              "    </div>\n",
              "  </div>\n",
              "  "
            ]
          },
          "metadata": {},
          "execution_count": 154
        }
      ],
      "source": [
        "common_words = obama_words.join(barrio_words, lsuffix='_Obama', rsuffix='_Barrio')\n",
        "common_words.sort_values(by='count_Barrio', ascending=False).head(5)"
      ]
    },
    {
      "cell_type": "markdown",
      "metadata": {
        "id": "cS1WiGBJZaYf"
      },
      "source": [
        "Collect all words that appear both in Barack Obama and George W. Bush pages.  Out of those words, find the 10 words that show up most often in Obama's page. "
      ]
    },
    {
      "cell_type": "code",
      "execution_count": 155,
      "metadata": {
        "colab": {
          "base_uri": "https://localhost:8080/",
          "height": 363
        },
        "id": "2JkqS6pHZaYf",
        "outputId": "67b2be5f-f3b0-49cf-e140-487dcae85a9c"
      },
      "outputs": [
        {
          "output_type": "execute_result",
          "data": {
            "text/plain": [
              "       count_Obama  count_Bush\n",
              "the             40        39.0\n",
              "in              30        22.0\n",
              "and             21        14.0\n",
              "of              18        14.0\n",
              "to              14        11.0\n",
              "his             11         6.0\n",
              "obama            9         NaN\n",
              "act              8         3.0\n",
              "a                7         6.0\n",
              "he               7         8.0"
            ],
            "text/html": [
              "\n",
              "  <div id=\"df-5da43e1f-96f0-49ef-bc0a-15522e2164fb\">\n",
              "    <div class=\"colab-df-container\">\n",
              "      <div>\n",
              "<style scoped>\n",
              "    .dataframe tbody tr th:only-of-type {\n",
              "        vertical-align: middle;\n",
              "    }\n",
              "\n",
              "    .dataframe tbody tr th {\n",
              "        vertical-align: top;\n",
              "    }\n",
              "\n",
              "    .dataframe thead th {\n",
              "        text-align: right;\n",
              "    }\n",
              "</style>\n",
              "<table border=\"1\" class=\"dataframe\">\n",
              "  <thead>\n",
              "    <tr style=\"text-align: right;\">\n",
              "      <th></th>\n",
              "      <th>count_Obama</th>\n",
              "      <th>count_Bush</th>\n",
              "    </tr>\n",
              "  </thead>\n",
              "  <tbody>\n",
              "    <tr>\n",
              "      <th>the</th>\n",
              "      <td>40</td>\n",
              "      <td>39.0</td>\n",
              "    </tr>\n",
              "    <tr>\n",
              "      <th>in</th>\n",
              "      <td>30</td>\n",
              "      <td>22.0</td>\n",
              "    </tr>\n",
              "    <tr>\n",
              "      <th>and</th>\n",
              "      <td>21</td>\n",
              "      <td>14.0</td>\n",
              "    </tr>\n",
              "    <tr>\n",
              "      <th>of</th>\n",
              "      <td>18</td>\n",
              "      <td>14.0</td>\n",
              "    </tr>\n",
              "    <tr>\n",
              "      <th>to</th>\n",
              "      <td>14</td>\n",
              "      <td>11.0</td>\n",
              "    </tr>\n",
              "    <tr>\n",
              "      <th>his</th>\n",
              "      <td>11</td>\n",
              "      <td>6.0</td>\n",
              "    </tr>\n",
              "    <tr>\n",
              "      <th>obama</th>\n",
              "      <td>9</td>\n",
              "      <td>NaN</td>\n",
              "    </tr>\n",
              "    <tr>\n",
              "      <th>act</th>\n",
              "      <td>8</td>\n",
              "      <td>3.0</td>\n",
              "    </tr>\n",
              "    <tr>\n",
              "      <th>a</th>\n",
              "      <td>7</td>\n",
              "      <td>6.0</td>\n",
              "    </tr>\n",
              "    <tr>\n",
              "      <th>he</th>\n",
              "      <td>7</td>\n",
              "      <td>8.0</td>\n",
              "    </tr>\n",
              "  </tbody>\n",
              "</table>\n",
              "</div>\n",
              "      <button class=\"colab-df-convert\" onclick=\"convertToInteractive('df-5da43e1f-96f0-49ef-bc0a-15522e2164fb')\"\n",
              "              title=\"Convert this dataframe to an interactive table.\"\n",
              "              style=\"display:none;\">\n",
              "        \n",
              "  <svg xmlns=\"http://www.w3.org/2000/svg\" height=\"24px\"viewBox=\"0 0 24 24\"\n",
              "       width=\"24px\">\n",
              "    <path d=\"M0 0h24v24H0V0z\" fill=\"none\"/>\n",
              "    <path d=\"M18.56 5.44l.94 2.06.94-2.06 2.06-.94-2.06-.94-.94-2.06-.94 2.06-2.06.94zm-11 1L8.5 8.5l.94-2.06 2.06-.94-2.06-.94L8.5 2.5l-.94 2.06-2.06.94zm10 10l.94 2.06.94-2.06 2.06-.94-2.06-.94-.94-2.06-.94 2.06-2.06.94z\"/><path d=\"M17.41 7.96l-1.37-1.37c-.4-.4-.92-.59-1.43-.59-.52 0-1.04.2-1.43.59L10.3 9.45l-7.72 7.72c-.78.78-.78 2.05 0 2.83L4 21.41c.39.39.9.59 1.41.59.51 0 1.02-.2 1.41-.59l7.78-7.78 2.81-2.81c.8-.78.8-2.07 0-2.86zM5.41 20L4 18.59l7.72-7.72 1.47 1.35L5.41 20z\"/>\n",
              "  </svg>\n",
              "      </button>\n",
              "      \n",
              "  <style>\n",
              "    .colab-df-container {\n",
              "      display:flex;\n",
              "      flex-wrap:wrap;\n",
              "      gap: 12px;\n",
              "    }\n",
              "\n",
              "    .colab-df-convert {\n",
              "      background-color: #E8F0FE;\n",
              "      border: none;\n",
              "      border-radius: 50%;\n",
              "      cursor: pointer;\n",
              "      display: none;\n",
              "      fill: #1967D2;\n",
              "      height: 32px;\n",
              "      padding: 0 0 0 0;\n",
              "      width: 32px;\n",
              "    }\n",
              "\n",
              "    .colab-df-convert:hover {\n",
              "      background-color: #E2EBFA;\n",
              "      box-shadow: 0px 1px 2px rgba(60, 64, 67, 0.3), 0px 1px 3px 1px rgba(60, 64, 67, 0.15);\n",
              "      fill: #174EA6;\n",
              "    }\n",
              "\n",
              "    [theme=dark] .colab-df-convert {\n",
              "      background-color: #3B4455;\n",
              "      fill: #D2E3FC;\n",
              "    }\n",
              "\n",
              "    [theme=dark] .colab-df-convert:hover {\n",
              "      background-color: #434B5C;\n",
              "      box-shadow: 0px 1px 3px 1px rgba(0, 0, 0, 0.15);\n",
              "      filter: drop-shadow(0px 1px 2px rgba(0, 0, 0, 0.3));\n",
              "      fill: #FFFFFF;\n",
              "    }\n",
              "  </style>\n",
              "\n",
              "      <script>\n",
              "        const buttonEl =\n",
              "          document.querySelector('#df-5da43e1f-96f0-49ef-bc0a-15522e2164fb button.colab-df-convert');\n",
              "        buttonEl.style.display =\n",
              "          google.colab.kernel.accessAllowed ? 'block' : 'none';\n",
              "\n",
              "        async function convertToInteractive(key) {\n",
              "          const element = document.querySelector('#df-5da43e1f-96f0-49ef-bc0a-15522e2164fb');\n",
              "          const dataTable =\n",
              "            await google.colab.kernel.invokeFunction('convertToInteractive',\n",
              "                                                     [key], {});\n",
              "          if (!dataTable) return;\n",
              "\n",
              "          const docLinkHtml = 'Like what you see? Visit the ' +\n",
              "            '<a target=\"_blank\" href=https://colab.research.google.com/notebooks/data_table.ipynb>data table notebook</a>'\n",
              "            + ' to learn more about interactive tables.';\n",
              "          element.innerHTML = '';\n",
              "          dataTable['output_type'] = 'display_data';\n",
              "          await google.colab.output.renderOutput(dataTable, element);\n",
              "          const docLink = document.createElement('div');\n",
              "          docLink.innerHTML = docLinkHtml;\n",
              "          element.appendChild(docLink);\n",
              "        }\n",
              "      </script>\n",
              "    </div>\n",
              "  </div>\n",
              "  "
            ]
          },
          "metadata": {},
          "execution_count": 155
        }
      ],
      "source": [
        "bush_words = top_words('George W. Bush')\n",
        "# Modify the code to avoid error.\n",
        "obama_words.join(bush_words, lsuffix='_Obama', rsuffix='_Bush').head(10)"
      ]
    },
    {
      "cell_type": "markdown",
      "metadata": {
        "id": "6MzG7gbQZaYf"
      },
      "source": [
        "**Note.** Even though common words are swamping out important subtle differences, commonalities in rarer political words still matter on the margin. This is why politicians are being listed in the query result instead of musicians, for example. In the next subsection, we will introduce a different metric that will place greater emphasis on those rarer words."
      ]
    },
    {
      "cell_type": "markdown",
      "metadata": {
        "id": "9fQYncjPZaYf"
      },
      "source": [
        "**e)** Among the words that appear in both Barack Obama and Francisco Barrio, take the 15 that appear most frequently in Obama. How many of the articles in the Wikipedia dataset contain all of those 15 words? Which are they?"
      ]
    },
    {
      "cell_type": "code",
      "execution_count": 156,
      "metadata": {
        "colab": {
          "base_uri": "https://localhost:8080/"
        },
        "id": "M_Vx0MKPZaYf",
        "outputId": "83d584c0-501f-40cd-fb24-12bf9dd0a576"
      },
      "outputs": [
        {
          "output_type": "stream",
          "name": "stderr",
          "text": [
            "/usr/local/lib/python3.8/dist-packages/sklearn/utils/deprecation.py:87: FutureWarning: Function get_feature_names is deprecated; get_feature_names is deprecated in 1.0 and will be removed in 1.2. Please use get_feature_names_out instead.\n",
            "  warnings.warn(msg, category=FutureWarning)\n"
          ]
        },
        {
          "output_type": "execute_result",
          "data": {
            "text/plain": [
              "30"
            ]
          },
          "metadata": {},
          "execution_count": 156
        }
      ],
      "source": [
        "# It might be helpful to use:\n",
        "word_to_ind={v: i for i, v in enumerate(vectorizer.get_feature_names())} # a dictionary with words as keys and indices as values\n",
        "\n",
        "# Your code goes here\n",
        "words = obama_words.join(barrio_words, rsuffix='_Barrio')\n",
        "words = words.dropna()\n",
        "idx = [word_to_ind[word] for word in words.sort_values(by='count', ascending=False).iloc[:15].index]\n",
        "articles = [x for x, article in enumerate(WCmatrix[:, idx]) if article.all()]\n",
        "len(articles)"
      ]
    },
    {
      "cell_type": "markdown",
      "metadata": {
        "id": "GwcllAaXderJ"
      },
      "source": [
        "There are 30 such articles."
      ]
    },
    {
      "cell_type": "code",
      "execution_count": 157,
      "metadata": {
        "colab": {
          "base_uri": "https://localhost:8080/"
        },
        "id": "xrtrBbxJZaYf",
        "outputId": "e39008b6-0f38-4854-b98d-c71dfa0a56a0"
      },
      "outputs": [
        {
          "output_type": "execute_result",
          "data": {
            "text/plain": [
              "1177                            Donald Fowler\n",
              "1413                            Chris Redfern\n",
              "3400                            James Bilbray\n",
              "4004                              Paul Kagame\n",
              "4874                            Bernard Kenny\n",
              "6617                               Paul Sarlo\n",
              "11316                Gy%C3%B6rgy Sur%C3%A1nyi\n",
              "12371                         Morley Winograd\n",
              "12743                 David Ibarra Mu%C3%B1oz\n",
              "13229                        Francisco Barrio\n",
              "16095    Charles Taylor (Liberian politician)\n",
              "24417                           Jesse Ventura\n",
              "24478                               Joe Biden\n",
              "28447                          George W. Bush\n",
              "29505                        Arturo Vallarino\n",
              "33744                        John O. Agwunobi\n",
              "35541                            Jimmy Carter\n",
              "35817                            Barack Obama\n",
              "36452                            Bill Clinton\n",
              "38081                          John Garamendi\n",
              "39489                          Helmut Anheier\n",
              "40229                            Edward Rowny\n",
              "42934      Henry Sanders (Alabama politician)\n",
              "48253                 Saber Hossain Chowdhury\n",
              "50868                           Russell Trood\n",
              "52229                     Robert Lewis Morgan\n",
              "53102                             Ewart Brown\n",
              "54765                 Chuck Wolfe (executive)\n",
              "55495                      Lokman Singh Karki\n",
              "56172                               Hu Jintao\n",
              "Name: name, dtype: object"
            ]
          },
          "metadata": {},
          "execution_count": 157
        }
      ],
      "source": [
        "wiki.iloc[articles]['name']"
      ]
    },
    {
      "cell_type": "markdown",
      "metadata": {
        "id": "vFuQJeBoZaYg"
      },
      "source": [
        "## Ex. 3: TF-IDF to the rescue"
      ]
    },
    {
      "cell_type": "markdown",
      "metadata": {
        "id": "7riD8XVcZaYg"
      },
      "source": [
        "Much of the perceived commonalities between Obama and Barrio were due to occurrences of extremely frequent words, such as \"the\", \"and\", and \"his\". So nearest neighbors is recommending plausible results sometimes for the wrong reasons.\n",
        "\n",
        "To retrieve articles that are more relevant, we should focus more on rare words that don't happen in every article. **TF-IDF** (term frequency–inverse document frequency) is a feature representation that penalizes words that are too common."
      ]
    },
    {
      "cell_type": "markdown",
      "metadata": {
        "id": "YPdbDRhcZaYg"
      },
      "source": [
        "**a)** Repeat the search for the 10 nearest neighbors of Barack Obama with Euclidean distance of TF-IDF. This time do not limit to only 10000 most frequent words, but take all of them."
      ]
    },
    {
      "cell_type": "code",
      "execution_count": 158,
      "metadata": {
        "collapsed": true,
        "id": "8xkRIR12ZaYg"
      },
      "outputs": [],
      "source": [
        "# We could use:\n",
        "    # from sklearn.feature_extraction.text import TfidfVectorizer\n",
        "# but since we already know how to compute CountVectorizer, let's use:\n",
        "from sklearn.feature_extraction.text import TfidfTransformer\n",
        "\n",
        "vectorizer = CountVectorizer(token_pattern=r'(?u)\\b\\w+\\b', stop_words=None)\n",
        "WCmatrix = vectorizer.fit_transform(wiki['text'])\n",
        "tfidf = TfidfTransformer(smooth_idf=False, norm=None)\n",
        "TFIDFmatrix = tfidf.fit_transform(WCmatrix)"
      ]
    },
    {
      "cell_type": "code",
      "execution_count": 159,
      "metadata": {
        "colab": {
          "base_uri": "https://localhost:8080/",
          "height": 424
        },
        "id": "fcN5DtKAZaYg",
        "outputId": "7682521b-5aa8-4efa-e576-9759c6c63aa2"
      },
      "outputs": [
        {
          "output_type": "execute_result",
          "data": {
            "text/plain": [
              "                          name  BO-eucl-TF-IDF\n",
              "35817             Barack Obama        0.000000\n",
              "38376           Samantha Power      139.364493\n",
              "46811            Jeff Sessions      139.757740\n",
              "7914             Phil Schiliro      139.812175\n",
              "38714  Eric Stern (politician)      140.450064\n",
              "...                        ...             ...\n",
              "17589           Mohamed Sillah      763.523987\n",
              "18032         Akhtar Mohiuddin      867.740533\n",
              "40208                     Kcho     1173.683128\n",
              "1681                 Abe Gupta     1375.468452\n",
              "8806               Sadamu Uriu     1744.144727\n",
              "\n",
              "[59071 rows x 2 columns]"
            ],
            "text/html": [
              "\n",
              "  <div id=\"df-3e2a40c2-b5f5-401b-9666-5cd273b9e80b\">\n",
              "    <div class=\"colab-df-container\">\n",
              "      <div>\n",
              "<style scoped>\n",
              "    .dataframe tbody tr th:only-of-type {\n",
              "        vertical-align: middle;\n",
              "    }\n",
              "\n",
              "    .dataframe tbody tr th {\n",
              "        vertical-align: top;\n",
              "    }\n",
              "\n",
              "    .dataframe thead th {\n",
              "        text-align: right;\n",
              "    }\n",
              "</style>\n",
              "<table border=\"1\" class=\"dataframe\">\n",
              "  <thead>\n",
              "    <tr style=\"text-align: right;\">\n",
              "      <th></th>\n",
              "      <th>name</th>\n",
              "      <th>BO-eucl-TF-IDF</th>\n",
              "    </tr>\n",
              "  </thead>\n",
              "  <tbody>\n",
              "    <tr>\n",
              "      <th>35817</th>\n",
              "      <td>Barack Obama</td>\n",
              "      <td>0.000000</td>\n",
              "    </tr>\n",
              "    <tr>\n",
              "      <th>38376</th>\n",
              "      <td>Samantha Power</td>\n",
              "      <td>139.364493</td>\n",
              "    </tr>\n",
              "    <tr>\n",
              "      <th>46811</th>\n",
              "      <td>Jeff Sessions</td>\n",
              "      <td>139.757740</td>\n",
              "    </tr>\n",
              "    <tr>\n",
              "      <th>7914</th>\n",
              "      <td>Phil Schiliro</td>\n",
              "      <td>139.812175</td>\n",
              "    </tr>\n",
              "    <tr>\n",
              "      <th>38714</th>\n",
              "      <td>Eric Stern (politician)</td>\n",
              "      <td>140.450064</td>\n",
              "    </tr>\n",
              "    <tr>\n",
              "      <th>...</th>\n",
              "      <td>...</td>\n",
              "      <td>...</td>\n",
              "    </tr>\n",
              "    <tr>\n",
              "      <th>17589</th>\n",
              "      <td>Mohamed Sillah</td>\n",
              "      <td>763.523987</td>\n",
              "    </tr>\n",
              "    <tr>\n",
              "      <th>18032</th>\n",
              "      <td>Akhtar Mohiuddin</td>\n",
              "      <td>867.740533</td>\n",
              "    </tr>\n",
              "    <tr>\n",
              "      <th>40208</th>\n",
              "      <td>Kcho</td>\n",
              "      <td>1173.683128</td>\n",
              "    </tr>\n",
              "    <tr>\n",
              "      <th>1681</th>\n",
              "      <td>Abe Gupta</td>\n",
              "      <td>1375.468452</td>\n",
              "    </tr>\n",
              "    <tr>\n",
              "      <th>8806</th>\n",
              "      <td>Sadamu Uriu</td>\n",
              "      <td>1744.144727</td>\n",
              "    </tr>\n",
              "  </tbody>\n",
              "</table>\n",
              "<p>59071 rows × 2 columns</p>\n",
              "</div>\n",
              "      <button class=\"colab-df-convert\" onclick=\"convertToInteractive('df-3e2a40c2-b5f5-401b-9666-5cd273b9e80b')\"\n",
              "              title=\"Convert this dataframe to an interactive table.\"\n",
              "              style=\"display:none;\">\n",
              "        \n",
              "  <svg xmlns=\"http://www.w3.org/2000/svg\" height=\"24px\"viewBox=\"0 0 24 24\"\n",
              "       width=\"24px\">\n",
              "    <path d=\"M0 0h24v24H0V0z\" fill=\"none\"/>\n",
              "    <path d=\"M18.56 5.44l.94 2.06.94-2.06 2.06-.94-2.06-.94-.94-2.06-.94 2.06-2.06.94zm-11 1L8.5 8.5l.94-2.06 2.06-.94-2.06-.94L8.5 2.5l-.94 2.06-2.06.94zm10 10l.94 2.06.94-2.06 2.06-.94-2.06-.94-.94-2.06-.94 2.06-2.06.94z\"/><path d=\"M17.41 7.96l-1.37-1.37c-.4-.4-.92-.59-1.43-.59-.52 0-1.04.2-1.43.59L10.3 9.45l-7.72 7.72c-.78.78-.78 2.05 0 2.83L4 21.41c.39.39.9.59 1.41.59.51 0 1.02-.2 1.41-.59l7.78-7.78 2.81-2.81c.8-.78.8-2.07 0-2.86zM5.41 20L4 18.59l7.72-7.72 1.47 1.35L5.41 20z\"/>\n",
              "  </svg>\n",
              "      </button>\n",
              "      \n",
              "  <style>\n",
              "    .colab-df-container {\n",
              "      display:flex;\n",
              "      flex-wrap:wrap;\n",
              "      gap: 12px;\n",
              "    }\n",
              "\n",
              "    .colab-df-convert {\n",
              "      background-color: #E8F0FE;\n",
              "      border: none;\n",
              "      border-radius: 50%;\n",
              "      cursor: pointer;\n",
              "      display: none;\n",
              "      fill: #1967D2;\n",
              "      height: 32px;\n",
              "      padding: 0 0 0 0;\n",
              "      width: 32px;\n",
              "    }\n",
              "\n",
              "    .colab-df-convert:hover {\n",
              "      background-color: #E2EBFA;\n",
              "      box-shadow: 0px 1px 2px rgba(60, 64, 67, 0.3), 0px 1px 3px 1px rgba(60, 64, 67, 0.15);\n",
              "      fill: #174EA6;\n",
              "    }\n",
              "\n",
              "    [theme=dark] .colab-df-convert {\n",
              "      background-color: #3B4455;\n",
              "      fill: #D2E3FC;\n",
              "    }\n",
              "\n",
              "    [theme=dark] .colab-df-convert:hover {\n",
              "      background-color: #434B5C;\n",
              "      box-shadow: 0px 1px 3px 1px rgba(0, 0, 0, 0.15);\n",
              "      filter: drop-shadow(0px 1px 2px rgba(0, 0, 0, 0.3));\n",
              "      fill: #FFFFFF;\n",
              "    }\n",
              "  </style>\n",
              "\n",
              "      <script>\n",
              "        const buttonEl =\n",
              "          document.querySelector('#df-3e2a40c2-b5f5-401b-9666-5cd273b9e80b button.colab-df-convert');\n",
              "        buttonEl.style.display =\n",
              "          google.colab.kernel.accessAllowed ? 'block' : 'none';\n",
              "\n",
              "        async function convertToInteractive(key) {\n",
              "          const element = document.querySelector('#df-3e2a40c2-b5f5-401b-9666-5cd273b9e80b');\n",
              "          const dataTable =\n",
              "            await google.colab.kernel.invokeFunction('convertToInteractive',\n",
              "                                                     [key], {});\n",
              "          if (!dataTable) return;\n",
              "\n",
              "          const docLinkHtml = 'Like what you see? Visit the ' +\n",
              "            '<a target=\"_blank\" href=https://colab.research.google.com/notebooks/data_table.ipynb>data table notebook</a>'\n",
              "            + ' to learn more about interactive tables.';\n",
              "          element.innerHTML = '';\n",
              "          dataTable['output_type'] = 'display_data';\n",
              "          await google.colab.output.renderOutput(dataTable, element);\n",
              "          const docLink = document.createElement('div');\n",
              "          docLink.innerHTML = docLinkHtml;\n",
              "          element.appendChild(docLink);\n",
              "        }\n",
              "      </script>\n",
              "    </div>\n",
              "  </div>\n",
              "  "
            ]
          },
          "metadata": {},
          "execution_count": 159
        }
      ],
      "source": [
        "# now recompute the distances as before but for TF-IDF\n",
        "dist = pairwise_distances(X=TFIDFmatrix[wiki[wiki['name']=='Barack Obama'].index], Y=TFIDFmatrix)\n",
        "# add the distances as a column in the wiki dataframe\n",
        "wiki['BO-eucl-TF-IDF'] = dist.T\n",
        "wiki[['name', 'BO-eucl-TF-IDF']].sort_values(by='BO-eucl-TF-IDF')\n"
      ]
    },
    {
      "cell_type": "markdown",
      "metadata": {
        "id": "lxSsGU8lZaYh"
      },
      "source": [
        "Let's determine whether this list makes sense.\n",
        "* With a notable exception of Nathan Cullen, the other 8 are all American politicians who are contemporaries of Barack Obama.\n",
        "* Phil Schiliro, Jesse Lee, Samantha Power, Eric Stern, Eric Holder worked for Obama.\n",
        "\n",
        "Clearly, the results are more plausible with the use of TF-IDF. Let's take a look at the word vector for Obama and Schilirio's pages. Notice that TF-IDF representation assigns a weight to each word. This weight captures relative importance of that word in the document."
      ]
    },
    {
      "cell_type": "markdown",
      "metadata": {
        "id": "TIGy65HRZaYh"
      },
      "source": [
        "**b)** Sort the words in Obama's article by their TF-IDF weights; do the same for Schiliro's article as well.\n",
        "Using the **join** operation we learned earlier, compute the common words shared by Obama's and Schiliro's articles.\n",
        "Sort the common words by their TF-IDF weights in Obama's document."
      ]
    },
    {
      "cell_type": "code",
      "execution_count": 160,
      "metadata": {
        "collapsed": true,
        "id": "3yyEGh6iZaYh"
      },
      "outputs": [],
      "source": [
        "def top_words_tf_idf(name):\n",
        "    \"\"\"\n",
        "    Get a table of the largest tf-idf words in the given person's wikipedia page.\n",
        "    \"\"\"\n",
        "    word_to_ind={v: i for i, v in enumerate(vectorizer.get_feature_names())} # a dictionary with words as keys and indices as values\n",
        "    weightings = TFIDFmatrix[wiki[wiki['name']==name].index]\n",
        "    words = wiki[wiki['name']==name].text.values[0].split()\n",
        "    word_weightings = [weightings[0, word_to_ind[word]] for word in words]\n",
        "    df = pd.Series(word_weightings, words).to_frame('tf-idf').drop_duplicates()\n",
        "    return df.sort_values(by='tf-idf',ascending=False)"
      ]
    },
    {
      "cell_type": "code",
      "execution_count": 130,
      "metadata": {
        "colab": {
          "base_uri": "https://localhost:8080/",
          "height": 574
        },
        "id": "qeale7DfZaYh",
        "jupyter": {
          "outputs_hidden": false
        },
        "outputId": "599256d1-03bd-4814-8cd1-2d8e9b0e5ca3"
      },
      "outputs": [
        {
          "output_type": "stream",
          "name": "stderr",
          "text": [
            "/usr/local/lib/python3.8/dist-packages/sklearn/utils/deprecation.py:87: FutureWarning: Function get_feature_names is deprecated; get_feature_names is deprecated in 1.0 and will be removed in 1.2. Please use get_feature_names_out instead.\n",
            "  warnings.warn(msg, category=FutureWarning)\n"
          ]
        },
        {
          "output_type": "execute_result",
          "data": {
            "text/plain": [
              "              tf-idf_Obama  tf-idf_Schiliro\n",
              "obama            52.295653        11.621256\n",
              "the              40.004063        10.001016\n",
              "in               30.028962         5.004827\n",
              "and              21.015648         6.004471\n",
              "law              20.722936        10.361468\n",
              "of               18.074811         9.037406\n",
              "democratic       16.410689         8.205344\n",
              "to               14.657229         7.328615\n",
              "his              13.888726         1.262611\n",
              "senate           13.164288         4.388096\n",
              "president        11.226869        14.033587\n",
              "presidential      9.386955         4.693478\n",
              "he                8.493580        13.347054\n",
              "states            8.473201         2.824400\n",
              "2011              8.107041         5.404694"
            ],
            "text/html": [
              "\n",
              "  <div id=\"df-8633bc4c-5ba9-457e-b11d-7547a2e9b023\">\n",
              "    <div class=\"colab-df-container\">\n",
              "      <div>\n",
              "<style scoped>\n",
              "    .dataframe tbody tr th:only-of-type {\n",
              "        vertical-align: middle;\n",
              "    }\n",
              "\n",
              "    .dataframe tbody tr th {\n",
              "        vertical-align: top;\n",
              "    }\n",
              "\n",
              "    .dataframe thead th {\n",
              "        text-align: right;\n",
              "    }\n",
              "</style>\n",
              "<table border=\"1\" class=\"dataframe\">\n",
              "  <thead>\n",
              "    <tr style=\"text-align: right;\">\n",
              "      <th></th>\n",
              "      <th>tf-idf_Obama</th>\n",
              "      <th>tf-idf_Schiliro</th>\n",
              "    </tr>\n",
              "  </thead>\n",
              "  <tbody>\n",
              "    <tr>\n",
              "      <th>obama</th>\n",
              "      <td>52.295653</td>\n",
              "      <td>11.621256</td>\n",
              "    </tr>\n",
              "    <tr>\n",
              "      <th>the</th>\n",
              "      <td>40.004063</td>\n",
              "      <td>10.001016</td>\n",
              "    </tr>\n",
              "    <tr>\n",
              "      <th>in</th>\n",
              "      <td>30.028962</td>\n",
              "      <td>5.004827</td>\n",
              "    </tr>\n",
              "    <tr>\n",
              "      <th>and</th>\n",
              "      <td>21.015648</td>\n",
              "      <td>6.004471</td>\n",
              "    </tr>\n",
              "    <tr>\n",
              "      <th>law</th>\n",
              "      <td>20.722936</td>\n",
              "      <td>10.361468</td>\n",
              "    </tr>\n",
              "    <tr>\n",
              "      <th>of</th>\n",
              "      <td>18.074811</td>\n",
              "      <td>9.037406</td>\n",
              "    </tr>\n",
              "    <tr>\n",
              "      <th>democratic</th>\n",
              "      <td>16.410689</td>\n",
              "      <td>8.205344</td>\n",
              "    </tr>\n",
              "    <tr>\n",
              "      <th>to</th>\n",
              "      <td>14.657229</td>\n",
              "      <td>7.328615</td>\n",
              "    </tr>\n",
              "    <tr>\n",
              "      <th>his</th>\n",
              "      <td>13.888726</td>\n",
              "      <td>1.262611</td>\n",
              "    </tr>\n",
              "    <tr>\n",
              "      <th>senate</th>\n",
              "      <td>13.164288</td>\n",
              "      <td>4.388096</td>\n",
              "    </tr>\n",
              "    <tr>\n",
              "      <th>president</th>\n",
              "      <td>11.226869</td>\n",
              "      <td>14.033587</td>\n",
              "    </tr>\n",
              "    <tr>\n",
              "      <th>presidential</th>\n",
              "      <td>9.386955</td>\n",
              "      <td>4.693478</td>\n",
              "    </tr>\n",
              "    <tr>\n",
              "      <th>he</th>\n",
              "      <td>8.493580</td>\n",
              "      <td>13.347054</td>\n",
              "    </tr>\n",
              "    <tr>\n",
              "      <th>states</th>\n",
              "      <td>8.473201</td>\n",
              "      <td>2.824400</td>\n",
              "    </tr>\n",
              "    <tr>\n",
              "      <th>2011</th>\n",
              "      <td>8.107041</td>\n",
              "      <td>5.404694</td>\n",
              "    </tr>\n",
              "  </tbody>\n",
              "</table>\n",
              "</div>\n",
              "      <button class=\"colab-df-convert\" onclick=\"convertToInteractive('df-8633bc4c-5ba9-457e-b11d-7547a2e9b023')\"\n",
              "              title=\"Convert this dataframe to an interactive table.\"\n",
              "              style=\"display:none;\">\n",
              "        \n",
              "  <svg xmlns=\"http://www.w3.org/2000/svg\" height=\"24px\"viewBox=\"0 0 24 24\"\n",
              "       width=\"24px\">\n",
              "    <path d=\"M0 0h24v24H0V0z\" fill=\"none\"/>\n",
              "    <path d=\"M18.56 5.44l.94 2.06.94-2.06 2.06-.94-2.06-.94-.94-2.06-.94 2.06-2.06.94zm-11 1L8.5 8.5l.94-2.06 2.06-.94-2.06-.94L8.5 2.5l-.94 2.06-2.06.94zm10 10l.94 2.06.94-2.06 2.06-.94-2.06-.94-.94-2.06-.94 2.06-2.06.94z\"/><path d=\"M17.41 7.96l-1.37-1.37c-.4-.4-.92-.59-1.43-.59-.52 0-1.04.2-1.43.59L10.3 9.45l-7.72 7.72c-.78.78-.78 2.05 0 2.83L4 21.41c.39.39.9.59 1.41.59.51 0 1.02-.2 1.41-.59l7.78-7.78 2.81-2.81c.8-.78.8-2.07 0-2.86zM5.41 20L4 18.59l7.72-7.72 1.47 1.35L5.41 20z\"/>\n",
              "  </svg>\n",
              "      </button>\n",
              "      \n",
              "  <style>\n",
              "    .colab-df-container {\n",
              "      display:flex;\n",
              "      flex-wrap:wrap;\n",
              "      gap: 12px;\n",
              "    }\n",
              "\n",
              "    .colab-df-convert {\n",
              "      background-color: #E8F0FE;\n",
              "      border: none;\n",
              "      border-radius: 50%;\n",
              "      cursor: pointer;\n",
              "      display: none;\n",
              "      fill: #1967D2;\n",
              "      height: 32px;\n",
              "      padding: 0 0 0 0;\n",
              "      width: 32px;\n",
              "    }\n",
              "\n",
              "    .colab-df-convert:hover {\n",
              "      background-color: #E2EBFA;\n",
              "      box-shadow: 0px 1px 2px rgba(60, 64, 67, 0.3), 0px 1px 3px 1px rgba(60, 64, 67, 0.15);\n",
              "      fill: #174EA6;\n",
              "    }\n",
              "\n",
              "    [theme=dark] .colab-df-convert {\n",
              "      background-color: #3B4455;\n",
              "      fill: #D2E3FC;\n",
              "    }\n",
              "\n",
              "    [theme=dark] .colab-df-convert:hover {\n",
              "      background-color: #434B5C;\n",
              "      box-shadow: 0px 1px 3px 1px rgba(0, 0, 0, 0.15);\n",
              "      filter: drop-shadow(0px 1px 2px rgba(0, 0, 0, 0.3));\n",
              "      fill: #FFFFFF;\n",
              "    }\n",
              "  </style>\n",
              "\n",
              "      <script>\n",
              "        const buttonEl =\n",
              "          document.querySelector('#df-8633bc4c-5ba9-457e-b11d-7547a2e9b023 button.colab-df-convert');\n",
              "        buttonEl.style.display =\n",
              "          google.colab.kernel.accessAllowed ? 'block' : 'none';\n",
              "\n",
              "        async function convertToInteractive(key) {\n",
              "          const element = document.querySelector('#df-8633bc4c-5ba9-457e-b11d-7547a2e9b023');\n",
              "          const dataTable =\n",
              "            await google.colab.kernel.invokeFunction('convertToInteractive',\n",
              "                                                     [key], {});\n",
              "          if (!dataTable) return;\n",
              "\n",
              "          const docLinkHtml = 'Like what you see? Visit the ' +\n",
              "            '<a target=\"_blank\" href=https://colab.research.google.com/notebooks/data_table.ipynb>data table notebook</a>'\n",
              "            + ' to learn more about interactive tables.';\n",
              "          element.innerHTML = '';\n",
              "          dataTable['output_type'] = 'display_data';\n",
              "          await google.colab.output.renderOutput(dataTable, element);\n",
              "          const docLink = document.createElement('div');\n",
              "          docLink.innerHTML = docLinkHtml;\n",
              "          element.appendChild(docLink);\n",
              "        }\n",
              "      </script>\n",
              "    </div>\n",
              "  </div>\n",
              "  "
            ]
          },
          "metadata": {},
          "execution_count": 130
        }
      ],
      "source": [
        "obama_tf_idf = top_words_tf_idf('Barack Obama')\n",
        "schiliro_tf_idf = top_words_tf_idf('Phil Schiliro')\n",
        "common_words = obama_tf_idf.join(schiliro_tf_idf, lsuffix='_Obama', rsuffix='_Schiliro').dropna()\n",
        "common_words.head(15)"
      ]
    },
    {
      "cell_type": "markdown",
      "metadata": {
        "id": "GBiybHU1ZaYh"
      },
      "source": [
        "**c)** Among the words that appear in both Barack Obama and Phil Schiliro, take the 15 that have largest weights in Obama. How many of the articles in the Wikipedia dataset contain all of those 15 words? Which are they?"
      ]
    },
    {
      "cell_type": "code",
      "execution_count": 131,
      "metadata": {
        "colab": {
          "base_uri": "https://localhost:8080/"
        },
        "id": "TG3AibwAZaYi",
        "outputId": "bc1ae9ac-a714-4864-f1c2-744ed5e4f874"
      },
      "outputs": [
        {
          "output_type": "stream",
          "name": "stderr",
          "text": [
            "/usr/local/lib/python3.8/dist-packages/sklearn/utils/deprecation.py:87: FutureWarning: Function get_feature_names is deprecated; get_feature_names is deprecated in 1.0 and will be removed in 1.2. Please use get_feature_names_out instead.\n",
            "  warnings.warn(msg, category=FutureWarning)\n"
          ]
        },
        {
          "output_type": "execute_result",
          "data": {
            "text/plain": [
              "3"
            ]
          },
          "metadata": {},
          "execution_count": 131
        }
      ],
      "source": [
        "# It might be helpful to use:\n",
        "word_to_ind={v: i for i, v in enumerate(vectorizer.get_feature_names())} # a dictionary with words as keys and indices as values\n",
        "obama = common_words.sort_values(by='tf-idf_Obama', ascending=False).iloc[:15]\n",
        "idx = [word_to_ind[word] for word in obama.index]\n",
        "articles = WCmatrix[:, idx]\n",
        "articles = [x for x, article in enumerate(articles) if article.todense().all()]\n",
        "len(articles)"
      ]
    },
    {
      "cell_type": "code",
      "execution_count": 132,
      "metadata": {
        "colab": {
          "base_uri": "https://localhost:8080/"
        },
        "id": "OFZ6VrHtZaYi",
        "outputId": "34438bbc-d3d0-46b4-8be1-44abd969f57c"
      },
      "outputs": [
        {
          "output_type": "execute_result",
          "data": {
            "text/plain": [
              "7914     Phil Schiliro\n",
              "24478        Joe Biden\n",
              "35817     Barack Obama\n",
              "Name: name, dtype: object"
            ]
          },
          "metadata": {},
          "execution_count": 132
        }
      ],
      "source": [
        "wiki.iloc[articles]['name']"
      ]
    },
    {
      "cell_type": "markdown",
      "metadata": {
        "id": "4PiT2p4jZaYi"
      },
      "source": [
        "Notice the huge difference in this calculation using TF-IDF scores instead  of raw word counts. We've eliminated noise arising from extremely common words."
      ]
    },
    {
      "cell_type": "markdown",
      "metadata": {
        "id": "oYP-SD6DZaYi"
      },
      "source": [
        "## Ex. 4: Choosing metrics"
      ]
    },
    {
      "cell_type": "markdown",
      "metadata": {
        "id": "0F3DHiG2ZaYi"
      },
      "source": [
        "**a)** Compute the Euclidean distance between TF-IDF features of Obama and Biden."
      ]
    },
    {
      "cell_type": "code",
      "execution_count": 133,
      "metadata": {
        "colab": {
          "base_uri": "https://localhost:8080/"
        },
        "id": "w3I7_kpGZaYi",
        "outputId": "45e67e65-f3b3-4759-b298-606a2193ae8d"
      },
      "outputs": [
        {
          "output_type": "execute_result",
          "data": {
            "text/plain": [
              "148.7784541307789"
            ]
          },
          "metadata": {},
          "execution_count": 133
        }
      ],
      "source": [
        "to_search = wiki[wiki['name'].isin(['Barack Obama', 'Joe Biden'])]\n",
        "dist = pairwise_distances(TFIDFmatrix[to_search.index])[0, 1]\n",
        "dist"
      ]
    },
    {
      "cell_type": "markdown",
      "metadata": {
        "id": "I13zUCuEZaYj"
      },
      "source": [
        "The distance is larger than the distances we found for the 10 nearest neighbors, which we repeat here for readability:"
      ]
    },
    {
      "cell_type": "code",
      "execution_count": 134,
      "metadata": {
        "colab": {
          "base_uri": "https://localhost:8080/",
          "height": 363
        },
        "id": "7kN6o9WoZaYj",
        "jupyter": {
          "outputs_hidden": false
        },
        "outputId": "04158480-70a8-4077-f15f-27249007a73d"
      },
      "outputs": [
        {
          "output_type": "execute_result",
          "data": {
            "text/plain": [
              "                          name  BO-eucl-TF-IDF\n",
              "35817             Barack Obama        0.000000\n",
              "38376           Samantha Power      139.364493\n",
              "46811            Jeff Sessions      139.757740\n",
              "7914             Phil Schiliro      139.812175\n",
              "38714  Eric Stern (politician)      140.450064\n",
              "6507              Bob Menendez      141.661111\n",
              "44681   Jesse Lee (politician)      142.342440\n",
              "6796               Eric Holder      142.490179\n",
              "38495             Barney Frank      142.581337\n",
              "56008            Nathan Cullen      142.751073"
            ],
            "text/html": [
              "\n",
              "  <div id=\"df-39383126-4fd9-4cdb-95c6-22bfb7e0ec2a\">\n",
              "    <div class=\"colab-df-container\">\n",
              "      <div>\n",
              "<style scoped>\n",
              "    .dataframe tbody tr th:only-of-type {\n",
              "        vertical-align: middle;\n",
              "    }\n",
              "\n",
              "    .dataframe tbody tr th {\n",
              "        vertical-align: top;\n",
              "    }\n",
              "\n",
              "    .dataframe thead th {\n",
              "        text-align: right;\n",
              "    }\n",
              "</style>\n",
              "<table border=\"1\" class=\"dataframe\">\n",
              "  <thead>\n",
              "    <tr style=\"text-align: right;\">\n",
              "      <th></th>\n",
              "      <th>name</th>\n",
              "      <th>BO-eucl-TF-IDF</th>\n",
              "    </tr>\n",
              "  </thead>\n",
              "  <tbody>\n",
              "    <tr>\n",
              "      <th>35817</th>\n",
              "      <td>Barack Obama</td>\n",
              "      <td>0.000000</td>\n",
              "    </tr>\n",
              "    <tr>\n",
              "      <th>38376</th>\n",
              "      <td>Samantha Power</td>\n",
              "      <td>139.364493</td>\n",
              "    </tr>\n",
              "    <tr>\n",
              "      <th>46811</th>\n",
              "      <td>Jeff Sessions</td>\n",
              "      <td>139.757740</td>\n",
              "    </tr>\n",
              "    <tr>\n",
              "      <th>7914</th>\n",
              "      <td>Phil Schiliro</td>\n",
              "      <td>139.812175</td>\n",
              "    </tr>\n",
              "    <tr>\n",
              "      <th>38714</th>\n",
              "      <td>Eric Stern (politician)</td>\n",
              "      <td>140.450064</td>\n",
              "    </tr>\n",
              "    <tr>\n",
              "      <th>6507</th>\n",
              "      <td>Bob Menendez</td>\n",
              "      <td>141.661111</td>\n",
              "    </tr>\n",
              "    <tr>\n",
              "      <th>44681</th>\n",
              "      <td>Jesse Lee (politician)</td>\n",
              "      <td>142.342440</td>\n",
              "    </tr>\n",
              "    <tr>\n",
              "      <th>6796</th>\n",
              "      <td>Eric Holder</td>\n",
              "      <td>142.490179</td>\n",
              "    </tr>\n",
              "    <tr>\n",
              "      <th>38495</th>\n",
              "      <td>Barney Frank</td>\n",
              "      <td>142.581337</td>\n",
              "    </tr>\n",
              "    <tr>\n",
              "      <th>56008</th>\n",
              "      <td>Nathan Cullen</td>\n",
              "      <td>142.751073</td>\n",
              "    </tr>\n",
              "  </tbody>\n",
              "</table>\n",
              "</div>\n",
              "      <button class=\"colab-df-convert\" onclick=\"convertToInteractive('df-39383126-4fd9-4cdb-95c6-22bfb7e0ec2a')\"\n",
              "              title=\"Convert this dataframe to an interactive table.\"\n",
              "              style=\"display:none;\">\n",
              "        \n",
              "  <svg xmlns=\"http://www.w3.org/2000/svg\" height=\"24px\"viewBox=\"0 0 24 24\"\n",
              "       width=\"24px\">\n",
              "    <path d=\"M0 0h24v24H0V0z\" fill=\"none\"/>\n",
              "    <path d=\"M18.56 5.44l.94 2.06.94-2.06 2.06-.94-2.06-.94-.94-2.06-.94 2.06-2.06.94zm-11 1L8.5 8.5l.94-2.06 2.06-.94-2.06-.94L8.5 2.5l-.94 2.06-2.06.94zm10 10l.94 2.06.94-2.06 2.06-.94-2.06-.94-.94-2.06-.94 2.06-2.06.94z\"/><path d=\"M17.41 7.96l-1.37-1.37c-.4-.4-.92-.59-1.43-.59-.52 0-1.04.2-1.43.59L10.3 9.45l-7.72 7.72c-.78.78-.78 2.05 0 2.83L4 21.41c.39.39.9.59 1.41.59.51 0 1.02-.2 1.41-.59l7.78-7.78 2.81-2.81c.8-.78.8-2.07 0-2.86zM5.41 20L4 18.59l7.72-7.72 1.47 1.35L5.41 20z\"/>\n",
              "  </svg>\n",
              "      </button>\n",
              "      \n",
              "  <style>\n",
              "    .colab-df-container {\n",
              "      display:flex;\n",
              "      flex-wrap:wrap;\n",
              "      gap: 12px;\n",
              "    }\n",
              "\n",
              "    .colab-df-convert {\n",
              "      background-color: #E8F0FE;\n",
              "      border: none;\n",
              "      border-radius: 50%;\n",
              "      cursor: pointer;\n",
              "      display: none;\n",
              "      fill: #1967D2;\n",
              "      height: 32px;\n",
              "      padding: 0 0 0 0;\n",
              "      width: 32px;\n",
              "    }\n",
              "\n",
              "    .colab-df-convert:hover {\n",
              "      background-color: #E2EBFA;\n",
              "      box-shadow: 0px 1px 2px rgba(60, 64, 67, 0.3), 0px 1px 3px 1px rgba(60, 64, 67, 0.15);\n",
              "      fill: #174EA6;\n",
              "    }\n",
              "\n",
              "    [theme=dark] .colab-df-convert {\n",
              "      background-color: #3B4455;\n",
              "      fill: #D2E3FC;\n",
              "    }\n",
              "\n",
              "    [theme=dark] .colab-df-convert:hover {\n",
              "      background-color: #434B5C;\n",
              "      box-shadow: 0px 1px 3px 1px rgba(0, 0, 0, 0.15);\n",
              "      filter: drop-shadow(0px 1px 2px rgba(0, 0, 0, 0.3));\n",
              "      fill: #FFFFFF;\n",
              "    }\n",
              "  </style>\n",
              "\n",
              "      <script>\n",
              "        const buttonEl =\n",
              "          document.querySelector('#df-39383126-4fd9-4cdb-95c6-22bfb7e0ec2a button.colab-df-convert');\n",
              "        buttonEl.style.display =\n",
              "          google.colab.kernel.accessAllowed ? 'block' : 'none';\n",
              "\n",
              "        async function convertToInteractive(key) {\n",
              "          const element = document.querySelector('#df-39383126-4fd9-4cdb-95c6-22bfb7e0ec2a');\n",
              "          const dataTable =\n",
              "            await google.colab.kernel.invokeFunction('convertToInteractive',\n",
              "                                                     [key], {});\n",
              "          if (!dataTable) return;\n",
              "\n",
              "          const docLinkHtml = 'Like what you see? Visit the ' +\n",
              "            '<a target=\"_blank\" href=https://colab.research.google.com/notebooks/data_table.ipynb>data table notebook</a>'\n",
              "            + ' to learn more about interactive tables.';\n",
              "          element.innerHTML = '';\n",
              "          dataTable['output_type'] = 'display_data';\n",
              "          await google.colab.output.renderOutput(dataTable, element);\n",
              "          const docLink = document.createElement('div');\n",
              "          docLink.innerHTML = docLinkHtml;\n",
              "          element.appendChild(docLink);\n",
              "        }\n",
              "      </script>\n",
              "    </div>\n",
              "  </div>\n",
              "  "
            ]
          },
          "metadata": {},
          "execution_count": 134
        }
      ],
      "source": [
        "wiki.sort_values(by='BO-eucl-TF-IDF',ascending=True)[['name','BO-eucl-TF-IDF']][0:10]"
      ]
    },
    {
      "cell_type": "markdown",
      "metadata": {
        "id": "9TtsGGkfZaYj"
      },
      "source": [
        "But one may wonder, is Biden's article that different from Obama's, more so than, say, Schiliro's? It turns out that, when we compute nearest neighbors using the Euclidean distances, we unwittingly favor short articles over long ones."
      ]
    },
    {
      "cell_type": "markdown",
      "metadata": {
        "id": "fckFHsdSZaYj"
      },
      "source": [
        "**b)** Let us compute the length of each Wikipedia document, and examine the document lengths for the 100 nearest neighbors to Obama's page. To compute text length use the same splitting rules you used in `vectorizer`."
      ]
    },
    {
      "cell_type": "code",
      "execution_count": 135,
      "metadata": {
        "id": "E7rvfoqCZaYj",
        "jupyter": {
          "outputs_hidden": false
        }
      },
      "outputs": [],
      "source": [
        "tokenizer = vectorizer.build_tokenizer()\n",
        "\n",
        "def compute_length(row):\n",
        "# Here we could use simply:\n",
        "#     return len(row['text'].split(' '))\n",
        "    return len(tokenizer(row['text']))\n",
        "\n",
        "wiki['length'] = [compute_length(x) for x in wiki.to_dict(orient='records')]"
      ]
    },
    {
      "cell_type": "code",
      "execution_count": 136,
      "metadata": {
        "colab": {
          "base_uri": "https://localhost:8080/",
          "height": 424
        },
        "id": "4P9aJfN3ZaYj",
        "jupyter": {
          "outputs_hidden": false
        },
        "outputId": "5f23ed33-9f43-4e71-cd5e-a6484bce55ba"
      },
      "outputs": [
        {
          "output_type": "execute_result",
          "data": {
            "text/plain": [
              "                          name  length  BO-eucl-TF-IDF\n",
              "35817             Barack Obama     540        0.000000\n",
              "38376           Samantha Power     310      139.364493\n",
              "46811            Jeff Sessions     230      139.757740\n",
              "7914             Phil Schiliro     208      139.812175\n",
              "38714  Eric Stern (politician)     255      140.450064\n",
              "...                        ...     ...             ...\n",
              "12834      Mark Waller (judge)     211      146.796202\n",
              "11303          Steven Weinberg     227      146.815087\n",
              "8277          John M. Facciola     207      146.823495\n",
              "11996        Thomas H. Jackson     216      146.836489\n",
              "50366  Patrick Lipton Robinson     201      146.849274\n",
              "\n",
              "[100 rows x 3 columns]"
            ],
            "text/html": [
              "\n",
              "  <div id=\"df-9d7f04c0-cf70-4463-adb9-e67491d076d6\">\n",
              "    <div class=\"colab-df-container\">\n",
              "      <div>\n",
              "<style scoped>\n",
              "    .dataframe tbody tr th:only-of-type {\n",
              "        vertical-align: middle;\n",
              "    }\n",
              "\n",
              "    .dataframe tbody tr th {\n",
              "        vertical-align: top;\n",
              "    }\n",
              "\n",
              "    .dataframe thead th {\n",
              "        text-align: right;\n",
              "    }\n",
              "</style>\n",
              "<table border=\"1\" class=\"dataframe\">\n",
              "  <thead>\n",
              "    <tr style=\"text-align: right;\">\n",
              "      <th></th>\n",
              "      <th>name</th>\n",
              "      <th>length</th>\n",
              "      <th>BO-eucl-TF-IDF</th>\n",
              "    </tr>\n",
              "  </thead>\n",
              "  <tbody>\n",
              "    <tr>\n",
              "      <th>35817</th>\n",
              "      <td>Barack Obama</td>\n",
              "      <td>540</td>\n",
              "      <td>0.000000</td>\n",
              "    </tr>\n",
              "    <tr>\n",
              "      <th>38376</th>\n",
              "      <td>Samantha Power</td>\n",
              "      <td>310</td>\n",
              "      <td>139.364493</td>\n",
              "    </tr>\n",
              "    <tr>\n",
              "      <th>46811</th>\n",
              "      <td>Jeff Sessions</td>\n",
              "      <td>230</td>\n",
              "      <td>139.757740</td>\n",
              "    </tr>\n",
              "    <tr>\n",
              "      <th>7914</th>\n",
              "      <td>Phil Schiliro</td>\n",
              "      <td>208</td>\n",
              "      <td>139.812175</td>\n",
              "    </tr>\n",
              "    <tr>\n",
              "      <th>38714</th>\n",
              "      <td>Eric Stern (politician)</td>\n",
              "      <td>255</td>\n",
              "      <td>140.450064</td>\n",
              "    </tr>\n",
              "    <tr>\n",
              "      <th>...</th>\n",
              "      <td>...</td>\n",
              "      <td>...</td>\n",
              "      <td>...</td>\n",
              "    </tr>\n",
              "    <tr>\n",
              "      <th>12834</th>\n",
              "      <td>Mark Waller (judge)</td>\n",
              "      <td>211</td>\n",
              "      <td>146.796202</td>\n",
              "    </tr>\n",
              "    <tr>\n",
              "      <th>11303</th>\n",
              "      <td>Steven Weinberg</td>\n",
              "      <td>227</td>\n",
              "      <td>146.815087</td>\n",
              "    </tr>\n",
              "    <tr>\n",
              "      <th>8277</th>\n",
              "      <td>John M. Facciola</td>\n",
              "      <td>207</td>\n",
              "      <td>146.823495</td>\n",
              "    </tr>\n",
              "    <tr>\n",
              "      <th>11996</th>\n",
              "      <td>Thomas H. Jackson</td>\n",
              "      <td>216</td>\n",
              "      <td>146.836489</td>\n",
              "    </tr>\n",
              "    <tr>\n",
              "      <th>50366</th>\n",
              "      <td>Patrick Lipton Robinson</td>\n",
              "      <td>201</td>\n",
              "      <td>146.849274</td>\n",
              "    </tr>\n",
              "  </tbody>\n",
              "</table>\n",
              "<p>100 rows × 3 columns</p>\n",
              "</div>\n",
              "      <button class=\"colab-df-convert\" onclick=\"convertToInteractive('df-9d7f04c0-cf70-4463-adb9-e67491d076d6')\"\n",
              "              title=\"Convert this dataframe to an interactive table.\"\n",
              "              style=\"display:none;\">\n",
              "        \n",
              "  <svg xmlns=\"http://www.w3.org/2000/svg\" height=\"24px\"viewBox=\"0 0 24 24\"\n",
              "       width=\"24px\">\n",
              "    <path d=\"M0 0h24v24H0V0z\" fill=\"none\"/>\n",
              "    <path d=\"M18.56 5.44l.94 2.06.94-2.06 2.06-.94-2.06-.94-.94-2.06-.94 2.06-2.06.94zm-11 1L8.5 8.5l.94-2.06 2.06-.94-2.06-.94L8.5 2.5l-.94 2.06-2.06.94zm10 10l.94 2.06.94-2.06 2.06-.94-2.06-.94-.94-2.06-.94 2.06-2.06.94z\"/><path d=\"M17.41 7.96l-1.37-1.37c-.4-.4-.92-.59-1.43-.59-.52 0-1.04.2-1.43.59L10.3 9.45l-7.72 7.72c-.78.78-.78 2.05 0 2.83L4 21.41c.39.39.9.59 1.41.59.51 0 1.02-.2 1.41-.59l7.78-7.78 2.81-2.81c.8-.78.8-2.07 0-2.86zM5.41 20L4 18.59l7.72-7.72 1.47 1.35L5.41 20z\"/>\n",
              "  </svg>\n",
              "      </button>\n",
              "      \n",
              "  <style>\n",
              "    .colab-df-container {\n",
              "      display:flex;\n",
              "      flex-wrap:wrap;\n",
              "      gap: 12px;\n",
              "    }\n",
              "\n",
              "    .colab-df-convert {\n",
              "      background-color: #E8F0FE;\n",
              "      border: none;\n",
              "      border-radius: 50%;\n",
              "      cursor: pointer;\n",
              "      display: none;\n",
              "      fill: #1967D2;\n",
              "      height: 32px;\n",
              "      padding: 0 0 0 0;\n",
              "      width: 32px;\n",
              "    }\n",
              "\n",
              "    .colab-df-convert:hover {\n",
              "      background-color: #E2EBFA;\n",
              "      box-shadow: 0px 1px 2px rgba(60, 64, 67, 0.3), 0px 1px 3px 1px rgba(60, 64, 67, 0.15);\n",
              "      fill: #174EA6;\n",
              "    }\n",
              "\n",
              "    [theme=dark] .colab-df-convert {\n",
              "      background-color: #3B4455;\n",
              "      fill: #D2E3FC;\n",
              "    }\n",
              "\n",
              "    [theme=dark] .colab-df-convert:hover {\n",
              "      background-color: #434B5C;\n",
              "      box-shadow: 0px 1px 3px 1px rgba(0, 0, 0, 0.15);\n",
              "      filter: drop-shadow(0px 1px 2px rgba(0, 0, 0, 0.3));\n",
              "      fill: #FFFFFF;\n",
              "    }\n",
              "  </style>\n",
              "\n",
              "      <script>\n",
              "        const buttonEl =\n",
              "          document.querySelector('#df-9d7f04c0-cf70-4463-adb9-e67491d076d6 button.colab-df-convert');\n",
              "        buttonEl.style.display =\n",
              "          google.colab.kernel.accessAllowed ? 'block' : 'none';\n",
              "\n",
              "        async function convertToInteractive(key) {\n",
              "          const element = document.querySelector('#df-9d7f04c0-cf70-4463-adb9-e67491d076d6');\n",
              "          const dataTable =\n",
              "            await google.colab.kernel.invokeFunction('convertToInteractive',\n",
              "                                                     [key], {});\n",
              "          if (!dataTable) return;\n",
              "\n",
              "          const docLinkHtml = 'Like what you see? Visit the ' +\n",
              "            '<a target=\"_blank\" href=https://colab.research.google.com/notebooks/data_table.ipynb>data table notebook</a>'\n",
              "            + ' to learn more about interactive tables.';\n",
              "          element.innerHTML = '';\n",
              "          dataTable['output_type'] = 'display_data';\n",
              "          await google.colab.output.renderOutput(dataTable, element);\n",
              "          const docLink = document.createElement('div');\n",
              "          docLink.innerHTML = docLinkHtml;\n",
              "          element.appendChild(docLink);\n",
              "        }\n",
              "      </script>\n",
              "    </div>\n",
              "  </div>\n",
              "  "
            ]
          },
          "metadata": {},
          "execution_count": 136
        }
      ],
      "source": [
        "nearest_neighbors_euclidean = wiki.sort_values(by='BO-eucl-TF-IDF', ascending=True)\n",
        "nearest_neighbors_euclidean = nearest_neighbors_euclidean[['name', 'length','BO-eucl-TF-IDF']][:100]\n",
        "nearest_neighbors_euclidean"
      ]
    },
    {
      "cell_type": "markdown",
      "metadata": {
        "id": "LjBO3f_GZaYj"
      },
      "source": [
        "**c)** To see how these document lengths compare to the lengths of other documents in the corpus, make a histogram of the document lengths of Obama's 100 nearest neighbors and compare to a histogram of document lengths for all documents."
      ]
    },
    {
      "cell_type": "code",
      "execution_count": 137,
      "metadata": {
        "colab": {
          "base_uri": "https://localhost:8080/",
          "height": 369
        },
        "id": "iNnVJQ6UZaYj",
        "jupyter": {
          "outputs_hidden": false
        },
        "outputId": "4ed77708-80c7-4b8e-b6a3-3f78215a6037"
      },
      "outputs": [
        {
          "output_type": "display_data",
          "data": {
            "text/plain": [
              "<Figure size 720x360 with 1 Axes>"
            ],
            "image/png": "[encoded data removed]"
          },
          "metadata": {
            "needs_background": "light"
          }
        }
      ],
      "source": [
        "plt.figure(figsize=(10, 5))\n",
        "plt.axvline(wiki[wiki['name']=='Barack Obama']['length'].values[0], label='Lenght of Barack Obama', linestyle='--', color='black')\n",
        "plt.axvline(wiki[wiki['name']==\"Joe Biden\"]['length'].values[0], label='Lenght of Joe Biden', linestyle='--', color='green')\n",
        "plt.hist(wiki['length'], range=[0, 1000], density=True, color='black', label='Entire Wikipedia')\n",
        "plt.hist(nearest_neighbors_euclidean['length'], bins=100, density=True, color='red', alpha=0.5, label='100 NNs of Obama (Euclidean)')\n",
        "plt.legend()\n",
        "plt.tight_layout()\n",
        "plt.show()"
      ]
    },
    {
      "cell_type": "markdown",
      "metadata": {
        "id": "4KZuzAg-ZaYk"
      },
      "source": [
        "Relative to the rest of Wikipedia, nearest neighbors of Obama are overwhemingly short, most of them being shorter than 300 words. The bias towards short articles is not appropriate in this application as there is really no reason to  favor short articles over long articles (they are all Wikipedia articles, after all). Many of the Wikipedia articles are 300 words or more, and both Obama and Biden are over 300 words long.\n",
        "\n",
        "**Note**: For the interest of computation time, the dataset given here contains _excerpts_ of the articles rather than full text. For instance, the actual Wikipedia article about Obama is around 25000 words. Do not be surprised by the low numbers shown in the histogram."
      ]
    },
    {
      "cell_type": "markdown",
      "metadata": {
        "id": "43K_cWTMZaYk"
      },
      "source": [
        "**Note:** Both word-count features and TF-IDF are proportional to word frequencies. While TF-IDF penalizes very common words, longer articles tend to have longer TF-IDF vectors simply because they have more words in them."
      ]
    },
    {
      "cell_type": "markdown",
      "metadata": {
        "id": "hRx_C-lEZaYk"
      },
      "source": [
        "To remove this bias, we turn to **cosine distances**:\n",
        "$$\n",
        "d(\\mathbf{x},\\mathbf{y}) = 1 - \\frac{\\mathbf{x}^T\\mathbf{y}}{\\|\\mathbf{x}\\| \\|\\mathbf{y}\\|}\n",
        "$$\n",
        "Cosine distances let us compare word distributions of two articles of varying lengths."
      ]
    },
    {
      "cell_type": "markdown",
      "metadata": {
        "id": "53PSXp-sZaYk"
      },
      "source": [
        "**d)** Train a new nearest neighbor model, this time with cosine distances.  Then repeat the search for Obama's 100 nearest neighbors and make a plot to better visualize the effect of having used cosine distance in place of Euclidean on our TF-IDF vectors."
      ]
    },
    {
      "cell_type": "code",
      "execution_count": 138,
      "metadata": {
        "colab": {
          "base_uri": "https://localhost:8080/",
          "height": 424
        },
        "id": "j6X-DvhQZaYk",
        "jupyter": {
          "outputs_hidden": false
        },
        "outputId": "a1c1de41-cb10-4415-b79d-0bdc4bcd54fd"
      },
      "outputs": [
        {
          "output_type": "execute_result",
          "data": {
            "text/plain": [
              "                                  name  length  BO-cosine-TF-IDF\n",
              "35817                     Barack Obama     540          0.000000\n",
              "24478                        Joe Biden     414          0.572725\n",
              "57108           Hillary Rodham Clinton     580          0.616149\n",
              "38376                   Samantha Power     310          0.625797\n",
              "38714          Eric Stern (politician)     255          0.651475\n",
              "...                                ...     ...               ...\n",
              "2045             Allan Ryan (attorney)     291          0.731376\n",
              "47085                     Ray Thornton     326          0.731908\n",
              "16392  P%C3%A9ter Kov%C3%A1cs (lawyer)     365          0.732172\n",
              "55495               Lokman Singh Karki    2486          0.732608\n",
              "22304                 Chung Dong-young     886          0.732785\n",
              "\n",
              "[100 rows x 3 columns]"
            ],
            "text/html": [
              "\n",
              "  <div id=\"df-7b62c156-d676-46cf-b754-adc02f8c16e7\">\n",
              "    <div class=\"colab-df-container\">\n",
              "      <div>\n",
              "<style scoped>\n",
              "    .dataframe tbody tr th:only-of-type {\n",
              "        vertical-align: middle;\n",
              "    }\n",
              "\n",
              "    .dataframe tbody tr th {\n",
              "        vertical-align: top;\n",
              "    }\n",
              "\n",
              "    .dataframe thead th {\n",
              "        text-align: right;\n",
              "    }\n",
              "</style>\n",
              "<table border=\"1\" class=\"dataframe\">\n",
              "  <thead>\n",
              "    <tr style=\"text-align: right;\">\n",
              "      <th></th>\n",
              "      <th>name</th>\n",
              "      <th>length</th>\n",
              "      <th>BO-cosine-TF-IDF</th>\n",
              "    </tr>\n",
              "  </thead>\n",
              "  <tbody>\n",
              "    <tr>\n",
              "      <th>35817</th>\n",
              "      <td>Barack Obama</td>\n",
              "      <td>540</td>\n",
              "      <td>0.000000</td>\n",
              "    </tr>\n",
              "    <tr>\n",
              "      <th>24478</th>\n",
              "      <td>Joe Biden</td>\n",
              "      <td>414</td>\n",
              "      <td>0.572725</td>\n",
              "    </tr>\n",
              "    <tr>\n",
              "      <th>57108</th>\n",
              "      <td>Hillary Rodham Clinton</td>\n",
              "      <td>580</td>\n",
              "      <td>0.616149</td>\n",
              "    </tr>\n",
              "    <tr>\n",
              "      <th>38376</th>\n",
              "      <td>Samantha Power</td>\n",
              "      <td>310</td>\n",
              "      <td>0.625797</td>\n",
              "    </tr>\n",
              "    <tr>\n",
              "      <th>38714</th>\n",
              "      <td>Eric Stern (politician)</td>\n",
              "      <td>255</td>\n",
              "      <td>0.651475</td>\n",
              "    </tr>\n",
              "    <tr>\n",
              "      <th>...</th>\n",
              "      <td>...</td>\n",
              "      <td>...</td>\n",
              "      <td>...</td>\n",
              "    </tr>\n",
              "    <tr>\n",
              "      <th>2045</th>\n",
              "      <td>Allan Ryan (attorney)</td>\n",
              "      <td>291</td>\n",
              "      <td>0.731376</td>\n",
              "    </tr>\n",
              "    <tr>\n",
              "      <th>47085</th>\n",
              "      <td>Ray Thornton</td>\n",
              "      <td>326</td>\n",
              "      <td>0.731908</td>\n",
              "    </tr>\n",
              "    <tr>\n",
              "      <th>16392</th>\n",
              "      <td>P%C3%A9ter Kov%C3%A1cs (lawyer)</td>\n",
              "      <td>365</td>\n",
              "      <td>0.732172</td>\n",
              "    </tr>\n",
              "    <tr>\n",
              "      <th>55495</th>\n",
              "      <td>Lokman Singh Karki</td>\n",
              "      <td>2486</td>\n",
              "      <td>0.732608</td>\n",
              "    </tr>\n",
              "    <tr>\n",
              "      <th>22304</th>\n",
              "      <td>Chung Dong-young</td>\n",
              "      <td>886</td>\n",
              "      <td>0.732785</td>\n",
              "    </tr>\n",
              "  </tbody>\n",
              "</table>\n",
              "<p>100 rows × 3 columns</p>\n",
              "</div>\n",
              "      <button class=\"colab-df-convert\" onclick=\"convertToInteractive('df-7b62c156-d676-46cf-b754-adc02f8c16e7')\"\n",
              "              title=\"Convert this dataframe to an interactive table.\"\n",
              "              style=\"display:none;\">\n",
              "        \n",
              "  <svg xmlns=\"http://www.w3.org/2000/svg\" height=\"24px\"viewBox=\"0 0 24 24\"\n",
              "       width=\"24px\">\n",
              "    <path d=\"M0 0h24v24H0V0z\" fill=\"none\"/>\n",
              "    <path d=\"M18.56 5.44l.94 2.06.94-2.06 2.06-.94-2.06-.94-.94-2.06-.94 2.06-2.06.94zm-11 1L8.5 8.5l.94-2.06 2.06-.94-2.06-.94L8.5 2.5l-.94 2.06-2.06.94zm10 10l.94 2.06.94-2.06 2.06-.94-2.06-.94-.94-2.06-.94 2.06-2.06.94z\"/><path d=\"M17.41 7.96l-1.37-1.37c-.4-.4-.92-.59-1.43-.59-.52 0-1.04.2-1.43.59L10.3 9.45l-7.72 7.72c-.78.78-.78 2.05 0 2.83L4 21.41c.39.39.9.59 1.41.59.51 0 1.02-.2 1.41-.59l7.78-7.78 2.81-2.81c.8-.78.8-2.07 0-2.86zM5.41 20L4 18.59l7.72-7.72 1.47 1.35L5.41 20z\"/>\n",
              "  </svg>\n",
              "      </button>\n",
              "      \n",
              "  <style>\n",
              "    .colab-df-container {\n",
              "      display:flex;\n",
              "      flex-wrap:wrap;\n",
              "      gap: 12px;\n",
              "    }\n",
              "\n",
              "    .colab-df-convert {\n",
              "      background-color: #E8F0FE;\n",
              "      border: none;\n",
              "      border-radius: 50%;\n",
              "      cursor: pointer;\n",
              "      display: none;\n",
              "      fill: #1967D2;\n",
              "      height: 32px;\n",
              "      padding: 0 0 0 0;\n",
              "      width: 32px;\n",
              "    }\n",
              "\n",
              "    .colab-df-convert:hover {\n",
              "      background-color: #E2EBFA;\n",
              "      box-shadow: 0px 1px 2px rgba(60, 64, 67, 0.3), 0px 1px 3px 1px rgba(60, 64, 67, 0.15);\n",
              "      fill: #174EA6;\n",
              "    }\n",
              "\n",
              "    [theme=dark] .colab-df-convert {\n",
              "      background-color: #3B4455;\n",
              "      fill: #D2E3FC;\n",
              "    }\n",
              "\n",
              "    [theme=dark] .colab-df-convert:hover {\n",
              "      background-color: #434B5C;\n",
              "      box-shadow: 0px 1px 3px 1px rgba(0, 0, 0, 0.15);\n",
              "      filter: drop-shadow(0px 1px 2px rgba(0, 0, 0, 0.3));\n",
              "      fill: #FFFFFF;\n",
              "    }\n",
              "  </style>\n",
              "\n",
              "      <script>\n",
              "        const buttonEl =\n",
              "          document.querySelector('#df-7b62c156-d676-46cf-b754-adc02f8c16e7 button.colab-df-convert');\n",
              "        buttonEl.style.display =\n",
              "          google.colab.kernel.accessAllowed ? 'block' : 'none';\n",
              "\n",
              "        async function convertToInteractive(key) {\n",
              "          const element = document.querySelector('#df-7b62c156-d676-46cf-b754-adc02f8c16e7');\n",
              "          const dataTable =\n",
              "            await google.colab.kernel.invokeFunction('convertToInteractive',\n",
              "                                                     [key], {});\n",
              "          if (!dataTable) return;\n",
              "\n",
              "          const docLinkHtml = 'Like what you see? Visit the ' +\n",
              "            '<a target=\"_blank\" href=https://colab.research.google.com/notebooks/data_table.ipynb>data table notebook</a>'\n",
              "            + ' to learn more about interactive tables.';\n",
              "          element.innerHTML = '';\n",
              "          dataTable['output_type'] = 'display_data';\n",
              "          await google.colab.output.renderOutput(dataTable, element);\n",
              "          const docLink = document.createElement('div');\n",
              "          docLink.innerHTML = docLinkHtml;\n",
              "          element.appendChild(docLink);\n",
              "        }\n",
              "      </script>\n",
              "    </div>\n",
              "  </div>\n",
              "  "
            ]
          },
          "metadata": {},
          "execution_count": 138
        }
      ],
      "source": [
        "cosine_distances = pairwise_distances(TFIDFmatrix[wiki[wiki['name'] == 'Barack Obama'].index], TFIDFmatrix, metric='cosine')\n",
        "wiki['BO-cosine-TF-IDF'] = cosine_distances.T\n",
        "nearest_neighbors_cosine = wiki.sort_values(by='BO-cosine-TF-IDF', ascending=True)\n",
        "nearest_neighbors_cosine = nearest_neighbors_cosine[['name', 'length', 'BO-cosine-TF-IDF']][0:100]\n",
        "nearest_neighbors_cosine"
      ]
    },
    {
      "cell_type": "markdown",
      "metadata": {
        "id": "2D2sYqPJZaYk"
      },
      "source": [
        "From a glance at the above table, things look better.  For example, we now see Joe Biden as Barack Obama's nearest neighbor!  We also see Hillary Clinton on the list.  This list looks even more plausible as nearest neighbors of Barack Obama."
      ]
    },
    {
      "cell_type": "code",
      "execution_count": 139,
      "metadata": {
        "colab": {
          "base_uri": "https://localhost:8080/",
          "height": 369
        },
        "id": "eS1NP7YpZaYl",
        "jupyter": {
          "outputs_hidden": false
        },
        "outputId": "4eeeef7b-915b-4598-e4f2-7dc44ffe26e3"
      },
      "outputs": [
        {
          "output_type": "display_data",
          "data": {
            "text/plain": [
              "<Figure size 720x360 with 1 Axes>"
            ],
            "image/png": "[encoded data removed]"
          },
          "metadata": {
            "needs_background": "light"
          }
        }
      ],
      "source": [
        "plt.figure(figsize=(10, 5))\n",
        "plt.axvline(wiki[wiki['name']=='Barack Obama']['length'].values[0], label='Lenght of Barack Obama', linestyle='--', color='black')\n",
        "plt.axvline(wiki[wiki['name']=='Joe Biden']['length'].values[0], label='Lenght of Joe Biden', linestyle='--', color='green')\n",
        "plt.hist(wiki['length'], range=[0, 1000], density=True, color='black', label=\"Entire Wikipedia\")\n",
        "plt.hist(nearest_neighbors_euclidean[\"length\"], range=[0, 1000], bins=100, density=True, color='red', alpha=0.5, label='100 NNs of Obama (Euclidean)')\n",
        "plt.hist(nearest_neighbors_cosine['length'], bins=100, range=[0, 1000], density=True, color='blue', alpha=0.5, label='100 NNs of Obama (Cosine)')\n",
        "plt.legend()\n",
        "plt.tight_layout()\n",
        "plt.show()"
      ]
    },
    {
      "cell_type": "markdown",
      "metadata": {
        "id": "wEfqfXTiZaYl"
      },
      "source": [
        "Indeed, the 100 nearest neighbors using cosine distance provide a sampling across the range of document lengths, rather than just short articles like Euclidean distance provided."
      ]
    },
    {
      "cell_type": "markdown",
      "metadata": {
        "id": "iUn4mztcZaYl"
      },
      "source": [
        "**Moral of the story**: In deciding the features and distance measures, check if they produce results that make sense for your particular application."
      ]
    },
    {
      "cell_type": "markdown",
      "metadata": {
        "id": "Inx-omdRZaYl"
      },
      "source": [
        "## Ex. 5: Problem with cosine distances: tweets vs. long articles"
      ]
    },
    {
      "cell_type": "markdown",
      "metadata": {
        "id": "DftSPkc6ZaYl"
      },
      "source": [
        "Happily ever after? Not so fast. Cosine distances ignore all document lengths, which may be great in certain situations but not in others. For instance, consider the following (admittedly contrived) example."
      ]
    },
    {
      "cell_type": "markdown",
      "metadata": {
        "id": "ZB8-3AJEZaYl"
      },
      "source": [
        "```\n",
        "+--------------------------------------------------------+\n",
        "|                                             +--------+ |\n",
        "|  One that shall not be named                | Follow | |\n",
        "|  @username                                  +--------+ |\n",
        "|                                                        |\n",
        "|  Democratic governments control law in response to     |\n",
        "|  popular act.                                          |\n",
        "|                                                        |\n",
        "|  8:05 AM - 16 May 2016                                 |\n",
        "|                                                        |\n",
        "|  Reply   Retweet (1,332)   Like (300)                  |\n",
        "|                                                        |\n",
        "+--------------------------------------------------------+\n",
        "```"
      ]
    },
    {
      "cell_type": "markdown",
      "metadata": {
        "id": "6tU5ZJuoZaYm"
      },
      "source": [
        "**a)** Transform the tweet into TF-IDF features, using the fit to the Wikipedia dataset. (That is, let's treat this tweet as an article in our Wikipedia dataset and see what happens.) How similar is this tweet to Barack Obama's Wikipedia article? "
      ]
    },
    {
      "cell_type": "code",
      "execution_count": 140,
      "metadata": {
        "colab": {
          "base_uri": "https://localhost:8080/",
          "height": 332
        },
        "id": "BTfQsjeBZaYm",
        "outputId": "9f0e4d96-5b61-4a0a-8d32-38c67c966f27"
      },
      "outputs": [
        {
          "output_type": "execute_result",
          "data": {
            "text/plain": [
              "               tf-idf\n",
              "response     5.261462\n",
              "governments  5.167571\n",
              "control      4.721765\n",
              "act          4.459778\n",
              "democratic   4.102672\n",
              "popular      3.764479\n",
              "law          3.453823\n",
              "to           1.046945\n",
              "in           1.000965"
            ],
            "text/html": [
              "\n",
              "  <div id=\"df-eab834fa-cfe3-47c0-a5dd-ddc23a722191\">\n",
              "    <div class=\"colab-df-container\">\n",
              "      <div>\n",
              "<style scoped>\n",
              "    .dataframe tbody tr th:only-of-type {\n",
              "        vertical-align: middle;\n",
              "    }\n",
              "\n",
              "    .dataframe tbody tr th {\n",
              "        vertical-align: top;\n",
              "    }\n",
              "\n",
              "    .dataframe thead th {\n",
              "        text-align: right;\n",
              "    }\n",
              "</style>\n",
              "<table border=\"1\" class=\"dataframe\">\n",
              "  <thead>\n",
              "    <tr style=\"text-align: right;\">\n",
              "      <th></th>\n",
              "      <th>tf-idf</th>\n",
              "    </tr>\n",
              "  </thead>\n",
              "  <tbody>\n",
              "    <tr>\n",
              "      <th>response</th>\n",
              "      <td>5.261462</td>\n",
              "    </tr>\n",
              "    <tr>\n",
              "      <th>governments</th>\n",
              "      <td>5.167571</td>\n",
              "    </tr>\n",
              "    <tr>\n",
              "      <th>control</th>\n",
              "      <td>4.721765</td>\n",
              "    </tr>\n",
              "    <tr>\n",
              "      <th>act</th>\n",
              "      <td>4.459778</td>\n",
              "    </tr>\n",
              "    <tr>\n",
              "      <th>democratic</th>\n",
              "      <td>4.102672</td>\n",
              "    </tr>\n",
              "    <tr>\n",
              "      <th>popular</th>\n",
              "      <td>3.764479</td>\n",
              "    </tr>\n",
              "    <tr>\n",
              "      <th>law</th>\n",
              "      <td>3.453823</td>\n",
              "    </tr>\n",
              "    <tr>\n",
              "      <th>to</th>\n",
              "      <td>1.046945</td>\n",
              "    </tr>\n",
              "    <tr>\n",
              "      <th>in</th>\n",
              "      <td>1.000965</td>\n",
              "    </tr>\n",
              "  </tbody>\n",
              "</table>\n",
              "</div>\n",
              "      <button class=\"colab-df-convert\" onclick=\"convertToInteractive('df-eab834fa-cfe3-47c0-a5dd-ddc23a722191')\"\n",
              "              title=\"Convert this dataframe to an interactive table.\"\n",
              "              style=\"display:none;\">\n",
              "        \n",
              "  <svg xmlns=\"http://www.w3.org/2000/svg\" height=\"24px\"viewBox=\"0 0 24 24\"\n",
              "       width=\"24px\">\n",
              "    <path d=\"M0 0h24v24H0V0z\" fill=\"none\"/>\n",
              "    <path d=\"M18.56 5.44l.94 2.06.94-2.06 2.06-.94-2.06-.94-.94-2.06-.94 2.06-2.06.94zm-11 1L8.5 8.5l.94-2.06 2.06-.94-2.06-.94L8.5 2.5l-.94 2.06-2.06.94zm10 10l.94 2.06.94-2.06 2.06-.94-2.06-.94-.94-2.06-.94 2.06-2.06.94z\"/><path d=\"M17.41 7.96l-1.37-1.37c-.4-.4-.92-.59-1.43-.59-.52 0-1.04.2-1.43.59L10.3 9.45l-7.72 7.72c-.78.78-.78 2.05 0 2.83L4 21.41c.39.39.9.59 1.41.59.51 0 1.02-.2 1.41-.59l7.78-7.78 2.81-2.81c.8-.78.8-2.07 0-2.86zM5.41 20L4 18.59l7.72-7.72 1.47 1.35L5.41 20z\"/>\n",
              "  </svg>\n",
              "      </button>\n",
              "      \n",
              "  <style>\n",
              "    .colab-df-container {\n",
              "      display:flex;\n",
              "      flex-wrap:wrap;\n",
              "      gap: 12px;\n",
              "    }\n",
              "\n",
              "    .colab-df-convert {\n",
              "      background-color: #E8F0FE;\n",
              "      border: none;\n",
              "      border-radius: 50%;\n",
              "      cursor: pointer;\n",
              "      display: none;\n",
              "      fill: #1967D2;\n",
              "      height: 32px;\n",
              "      padding: 0 0 0 0;\n",
              "      width: 32px;\n",
              "    }\n",
              "\n",
              "    .colab-df-convert:hover {\n",
              "      background-color: #E2EBFA;\n",
              "      box-shadow: 0px 1px 2px rgba(60, 64, 67, 0.3), 0px 1px 3px 1px rgba(60, 64, 67, 0.15);\n",
              "      fill: #174EA6;\n",
              "    }\n",
              "\n",
              "    [theme=dark] .colab-df-convert {\n",
              "      background-color: #3B4455;\n",
              "      fill: #D2E3FC;\n",
              "    }\n",
              "\n",
              "    [theme=dark] .colab-df-convert:hover {\n",
              "      background-color: #434B5C;\n",
              "      box-shadow: 0px 1px 3px 1px rgba(0, 0, 0, 0.15);\n",
              "      filter: drop-shadow(0px 1px 2px rgba(0, 0, 0, 0.3));\n",
              "      fill: #FFFFFF;\n",
              "    }\n",
              "  </style>\n",
              "\n",
              "      <script>\n",
              "        const buttonEl =\n",
              "          document.querySelector('#df-eab834fa-cfe3-47c0-a5dd-ddc23a722191 button.colab-df-convert');\n",
              "        buttonEl.style.display =\n",
              "          google.colab.kernel.accessAllowed ? 'block' : 'none';\n",
              "\n",
              "        async function convertToInteractive(key) {\n",
              "          const element = document.querySelector('#df-eab834fa-cfe3-47c0-a5dd-ddc23a722191');\n",
              "          const dataTable =\n",
              "            await google.colab.kernel.invokeFunction('convertToInteractive',\n",
              "                                                     [key], {});\n",
              "          if (!dataTable) return;\n",
              "\n",
              "          const docLinkHtml = 'Like what you see? Visit the ' +\n",
              "            '<a target=\"_blank\" href=https://colab.research.google.com/notebooks/data_table.ipynb>data table notebook</a>'\n",
              "            + ' to learn more about interactive tables.';\n",
              "          element.innerHTML = '';\n",
              "          dataTable['output_type'] = 'display_data';\n",
              "          await google.colab.output.renderOutput(dataTable, element);\n",
              "          const docLink = document.createElement('div');\n",
              "          docLink.innerHTML = docLinkHtml;\n",
              "          element.appendChild(docLink);\n",
              "        }\n",
              "      </script>\n",
              "    </div>\n",
              "  </div>\n",
              "  "
            ]
          },
          "metadata": {},
          "execution_count": 140
        }
      ],
      "source": [
        "df = pd.DataFrame({'text': ['democratic governments control law in response to popular act']})\n",
        "\n",
        "tf = tfidf.transform(vectorizer.transform(df['text']))\n",
        "words = df['text'].values[0].split()\n",
        "word_to_ind = {v: i for i, v in enumerate(vectorizer.get_feature_names_out())}\n",
        "words_tf = [tf[0, word_to_ind[word]] for word in words]\n",
        "df = pd.Series(words_tf, words).to_frame('tf-idf')\n",
        "df.drop_duplicates(inplace=True)\n",
        "top_words_tf_idf =  df.sort_values(by='tf-idf', ascending=False)\n",
        "top_words_tf_idf"
      ]
    },
    {
      "cell_type": "markdown",
      "metadata": {
        "id": "8tow7Zf0ZaYm"
      },
      "source": [
        "Let's compare this tweet's TF-IDF vectors  to Barack Obama's Wikipedia entry."
      ]
    },
    {
      "cell_type": "code",
      "execution_count": 141,
      "metadata": {
        "colab": {
          "base_uri": "https://localhost:8080/",
          "height": 424
        },
        "id": "F0BatAU_ZaYm",
        "jupyter": {
          "outputs_hidden": false
        },
        "outputId": "c708056d-28dc-434f-c283-d561ffcc77fd"
      },
      "outputs": [
        {
          "output_type": "execute_result",
          "data": {
            "text/plain": [
              "          tf-idf\n",
              "obama  52.295653\n",
              "the    40.004063\n",
              "act    35.678223\n",
              "in     30.028962\n",
              "iraq   21.747379\n",
              "...          ...\n",
              "is      2.055233\n",
              "new     1.887235\n",
              "which   1.767431\n",
              "that    1.661407\n",
              "by      1.374553\n",
              "\n",
              "[265 rows x 1 columns]"
            ],
            "text/html": [
              "\n",
              "  <div id=\"df-e64d9da8-6e73-4fd4-a0fe-8e3fcd79775c\">\n",
              "    <div class=\"colab-df-container\">\n",
              "      <div>\n",
              "<style scoped>\n",
              "    .dataframe tbody tr th:only-of-type {\n",
              "        vertical-align: middle;\n",
              "    }\n",
              "\n",
              "    .dataframe tbody tr th {\n",
              "        vertical-align: top;\n",
              "    }\n",
              "\n",
              "    .dataframe thead th {\n",
              "        text-align: right;\n",
              "    }\n",
              "</style>\n",
              "<table border=\"1\" class=\"dataframe\">\n",
              "  <thead>\n",
              "    <tr style=\"text-align: right;\">\n",
              "      <th></th>\n",
              "      <th>tf-idf</th>\n",
              "    </tr>\n",
              "  </thead>\n",
              "  <tbody>\n",
              "    <tr>\n",
              "      <th>obama</th>\n",
              "      <td>52.295653</td>\n",
              "    </tr>\n",
              "    <tr>\n",
              "      <th>the</th>\n",
              "      <td>40.004063</td>\n",
              "    </tr>\n",
              "    <tr>\n",
              "      <th>act</th>\n",
              "      <td>35.678223</td>\n",
              "    </tr>\n",
              "    <tr>\n",
              "      <th>in</th>\n",
              "      <td>30.028962</td>\n",
              "    </tr>\n",
              "    <tr>\n",
              "      <th>iraq</th>\n",
              "      <td>21.747379</td>\n",
              "    </tr>\n",
              "    <tr>\n",
              "      <th>...</th>\n",
              "      <td>...</td>\n",
              "    </tr>\n",
              "    <tr>\n",
              "      <th>is</th>\n",
              "      <td>2.055233</td>\n",
              "    </tr>\n",
              "    <tr>\n",
              "      <th>new</th>\n",
              "      <td>1.887235</td>\n",
              "    </tr>\n",
              "    <tr>\n",
              "      <th>which</th>\n",
              "      <td>1.767431</td>\n",
              "    </tr>\n",
              "    <tr>\n",
              "      <th>that</th>\n",
              "      <td>1.661407</td>\n",
              "    </tr>\n",
              "    <tr>\n",
              "      <th>by</th>\n",
              "      <td>1.374553</td>\n",
              "    </tr>\n",
              "  </tbody>\n",
              "</table>\n",
              "<p>265 rows × 1 columns</p>\n",
              "</div>\n",
              "      <button class=\"colab-df-convert\" onclick=\"convertToInteractive('df-e64d9da8-6e73-4fd4-a0fe-8e3fcd79775c')\"\n",
              "              title=\"Convert this dataframe to an interactive table.\"\n",
              "              style=\"display:none;\">\n",
              "        \n",
              "  <svg xmlns=\"http://www.w3.org/2000/svg\" height=\"24px\"viewBox=\"0 0 24 24\"\n",
              "       width=\"24px\">\n",
              "    <path d=\"M0 0h24v24H0V0z\" fill=\"none\"/>\n",
              "    <path d=\"M18.56 5.44l.94 2.06.94-2.06 2.06-.94-2.06-.94-.94-2.06-.94 2.06-2.06.94zm-11 1L8.5 8.5l.94-2.06 2.06-.94-2.06-.94L8.5 2.5l-.94 2.06-2.06.94zm10 10l.94 2.06.94-2.06 2.06-.94-2.06-.94-.94-2.06-.94 2.06-2.06.94z\"/><path d=\"M17.41 7.96l-1.37-1.37c-.4-.4-.92-.59-1.43-.59-.52 0-1.04.2-1.43.59L10.3 9.45l-7.72 7.72c-.78.78-.78 2.05 0 2.83L4 21.41c.39.39.9.59 1.41.59.51 0 1.02-.2 1.41-.59l7.78-7.78 2.81-2.81c.8-.78.8-2.07 0-2.86zM5.41 20L4 18.59l7.72-7.72 1.47 1.35L5.41 20z\"/>\n",
              "  </svg>\n",
              "      </button>\n",
              "      \n",
              "  <style>\n",
              "    .colab-df-container {\n",
              "      display:flex;\n",
              "      flex-wrap:wrap;\n",
              "      gap: 12px;\n",
              "    }\n",
              "\n",
              "    .colab-df-convert {\n",
              "      background-color: #E8F0FE;\n",
              "      border: none;\n",
              "      border-radius: 50%;\n",
              "      cursor: pointer;\n",
              "      display: none;\n",
              "      fill: #1967D2;\n",
              "      height: 32px;\n",
              "      padding: 0 0 0 0;\n",
              "      width: 32px;\n",
              "    }\n",
              "\n",
              "    .colab-df-convert:hover {\n",
              "      background-color: #E2EBFA;\n",
              "      box-shadow: 0px 1px 2px rgba(60, 64, 67, 0.3), 0px 1px 3px 1px rgba(60, 64, 67, 0.15);\n",
              "      fill: #174EA6;\n",
              "    }\n",
              "\n",
              "    [theme=dark] .colab-df-convert {\n",
              "      background-color: #3B4455;\n",
              "      fill: #D2E3FC;\n",
              "    }\n",
              "\n",
              "    [theme=dark] .colab-df-convert:hover {\n",
              "      background-color: #434B5C;\n",
              "      box-shadow: 0px 1px 3px 1px rgba(0, 0, 0, 0.15);\n",
              "      filter: drop-shadow(0px 1px 2px rgba(0, 0, 0, 0.3));\n",
              "      fill: #FFFFFF;\n",
              "    }\n",
              "  </style>\n",
              "\n",
              "      <script>\n",
              "        const buttonEl =\n",
              "          document.querySelector('#df-e64d9da8-6e73-4fd4-a0fe-8e3fcd79775c button.colab-df-convert');\n",
              "        buttonEl.style.display =\n",
              "          google.colab.kernel.accessAllowed ? 'block' : 'none';\n",
              "\n",
              "        async function convertToInteractive(key) {\n",
              "          const element = document.querySelector('#df-e64d9da8-6e73-4fd4-a0fe-8e3fcd79775c');\n",
              "          const dataTable =\n",
              "            await google.colab.kernel.invokeFunction('convertToInteractive',\n",
              "                                                     [key], {});\n",
              "          if (!dataTable) return;\n",
              "\n",
              "          const docLinkHtml = 'Like what you see? Visit the ' +\n",
              "            '<a target=\"_blank\" href=https://colab.research.google.com/notebooks/data_table.ipynb>data table notebook</a>'\n",
              "            + ' to learn more about interactive tables.';\n",
              "          element.innerHTML = '';\n",
              "          dataTable['output_type'] = 'display_data';\n",
              "          await google.colab.output.renderOutput(dataTable, element);\n",
              "          const docLink = document.createElement('div');\n",
              "          docLink.innerHTML = docLinkHtml;\n",
              "          element.appendChild(docLink);\n",
              "        }\n",
              "      </script>\n",
              "    </div>\n",
              "  </div>\n",
              "  "
            ]
          },
          "metadata": {},
          "execution_count": 141
        }
      ],
      "source": [
        "obama_tf_idf"
      ]
    },
    {
      "cell_type": "markdown",
      "metadata": {
        "id": "UFD-MNT3ZaYn"
      },
      "source": [
        "**b)** Now, compute the cosine distance between the Barack Obama article and this tweet:"
      ]
    },
    {
      "cell_type": "code",
      "execution_count": 142,
      "metadata": {
        "colab": {
          "base_uri": "https://localhost:8080/"
        },
        "id": "DAYclW5WZaYn",
        "jupyter": {
          "outputs_hidden": false
        },
        "outputId": "01f21242-bc70-4da7-fc77-7cda2ea92a9e"
      },
      "outputs": [
        {
          "output_type": "execute_result",
          "data": {
            "text/plain": [
              "array([[0.69866453]])"
            ]
          },
          "metadata": {},
          "execution_count": 142
        }
      ],
      "source": [
        "from sklearn.metrics.pairwise import cosine_distances # for one pair of samples we can just use this function\n",
        "\n",
        "cosine_distances(TFIDFmatrix[wiki[wiki['name']=='Barack Obama'].index], tf)"
      ]
    },
    {
      "cell_type": "markdown",
      "metadata": {
        "id": "8b-SAKh0ZaYn"
      },
      "source": [
        "Let's compare this distance to the distance between the Barack Obama article and all of its Wikipedia nearest neighbors:"
      ]
    },
    {
      "cell_type": "code",
      "execution_count": 143,
      "metadata": {
        "colab": {
          "base_uri": "https://localhost:8080/",
          "height": 770
        },
        "id": "FVto-TPlZaYn",
        "jupyter": {
          "outputs_hidden": false
        },
        "outputId": "67cb73d7-c897-47bc-ef16-36059ba74bc4"
      },
      "outputs": [
        {
          "output_type": "execute_result",
          "data": {
            "text/plain": [
              "                              name  length  BO-cosine-TF-IDF\n",
              "35817                 Barack Obama     540          0.000000\n",
              "24478                    Joe Biden     414          0.572725\n",
              "57108       Hillary Rodham Clinton     580          0.616149\n",
              "38376               Samantha Power     310          0.625797\n",
              "38714      Eric Stern (politician)     255          0.651475\n",
              "28447               George W. Bush     505          0.659478\n",
              "39357                  John McCain     410          0.661645\n",
              "48693                  Artur Davis     371          0.666690\n",
              "18827                 Henry Waxman     279          0.671226\n",
              "37199      Barry Sullivan (lawyer)     893          0.673300\n",
              "46811                Jeff Sessions     230          0.673581\n",
              "36452                 Bill Clinton     524          0.675260\n",
              "6796                   Eric Holder     232          0.677451\n",
              "24848              John C. Eastman     366          0.679724\n",
              "36425         Edward B. Montgomery     331          0.681387\n",
              "14754                  Mitt Romney     502          0.681761\n",
              "35357             Lawrence Summers     413          0.687272\n",
              "47303                   John Kerry     410          0.692701\n",
              "34344  Mary Dawson (civil servant)     434          0.696581\n",
              "55181                     Ron Paul     427          0.696642\n",
              "4565           Robinson O. Everett     764          0.698133\n",
              "46140                 Robert Gibbs     257          0.698549\n",
              "52859                    Ann Lewis     634          0.698799"
            ],
            "text/html": [
              "\n",
              "  <div id=\"df-16b3d1d5-ec48-4ec0-a518-726e89287631\">\n",
              "    <div class=\"colab-df-container\">\n",
              "      <div>\n",
              "<style scoped>\n",
              "    .dataframe tbody tr th:only-of-type {\n",
              "        vertical-align: middle;\n",
              "    }\n",
              "\n",
              "    .dataframe tbody tr th {\n",
              "        vertical-align: top;\n",
              "    }\n",
              "\n",
              "    .dataframe thead th {\n",
              "        text-align: right;\n",
              "    }\n",
              "</style>\n",
              "<table border=\"1\" class=\"dataframe\">\n",
              "  <thead>\n",
              "    <tr style=\"text-align: right;\">\n",
              "      <th></th>\n",
              "      <th>name</th>\n",
              "      <th>length</th>\n",
              "      <th>BO-cosine-TF-IDF</th>\n",
              "    </tr>\n",
              "  </thead>\n",
              "  <tbody>\n",
              "    <tr>\n",
              "      <th>35817</th>\n",
              "      <td>Barack Obama</td>\n",
              "      <td>540</td>\n",
              "      <td>0.000000</td>\n",
              "    </tr>\n",
              "    <tr>\n",
              "      <th>24478</th>\n",
              "      <td>Joe Biden</td>\n",
              "      <td>414</td>\n",
              "      <td>0.572725</td>\n",
              "    </tr>\n",
              "    <tr>\n",
              "      <th>57108</th>\n",
              "      <td>Hillary Rodham Clinton</td>\n",
              "      <td>580</td>\n",
              "      <td>0.616149</td>\n",
              "    </tr>\n",
              "    <tr>\n",
              "      <th>38376</th>\n",
              "      <td>Samantha Power</td>\n",
              "      <td>310</td>\n",
              "      <td>0.625797</td>\n",
              "    </tr>\n",
              "    <tr>\n",
              "      <th>38714</th>\n",
              "      <td>Eric Stern (politician)</td>\n",
              "      <td>255</td>\n",
              "      <td>0.651475</td>\n",
              "    </tr>\n",
              "    <tr>\n",
              "      <th>28447</th>\n",
              "      <td>George W. Bush</td>\n",
              "      <td>505</td>\n",
              "      <td>0.659478</td>\n",
              "    </tr>\n",
              "    <tr>\n",
              "      <th>39357</th>\n",
              "      <td>John McCain</td>\n",
              "      <td>410</td>\n",
              "      <td>0.661645</td>\n",
              "    </tr>\n",
              "    <tr>\n",
              "      <th>48693</th>\n",
              "      <td>Artur Davis</td>\n",
              "      <td>371</td>\n",
              "      <td>0.666690</td>\n",
              "    </tr>\n",
              "    <tr>\n",
              "      <th>18827</th>\n",
              "      <td>Henry Waxman</td>\n",
              "      <td>279</td>\n",
              "      <td>0.671226</td>\n",
              "    </tr>\n",
              "    <tr>\n",
              "      <th>37199</th>\n",
              "      <td>Barry Sullivan (lawyer)</td>\n",
              "      <td>893</td>\n",
              "      <td>0.673300</td>\n",
              "    </tr>\n",
              "    <tr>\n",
              "      <th>46811</th>\n",
              "      <td>Jeff Sessions</td>\n",
              "      <td>230</td>\n",
              "      <td>0.673581</td>\n",
              "    </tr>\n",
              "    <tr>\n",
              "      <th>36452</th>\n",
              "      <td>Bill Clinton</td>\n",
              "      <td>524</td>\n",
              "      <td>0.675260</td>\n",
              "    </tr>\n",
              "    <tr>\n",
              "      <th>6796</th>\n",
              "      <td>Eric Holder</td>\n",
              "      <td>232</td>\n",
              "      <td>0.677451</td>\n",
              "    </tr>\n",
              "    <tr>\n",
              "      <th>24848</th>\n",
              "      <td>John C. Eastman</td>\n",
              "      <td>366</td>\n",
              "      <td>0.679724</td>\n",
              "    </tr>\n",
              "    <tr>\n",
              "      <th>36425</th>\n",
              "      <td>Edward B. Montgomery</td>\n",
              "      <td>331</td>\n",
              "      <td>0.681387</td>\n",
              "    </tr>\n",
              "    <tr>\n",
              "      <th>14754</th>\n",
              "      <td>Mitt Romney</td>\n",
              "      <td>502</td>\n",
              "      <td>0.681761</td>\n",
              "    </tr>\n",
              "    <tr>\n",
              "      <th>35357</th>\n",
              "      <td>Lawrence Summers</td>\n",
              "      <td>413</td>\n",
              "      <td>0.687272</td>\n",
              "    </tr>\n",
              "    <tr>\n",
              "      <th>47303</th>\n",
              "      <td>John Kerry</td>\n",
              "      <td>410</td>\n",
              "      <td>0.692701</td>\n",
              "    </tr>\n",
              "    <tr>\n",
              "      <th>34344</th>\n",
              "      <td>Mary Dawson (civil servant)</td>\n",
              "      <td>434</td>\n",
              "      <td>0.696581</td>\n",
              "    </tr>\n",
              "    <tr>\n",
              "      <th>55181</th>\n",
              "      <td>Ron Paul</td>\n",
              "      <td>427</td>\n",
              "      <td>0.696642</td>\n",
              "    </tr>\n",
              "    <tr>\n",
              "      <th>4565</th>\n",
              "      <td>Robinson O. Everett</td>\n",
              "      <td>764</td>\n",
              "      <td>0.698133</td>\n",
              "    </tr>\n",
              "    <tr>\n",
              "      <th>46140</th>\n",
              "      <td>Robert Gibbs</td>\n",
              "      <td>257</td>\n",
              "      <td>0.698549</td>\n",
              "    </tr>\n",
              "    <tr>\n",
              "      <th>52859</th>\n",
              "      <td>Ann Lewis</td>\n",
              "      <td>634</td>\n",
              "      <td>0.698799</td>\n",
              "    </tr>\n",
              "  </tbody>\n",
              "</table>\n",
              "</div>\n",
              "      <button class=\"colab-df-convert\" onclick=\"convertToInteractive('df-16b3d1d5-ec48-4ec0-a518-726e89287631')\"\n",
              "              title=\"Convert this dataframe to an interactive table.\"\n",
              "              style=\"display:none;\">\n",
              "        \n",
              "  <svg xmlns=\"http://www.w3.org/2000/svg\" height=\"24px\"viewBox=\"0 0 24 24\"\n",
              "       width=\"24px\">\n",
              "    <path d=\"M0 0h24v24H0V0z\" fill=\"none\"/>\n",
              "    <path d=\"M18.56 5.44l.94 2.06.94-2.06 2.06-.94-2.06-.94-.94-2.06-.94 2.06-2.06.94zm-11 1L8.5 8.5l.94-2.06 2.06-.94-2.06-.94L8.5 2.5l-.94 2.06-2.06.94zm10 10l.94 2.06.94-2.06 2.06-.94-2.06-.94-.94-2.06-.94 2.06-2.06.94z\"/><path d=\"M17.41 7.96l-1.37-1.37c-.4-.4-.92-.59-1.43-.59-.52 0-1.04.2-1.43.59L10.3 9.45l-7.72 7.72c-.78.78-.78 2.05 0 2.83L4 21.41c.39.39.9.59 1.41.59.51 0 1.02-.2 1.41-.59l7.78-7.78 2.81-2.81c.8-.78.8-2.07 0-2.86zM5.41 20L4 18.59l7.72-7.72 1.47 1.35L5.41 20z\"/>\n",
              "  </svg>\n",
              "      </button>\n",
              "      \n",
              "  <style>\n",
              "    .colab-df-container {\n",
              "      display:flex;\n",
              "      flex-wrap:wrap;\n",
              "      gap: 12px;\n",
              "    }\n",
              "\n",
              "    .colab-df-convert {\n",
              "      background-color: #E8F0FE;\n",
              "      border: none;\n",
              "      border-radius: 50%;\n",
              "      cursor: pointer;\n",
              "      display: none;\n",
              "      fill: #1967D2;\n",
              "      height: 32px;\n",
              "      padding: 0 0 0 0;\n",
              "      width: 32px;\n",
              "    }\n",
              "\n",
              "    .colab-df-convert:hover {\n",
              "      background-color: #E2EBFA;\n",
              "      box-shadow: 0px 1px 2px rgba(60, 64, 67, 0.3), 0px 1px 3px 1px rgba(60, 64, 67, 0.15);\n",
              "      fill: #174EA6;\n",
              "    }\n",
              "\n",
              "    [theme=dark] .colab-df-convert {\n",
              "      background-color: #3B4455;\n",
              "      fill: #D2E3FC;\n",
              "    }\n",
              "\n",
              "    [theme=dark] .colab-df-convert:hover {\n",
              "      background-color: #434B5C;\n",
              "      box-shadow: 0px 1px 3px 1px rgba(0, 0, 0, 0.15);\n",
              "      filter: drop-shadow(0px 1px 2px rgba(0, 0, 0, 0.3));\n",
              "      fill: #FFFFFF;\n",
              "    }\n",
              "  </style>\n",
              "\n",
              "      <script>\n",
              "        const buttonEl =\n",
              "          document.querySelector('#df-16b3d1d5-ec48-4ec0-a518-726e89287631 button.colab-df-convert');\n",
              "        buttonEl.style.display =\n",
              "          google.colab.kernel.accessAllowed ? 'block' : 'none';\n",
              "\n",
              "        async function convertToInteractive(key) {\n",
              "          const element = document.querySelector('#df-16b3d1d5-ec48-4ec0-a518-726e89287631');\n",
              "          const dataTable =\n",
              "            await google.colab.kernel.invokeFunction('convertToInteractive',\n",
              "                                                     [key], {});\n",
              "          if (!dataTable) return;\n",
              "\n",
              "          const docLinkHtml = 'Like what you see? Visit the ' +\n",
              "            '<a target=\"_blank\" href=https://colab.research.google.com/notebooks/data_table.ipynb>data table notebook</a>'\n",
              "            + ' to learn more about interactive tables.';\n",
              "          element.innerHTML = '';\n",
              "          dataTable['output_type'] = 'display_data';\n",
              "          await google.colab.output.renderOutput(dataTable, element);\n",
              "          const docLink = document.createElement('div');\n",
              "          docLink.innerHTML = docLinkHtml;\n",
              "          element.appendChild(docLink);\n",
              "        }\n",
              "      </script>\n",
              "    </div>\n",
              "  </div>\n",
              "  "
            ]
          },
          "metadata": {},
          "execution_count": 143
        }
      ],
      "source": [
        "nearest_neighbors_cosine[0:23]"
      ]
    },
    {
      "cell_type": "markdown",
      "metadata": {
        "id": "1LiUWwKGZaYn"
      },
      "source": [
        "With cosine distances, the tweet is \"nearer\" to Barack Obama than most people! If someone is reading the Barack Obama Wikipedia page, would you want to recommend they read this tweet?\n",
        "In practice, it is common to enforce maximum or minimum document lengths. After all, when someone is reading a long article from _The Atlantic_, you wouldn't recommend him/her a tweet."
      ]
    }
  ],
  "metadata": {
    "anaconda-cloud": {},
    "colab": {
      "provenance": []
    },
    "kernelspec": {
      "display_name": "Python 3",
      "language": "python",
      "name": "python3"
    },
    "language_info": {
      "codemirror_mode": {
        "name": "ipython",
        "version": 3
      },
      "file_extension": ".py",
      "mimetype": "text/x-python",
      "name": "python",
      "nbconvert_exporter": "python",
      "pygments_lexer": "ipython3",
      "version": "3.8.10"
    },
    "vscode": {
      "interpreter": {
        "hash": "916dbcbb3f70747c44a77c7bcd40155683ae19c65e1c03b4aa3499c5328201f1"
      }
    }
  },
  "nbformat": 4,
  "nbformat_minor": 0
}