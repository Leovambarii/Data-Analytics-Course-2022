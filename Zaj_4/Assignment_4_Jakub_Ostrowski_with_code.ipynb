{
 "cells": [
  {
   "cell_type": "markdown",
   "metadata": {},
   "source": [
    "### Today we are going to perform the simple classification of the amazon reviews' sentiment.\n",
    "\n",
    "### Please, download the dataset amazon_baby.csv."
   ]
  },
  {
   "cell_type": "code",
   "execution_count": 1,
   "metadata": {
    "collapsed": false
   },
   "outputs": [
    {
     "data": {
      "text/html": [
       "<div>\n",
       "<style scoped>\n",
       "    .dataframe tbody tr th:only-of-type {\n",
       "        vertical-align: middle;\n",
       "    }\n",
       "\n",
       "    .dataframe tbody tr th {\n",
       "        vertical-align: top;\n",
       "    }\n",
       "\n",
       "    .dataframe thead th {\n",
       "        text-align: right;\n",
       "    }\n",
       "</style>\n",
       "<table border=\"1\" class=\"dataframe\">\n",
       "  <thead>\n",
       "    <tr style=\"text-align: right;\">\n",
       "      <th></th>\n",
       "      <th>name</th>\n",
       "      <th>review</th>\n",
       "      <th>rating</th>\n",
       "    </tr>\n",
       "  </thead>\n",
       "  <tbody>\n",
       "    <tr>\n",
       "      <th>0</th>\n",
       "      <td>Planetwise Flannel Wipes</td>\n",
       "      <td>These flannel wipes are OK, but in my opinion ...</td>\n",
       "      <td>3</td>\n",
       "    </tr>\n",
       "    <tr>\n",
       "      <th>1</th>\n",
       "      <td>Planetwise Wipe Pouch</td>\n",
       "      <td>it came early and was not disappointed. i love...</td>\n",
       "      <td>5</td>\n",
       "    </tr>\n",
       "    <tr>\n",
       "      <th>2</th>\n",
       "      <td>Annas Dream Full Quilt with 2 Shams</td>\n",
       "      <td>Very soft and comfortable and warmer than it l...</td>\n",
       "      <td>5</td>\n",
       "    </tr>\n",
       "    <tr>\n",
       "      <th>3</th>\n",
       "      <td>Stop Pacifier Sucking without tears with Thumb...</td>\n",
       "      <td>This is a product well worth the purchase.  I ...</td>\n",
       "      <td>5</td>\n",
       "    </tr>\n",
       "    <tr>\n",
       "      <th>4</th>\n",
       "      <td>Stop Pacifier Sucking without tears with Thumb...</td>\n",
       "      <td>All of my kids have cried non-stop when I trie...</td>\n",
       "      <td>5</td>\n",
       "    </tr>\n",
       "  </tbody>\n",
       "</table>\n",
       "</div>"
      ],
      "text/plain": [
       "                                                name  \\\n",
       "0                           Planetwise Flannel Wipes   \n",
       "1                              Planetwise Wipe Pouch   \n",
       "2                Annas Dream Full Quilt with 2 Shams   \n",
       "3  Stop Pacifier Sucking without tears with Thumb...   \n",
       "4  Stop Pacifier Sucking without tears with Thumb...   \n",
       "\n",
       "                                              review  rating  \n",
       "0  These flannel wipes are OK, but in my opinion ...       3  \n",
       "1  it came early and was not disappointed. i love...       5  \n",
       "2  Very soft and comfortable and warmer than it l...       5  \n",
       "3  This is a product well worth the purchase.  I ...       5  \n",
       "4  All of my kids have cried non-stop when I trie...       5  "
      ]
     },
     "execution_count": 1,
     "metadata": {},
     "output_type": "execute_result"
    }
   ],
   "source": [
    "import pandas as pd\n",
    "import numpy as np\n",
    "import matplotlib.pyplot as plt\n",
    "import string\n",
    "from sklearn.linear_model import LogisticRegression\n",
    "\n",
    "def remove_punctuation(text):\n",
    "    import string\n",
    "    translator = str.maketrans('', '', string.punctuation)\n",
    "    return text.translate(translator)\n",
    "\n",
    "baby_df = pd.read_csv('amazon_baby.csv')\n",
    "baby_df.head()"
   ]
  },
  {
   "cell_type": "markdown",
   "metadata": {},
   "source": [
    "The dataset conatains 3 columns:\n",
    "* name - The name of the product\n",
    "* review - text review of given product\n",
    "* rating - numercial rating of given product"
   ]
  },
  {
   "cell_type": "markdown",
   "metadata": {},
   "source": [
    "## Exercise 1 (data preparation)\n",
    "a) Remove punctuation from reviews using the given function.   \n",
    "b) Replace all missing (nan) revies with empty \"\" string.  \n",
    "c) Drop all the entries with rating = 3, as they have neutral sentiment.   \n",
    "d) Set all positive ($\\geq$4) ratings to 1 and negative($\\leq$2) to -1."
   ]
  },
  {
   "cell_type": "code",
   "execution_count": 2,
   "metadata": {
    "collapsed": false
   },
   "outputs": [
    {
     "data": {
      "text/html": [
       "<div>\n",
       "<style scoped>\n",
       "    .dataframe tbody tr th:only-of-type {\n",
       "        vertical-align: middle;\n",
       "    }\n",
       "\n",
       "    .dataframe tbody tr th {\n",
       "        vertical-align: top;\n",
       "    }\n",
       "\n",
       "    .dataframe thead th {\n",
       "        text-align: right;\n",
       "    }\n",
       "</style>\n",
       "<table border=\"1\" class=\"dataframe\">\n",
       "  <thead>\n",
       "    <tr style=\"text-align: right;\">\n",
       "      <th></th>\n",
       "      <th>name</th>\n",
       "      <th>review</th>\n",
       "      <th>rating</th>\n",
       "    </tr>\n",
       "  </thead>\n",
       "  <tbody>\n",
       "    <tr>\n",
       "      <th>0</th>\n",
       "      <td>Planetwise Flannel Wipes</td>\n",
       "      <td>These flannel wipes are OK but in my opinion n...</td>\n",
       "      <td>3</td>\n",
       "    </tr>\n",
       "    <tr>\n",
       "      <th>1</th>\n",
       "      <td>Planetwise Wipe Pouch</td>\n",
       "      <td>it came early and was not disappointed i love ...</td>\n",
       "      <td>5</td>\n",
       "    </tr>\n",
       "    <tr>\n",
       "      <th>2</th>\n",
       "      <td>Annas Dream Full Quilt with 2 Shams</td>\n",
       "      <td>Very soft and comfortable and warmer than it l...</td>\n",
       "      <td>5</td>\n",
       "    </tr>\n",
       "    <tr>\n",
       "      <th>3</th>\n",
       "      <td>Stop Pacifier Sucking without tears with Thumb...</td>\n",
       "      <td>This is a product well worth the purchase  I h...</td>\n",
       "      <td>5</td>\n",
       "    </tr>\n",
       "    <tr>\n",
       "      <th>4</th>\n",
       "      <td>Stop Pacifier Sucking without tears with Thumb...</td>\n",
       "      <td>All of my kids have cried nonstop when I tried...</td>\n",
       "      <td>5</td>\n",
       "    </tr>\n",
       "  </tbody>\n",
       "</table>\n",
       "</div>"
      ],
      "text/plain": [
       "                                                name  \\\n",
       "0                           Planetwise Flannel Wipes   \n",
       "1                              Planetwise Wipe Pouch   \n",
       "2                Annas Dream Full Quilt with 2 Shams   \n",
       "3  Stop Pacifier Sucking without tears with Thumb...   \n",
       "4  Stop Pacifier Sucking without tears with Thumb...   \n",
       "\n",
       "                                              review  rating  \n",
       "0  These flannel wipes are OK but in my opinion n...       3  \n",
       "1  it came early and was not disappointed i love ...       5  \n",
       "2  Very soft and comfortable and warmer than it l...       5  \n",
       "3  This is a product well worth the purchase  I h...       5  \n",
       "4  All of my kids have cried nonstop when I tried...       5  "
      ]
     },
     "execution_count": 2,
     "metadata": {},
     "output_type": "execute_result"
    }
   ],
   "source": [
    "#a)\n",
    "baby_df['review'] = baby_df['review'].apply(lambda x: remove_punctuation(str(x)))\n",
    "baby_df.head()"
   ]
  },
  {
   "cell_type": "code",
   "execution_count": 3,
   "metadata": {
    "collapsed": false
   },
   "outputs": [],
   "source": [
    "#b)\n",
    "baby_df['review'] = baby_df['review'].fillna('')"
   ]
  },
  {
   "cell_type": "code",
   "execution_count": 4,
   "metadata": {
    "collapsed": false
   },
   "outputs": [
    {
     "name": "stdout",
     "output_type": "stream",
     "text": [
      "Before:  16779\n",
      "After:  0\n"
     ]
    }
   ],
   "source": [
    "#c)\n",
    "print('Before: ', sum(baby_df[\"rating\"] == 3))\n",
    "baby_df = baby_df[baby_df.rating != 3]\n",
    "print('After: ', sum(baby_df[\"rating\"] == 3))"
   ]
  },
  {
   "cell_type": "code",
   "execution_count": 5,
   "metadata": {
    "collapsed": false
   },
   "outputs": [
    {
     "name": "stdout",
     "output_type": "stream",
     "text": [
      "Before: 151569\n",
      "After: 0\n"
     ]
    },
    {
     "data": {
      "text/html": [
       "<div>\n",
       "<style scoped>\n",
       "    .dataframe tbody tr th:only-of-type {\n",
       "        vertical-align: middle;\n",
       "    }\n",
       "\n",
       "    .dataframe tbody tr th {\n",
       "        vertical-align: top;\n",
       "    }\n",
       "\n",
       "    .dataframe thead th {\n",
       "        text-align: right;\n",
       "    }\n",
       "</style>\n",
       "<table border=\"1\" class=\"dataframe\">\n",
       "  <thead>\n",
       "    <tr style=\"text-align: right;\">\n",
       "      <th></th>\n",
       "      <th>name</th>\n",
       "      <th>review</th>\n",
       "      <th>rating</th>\n",
       "    </tr>\n",
       "  </thead>\n",
       "  <tbody>\n",
       "    <tr>\n",
       "      <th>1</th>\n",
       "      <td>Planetwise Wipe Pouch</td>\n",
       "      <td>it came early and was not disappointed i love ...</td>\n",
       "      <td>1</td>\n",
       "    </tr>\n",
       "    <tr>\n",
       "      <th>2</th>\n",
       "      <td>Annas Dream Full Quilt with 2 Shams</td>\n",
       "      <td>Very soft and comfortable and warmer than it l...</td>\n",
       "      <td>1</td>\n",
       "    </tr>\n",
       "    <tr>\n",
       "      <th>3</th>\n",
       "      <td>Stop Pacifier Sucking without tears with Thumb...</td>\n",
       "      <td>This is a product well worth the purchase  I h...</td>\n",
       "      <td>1</td>\n",
       "    </tr>\n",
       "    <tr>\n",
       "      <th>4</th>\n",
       "      <td>Stop Pacifier Sucking without tears with Thumb...</td>\n",
       "      <td>All of my kids have cried nonstop when I tried...</td>\n",
       "      <td>1</td>\n",
       "    </tr>\n",
       "    <tr>\n",
       "      <th>5</th>\n",
       "      <td>Stop Pacifier Sucking without tears with Thumb...</td>\n",
       "      <td>When the Binky Fairy came to our house we didn...</td>\n",
       "      <td>1</td>\n",
       "    </tr>\n",
       "  </tbody>\n",
       "</table>\n",
       "</div>"
      ],
      "text/plain": [
       "                                                name  \\\n",
       "1                              Planetwise Wipe Pouch   \n",
       "2                Annas Dream Full Quilt with 2 Shams   \n",
       "3  Stop Pacifier Sucking without tears with Thumb...   \n",
       "4  Stop Pacifier Sucking without tears with Thumb...   \n",
       "5  Stop Pacifier Sucking without tears with Thumb...   \n",
       "\n",
       "                                              review  rating  \n",
       "1  it came early and was not disappointed i love ...       1  \n",
       "2  Very soft and comfortable and warmer than it l...       1  \n",
       "3  This is a product well worth the purchase  I h...       1  \n",
       "4  All of my kids have cried nonstop when I tried...       1  \n",
       "5  When the Binky Fairy came to our house we didn...       1  "
      ]
     },
     "execution_count": 5,
     "metadata": {},
     "output_type": "execute_result"
    }
   ],
   "source": [
    "#d) \n",
    "print('Before:', sum(baby_df[\"rating\"]**2 != 1))\n",
    "baby_df['rating'] = baby_df['rating'].apply(lambda x: 1 if x>=4 else -1)\n",
    "print('After:', sum(baby_df[\"rating\"]**2 != 1))\n",
    "baby_df.head()"
   ]
  },
  {
   "cell_type": "markdown",
   "metadata": {},
   "source": [
    "## CountVectorizer\n",
    "In order to analyze strings, we need to assign them numerical values. We will use one of the simplest string representation, which transforms strings into the $n$ dimensional vectors. The number of dimensions will be the size of our dictionary, and then the values of the vector will represent the number of appereances of the given word in the sentence."
   ]
  },
  {
   "cell_type": "code",
   "execution_count": 6,
   "metadata": {
    "collapsed": false
   },
   "outputs": [
    {
     "name": "stdout",
     "output_type": "stream",
     "text": [
      "['adore', 'and', 'apples', 'bananas', 'dislike', 'hate', 'like', 'oranges', 'they', 'we']\n",
      "[[0 0 1 0 0 0 1 0 0 1]\n",
      " [0 0 0 0 0 1 0 1 0 1]\n",
      " [1 0 0 1 0 0 0 0 0 0]\n",
      " [0 1 1 0 0 0 2 1 0 1]\n",
      " [0 0 0 1 1 0 0 0 1 0]]\n"
     ]
    },
    {
     "name": "stderr",
     "output_type": "stream",
     "text": [
      "/home/kodowanie/.local/lib/python3.8/site-packages/sklearn/utils/deprecation.py:87: FutureWarning: Function get_feature_names is deprecated; get_feature_names is deprecated in 1.0 and will be removed in 1.2. Please use get_feature_names_out instead.\n",
      "  warnings.warn(msg, category=FutureWarning)\n"
     ]
    }
   ],
   "source": [
    "from sklearn.feature_extraction.text import CountVectorizer\n",
    "\n",
    "vectorizer = CountVectorizer()\n",
    "reviews_train_example = [\"We like apples\",\n",
    "                   \"We hate oranges\",\n",
    "                   \"I adore bananas\",\n",
    "                   \"We like like apples and oranges\",\n",
    "                   \"They dislike bananas\"]\n",
    "\n",
    "X_train_example = vectorizer.fit_transform(reviews_train_example)\n",
    "\n",
    "print(vectorizer.get_feature_names())\n",
    "print(X_train_example.todense())\n",
    "\n"
   ]
  },
  {
   "cell_type": "code",
   "execution_count": 7,
   "metadata": {
    "collapsed": false
   },
   "outputs": [
    {
     "name": "stdout",
     "output_type": "stream",
     "text": [
      "[[0 0 0 1 0 0 1 0 1 0]\n",
      " [0 1 1 1 0 1 0 1 0 1]\n",
      " [0 0 0 1 0 0 0 0 0 1]]\n"
     ]
    }
   ],
   "source": [
    "reviews_test_example = [\"They like bananas\",\n",
    "                   \"We hate oranges bananas and apples\",\n",
    "                   \"We love bananas\"] #New word!\n",
    "\n",
    "X_test_example = vectorizer.transform(reviews_test_example)\n",
    "\n",
    "print(X_test_example.todense())"
   ]
  },
  {
   "cell_type": "markdown",
   "metadata": {},
   "source": [
    "We should acknowledge few facts. Firstly, CountVectorizer does not take order into account. Secondly, it ignores one-letter words (this can be changed during initialization). Finally, for test values, CountVectorizer ignores words which are not in it's dictionary."
   ]
  },
  {
   "cell_type": "markdown",
   "metadata": {},
   "source": [
    "## Exercise 2 \n",
    "a) Split dataset into training and test sets.     \n",
    "b) Transform reviews into vectors using CountVectorizer. "
   ]
  },
  {
   "cell_type": "code",
   "execution_count": 8,
   "metadata": {
    "collapsed": true
   },
   "outputs": [],
   "source": [
    "#a)\n",
    "from sklearn.model_selection import train_test_split\n",
    "X = baby_df['review'][:25000]\n",
    "y = baby_df['rating'][:25000]\n",
    "reviews_train, reviews_test, y_train, y_test = train_test_split(X, y, test_size=0.5, random_state=43)"
   ]
  },
  {
   "cell_type": "code",
   "execution_count": 9,
   "metadata": {
    "collapsed": true
   },
   "outputs": [],
   "source": [
    "#b)\n",
    "vectorizer = CountVectorizer()\n",
    "X_train = vectorizer.fit_transform(reviews_train)\n",
    "X_test = vectorizer.transform(reviews_test)"
   ]
  },
  {
   "cell_type": "markdown",
   "metadata": {},
   "source": [
    "After these transormations we have test and train sets which contain numerical values assigned to strings. This means they are ready to be analyzed."
   ]
  },
  {
   "cell_type": "markdown",
   "metadata": {},
   "source": [
    "## Exercise 3 \n",
    "a) Train LogisticRegression model on training data (reviews processed with CountVectorizer, ratings as they were).   \n",
    "b) Print 10 most positive and 10 most negative words."
   ]
  },
  {
   "cell_type": "code",
   "execution_count": 10,
   "metadata": {
    "collapsed": true
   },
   "outputs": [
    {
     "data": {
      "text/html": [
       "<style>#sk-container-id-1 {color: black;background-color: white;}#sk-container-id-1 pre{padding: 0;}#sk-container-id-1 div.sk-toggleable {background-color: white;}#sk-container-id-1 label.sk-toggleable__label {cursor: pointer;display: block;width: 100%;margin-bottom: 0;padding: 0.3em;box-sizing: border-box;text-align: center;}#sk-container-id-1 label.sk-toggleable__label-arrow:before {content: \"▸\";float: left;margin-right: 0.25em;color: #696969;}#sk-container-id-1 label.sk-toggleable__label-arrow:hover:before {color: black;}#sk-container-id-1 div.sk-estimator:hover label.sk-toggleable__label-arrow:before {color: black;}#sk-container-id-1 div.sk-toggleable__content {max-height: 0;max-width: 0;overflow: hidden;text-align: left;background-color: #f0f8ff;}#sk-container-id-1 div.sk-toggleable__content pre {margin: 0.2em;color: black;border-radius: 0.25em;background-color: #f0f8ff;}#sk-container-id-1 input.sk-toggleable__control:checked~div.sk-toggleable__content {max-height: 200px;max-width: 100%;overflow: auto;}#sk-container-id-1 input.sk-toggleable__control:checked~label.sk-toggleable__label-arrow:before {content: \"▾\";}#sk-container-id-1 div.sk-estimator input.sk-toggleable__control:checked~label.sk-toggleable__label {background-color: #d4ebff;}#sk-container-id-1 div.sk-label input.sk-toggleable__control:checked~label.sk-toggleable__label {background-color: #d4ebff;}#sk-container-id-1 input.sk-hidden--visually {border: 0;clip: rect(1px 1px 1px 1px);clip: rect(1px, 1px, 1px, 1px);height: 1px;margin: -1px;overflow: hidden;padding: 0;position: absolute;width: 1px;}#sk-container-id-1 div.sk-estimator {font-family: monospace;background-color: #f0f8ff;border: 1px dotted black;border-radius: 0.25em;box-sizing: border-box;margin-bottom: 0.5em;}#sk-container-id-1 div.sk-estimator:hover {background-color: #d4ebff;}#sk-container-id-1 div.sk-parallel-item::after {content: \"\";width: 100%;border-bottom: 1px solid gray;flex-grow: 1;}#sk-container-id-1 div.sk-label:hover label.sk-toggleable__label {background-color: #d4ebff;}#sk-container-id-1 div.sk-serial::before {content: \"\";position: absolute;border-left: 1px solid gray;box-sizing: border-box;top: 0;bottom: 0;left: 50%;z-index: 0;}#sk-container-id-1 div.sk-serial {display: flex;flex-direction: column;align-items: center;background-color: white;padding-right: 0.2em;padding-left: 0.2em;position: relative;}#sk-container-id-1 div.sk-item {position: relative;z-index: 1;}#sk-container-id-1 div.sk-parallel {display: flex;align-items: stretch;justify-content: center;background-color: white;position: relative;}#sk-container-id-1 div.sk-item::before, #sk-container-id-1 div.sk-parallel-item::before {content: \"\";position: absolute;border-left: 1px solid gray;box-sizing: border-box;top: 0;bottom: 0;left: 50%;z-index: -1;}#sk-container-id-1 div.sk-parallel-item {display: flex;flex-direction: column;z-index: 1;position: relative;background-color: white;}#sk-container-id-1 div.sk-parallel-item:first-child::after {align-self: flex-end;width: 50%;}#sk-container-id-1 div.sk-parallel-item:last-child::after {align-self: flex-start;width: 50%;}#sk-container-id-1 div.sk-parallel-item:only-child::after {width: 0;}#sk-container-id-1 div.sk-dashed-wrapped {border: 1px dashed gray;margin: 0 0.4em 0.5em 0.4em;box-sizing: border-box;padding-bottom: 0.4em;background-color: white;}#sk-container-id-1 div.sk-label label {font-family: monospace;font-weight: bold;display: inline-block;line-height: 1.2em;}#sk-container-id-1 div.sk-label-container {text-align: center;}#sk-container-id-1 div.sk-container {/* jupyter's `normalize.less` sets `[hidden] { display: none; }` but bootstrap.min.css set `[hidden] { display: none !important; }` so we also need the `!important` here to be able to override the default hidden behavior on the sphinx rendered scikit-learn.org. See: https://github.com/scikit-learn/scikit-learn/issues/21755 */display: inline-block !important;position: relative;}#sk-container-id-1 div.sk-text-repr-fallback {display: none;}</style><div id=\"sk-container-id-1\" class=\"sk-top-container\"><div class=\"sk-text-repr-fallback\"><pre>LogisticRegression(max_iter=1000)</pre><b>In a Jupyter environment, please rerun this cell to show the HTML representation or trust the notebook. <br />On GitHub, the HTML representation is unable to render, please try loading this page with nbviewer.org.</b></div><div class=\"sk-container\" hidden><div class=\"sk-item\"><div class=\"sk-estimator sk-toggleable\"><input class=\"sk-toggleable__control sk-hidden--visually\" id=\"sk-estimator-id-1\" type=\"checkbox\" checked><label for=\"sk-estimator-id-1\" class=\"sk-toggleable__label sk-toggleable__label-arrow\">LogisticRegression</label><div class=\"sk-toggleable__content\"><pre>LogisticRegression(max_iter=1000)</pre></div></div></div></div></div>"
      ],
      "text/plain": [
       "LogisticRegression(max_iter=1000)"
      ]
     },
     "execution_count": 10,
     "metadata": {},
     "output_type": "execute_result"
    }
   ],
   "source": [
    "#a)\n",
    "model = LogisticRegression(max_iter=1000)\n",
    "model.fit(X_train, y_train)"
   ]
  },
  {
   "cell_type": "code",
   "execution_count": 11,
   "metadata": {
    "collapsed": true
   },
   "outputs": [
    {
     "name": "stderr",
     "output_type": "stream",
     "text": [
      "/home/kodowanie/.local/lib/python3.8/site-packages/sklearn/utils/deprecation.py:87: FutureWarning: Function get_feature_names is deprecated; get_feature_names is deprecated in 1.0 and will be removed in 1.2. Please use get_feature_names_out instead.\n",
      "  warnings.warn(msg, category=FutureWarning)\n"
     ]
    },
    {
     "name": "stdout",
     "output_type": "stream",
     "text": [
      "Most negative words: ['poor', 'disappointed', 'worst', 'returned', 'returning', 'concept', 'worse', 'unsafe', 'horrible', 'waste']\n",
      "Most positive words: ['awesome', 'best', 'pleased', 'lifesaver', 'loves', 'love', 'perfect', 'easy', 'highly', 'excellent']\n"
     ]
    }
   ],
   "source": [
    "#b)\n",
    "coef = model.coef_.tolist().pop()\n",
    "indexes_neg = sorted(range(len(coef)), key=lambda x: coef[x])[:10]\n",
    "indexes_pos = sorted(range(len(coef)), key=lambda x: coef[x])[-10:]\n",
    "print(f'Most negative words: {[vectorizer.get_feature_names()[i] for i in indexes_neg]}')\n",
    "print(f'Most positive words: {[vectorizer.get_feature_names()[i] for i in indexes_pos]}')\n",
    "#hint: model.coef_, vectorizer.get_feature_names()"
   ]
  },
  {
   "cell_type": "markdown",
   "metadata": {},
   "source": [
    "As we can see - the given results of most positive and negative words contains words that are usually associated with positive/negative wording. This means top 10 results are satysfying."
   ]
  },
  {
   "cell_type": "markdown",
   "metadata": {},
   "source": [
    "## Exercise 4 \n",
    "a) Predict the sentiment of test data reviews.   \n",
    "b) Predict the sentiment of test data reviews in terms of probability.   \n",
    "c) Find five most positive and most negative reviews.   \n",
    "d) Calculate the accuracy of predictions."
   ]
  },
  {
   "cell_type": "code",
   "execution_count": 12,
   "metadata": {
    "collapsed": true
   },
   "outputs": [],
   "source": [
    "#a)\n",
    "sentiment = model.predict(X_test)"
   ]
  },
  {
   "cell_type": "code",
   "execution_count": 13,
   "metadata": {
    "collapsed": true
   },
   "outputs": [],
   "source": [
    "#b)\n",
    "sentiment_prob = model.predict_proba(X_test)\n",
    "#hint: model.predict_proba()"
   ]
  },
  {
   "cell_type": "code",
   "execution_count": 14,
   "metadata": {
    "collapsed": true
   },
   "outputs": [
    {
     "name": "stdout",
     "output_type": "stream",
     "text": [
      "Most negative reviews indices: [9928, 9170, 11864, 3399, 8710]\n",
      "Most positive reviews indices: [4943, 3232, 8080, 747, 4614]\n",
      "-----------------------------------\n",
      "Most negative reviews:\n",
      "Most negative review 1: I originally had the deluxe swing and my baby loved it so much so he wore it out I immediately went to purchase another and found only the Aquarium Take Along was avaliable I am concerned about its safety as it pushes his chin to his chest and also allows his head to lean to each side to the point it rests on his shoulder I believe this is set up for airway impairment I will be returning this item and will not purchase another Fisher Price product with the same seat design\n",
      "-----------------------------------\n",
      "Most negative review 2: For lightweight quick and easy transport of a toddler nothing beats this Chicco  Its built much better than the 1015 variety you can get at several big box stores or drugstores but is nearly as compact and boasts many other features the cheapest dont offer including a small basket 5point harness great maneuverability footrest  and a canopy with clever small zippered storage pockets for keys or cell phone or small toys or snacks  It even comes with a shoulder strap for easy carrying and a storage bag  Daddy is 6 and he isnt troubled pushing the Chicco while other umbrella stollers are far too short for him to push comfortably  Its only tiny drawback  no cupholder  Otherwise we citydwellers who wanted something smaller and easier to use for quick errands are DELIGHTED on all counts  Its the best 30 we ever spent on a baby item\n",
      "-----------------------------------\n",
      "Most negative review 3: I have had the new and improved daiper genie for about 14 months At first it worked great no smell at all Then everything went to he in a handbasket First the lid broke off the top now everytime I put a diaper in I have to reposition the lid Second the twister part on the lid broke so I have to turn the plastic ring on the inside the get it to tie off the daipers Third the cutter on the lid got worn down or something and it catches all the time and we have alot of problems getting it cut the bag Fourth after having it for so long my nursery stinks to high heaven I do change my genie often and its like the smell is imbedded into the plastic so no matter what I do to clean it it smells awful And as a personal complaint I cant stand that I have to either tip the genie on its side or lift the whole thing up off the floor while holding the trashbag underneath it to empty it This can be very difficult to do and on rare occasion when I havent gotten a good enough tie on the end a daiper comes flying out the top if I dont get every sausage in the trash bag on the first try This is very disgusting Does anyone else have that problemPSI have a 1 and 2 year old and use the stage 2 daipers I am going to try a Neat Diaper Disposal system and see how well it works\n",
      "-----------------------------------\n",
      "Most negative review 4: We are about to get rid of ours after 35 years and 2 kids  It was great from the time they were tiny brand new babies to about sixmonthsoldwhich is when both of our kids sat up well enough to move into the regular bathtub The formed curves and rests are perfect for various ages and even sitting directions I always loved that there were no parts other than the plug  So simple smart and affordable  Oh and inbetween kids it just sat outside on our patio except for when we used it to hold beer and ice for parties  Even after all that it was still in great enough shape for the next baby and now to be passed on to others\n",
      "-----------------------------------\n",
      "Most negative review 5: I cannot say enough good things about this product  When I had my daughter I received a big old handmedown Graco stroller from a relative but hated trying to get it all situated when I just needed to run in the store for something  It was the old kind that the carrier didnt snap into but I didnt want to get one of those big bulky systems either  Then a friend told me about the Snap N Go and I cant tell you how happy I amIt was so easy to assemble easy to figure out how to adjust the bars and SUPER lightweight very comparable to an umbrella stoller in weight  I would just lift the carrier out of the car and right into this its so easy  It also rides VERY well and the basket in the bottom is so large I can even go to the grocery store for small tripsThe best thing is that it saves you so much money over buying one of the bulky travel systems  Once my daughter outgrew at about 6 months old I just bought a cheapo stroller without all the bells and whistles which did the job for another six months until she was big enough for an umbrella strollerThis is now the gift I give at every baby shower I attend whether the mother has registered for it or not  I now use it for my son\n",
      "-----------------------------------\n",
      "Most positive reviews:\n",
      "Most positive review 1: The Dr Browns bottles have been a lifesaver for us  We were using the Avent wide necks and our son was really gassy and choking on the nipples  I had received some of these at a baby fair during my pregnancy  We switched over and within 12 hours he was a different baby  I have learned the hard way about how to stop leaks with these bottles  DONT throw away the little white disks that come with them  Youll need them to travel with these bottles or your diaper bag will be soaked  ALWAYS loosen the cap when warming  As for cleaning I just take them apart and put them in my dishwasher  They hold up well\n",
      "-----------------------------------\n",
      "Most positive review 2: We got this becase we were running out of space on our chnaging table Its a great product I can fit diapers box of wipes vaseline diaper rash cream lotion and still have some space left over\n",
      "-----------------------------------\n",
      "Most positive review 3: Bought this two years ago for my first son and it worked great This time the clay to keep the impression was awful Not sure how to describe it but it wouldnt allow for a visible footprint Sent it back and got a new one Same problem Must be an error in the current production Do not buy I ended up using an online recipe to make my own with salt and flour\n",
      "-----------------------------------\n",
      "Most positive review 4: I cant tell you how clear this monitor is  I could hear my preemie baby sucking his pacifier with the base across the room from his crib and thats not even something I normally hear when Im with him  Having two receivers is wonderful I dont have to move one from room to room depending on where Ill be  And not having batteries in the base really doesnt matter because if the electricity is out theres nothing else in the house to make noise that would prevent you from hearing baby  Its not interrupted by our high powered cordless phones or the video monitor either  I highly recommend it\n",
      "-----------------------------------\n",
      "Most positive review 5: I use these bottles and avent bottles i have an avent pumpand noticed that with the avent bottles my milk had a horrible amount of bubbles  These ones have NO BUBBLES  which means its probably better feeling for baby The size one flow is perfect for my son  He burps as soon as you sit him up this might just be because he is a fast burper  every baby is different and he has spit up only twice  He is one week oldThe only problem I have is that I cannot find an adapter that will fit my avent pump and fit these bottles to pump directly into them which makes the avent bottles a little more convenient with breastmilk and playtex doesnt make a hand pumpWhen I decide to stop pumping Ill definitely give him these bottles exclusively\n",
      "-----------------------------------\n"
     ]
    }
   ],
   "source": [
    "#c) \n",
    "neg_sentiment = sorted(range(len(sentiment_prob)), key=lambda x:sentiment_prob[:, 0][x])[-5:]\n",
    "pos_sentiment = sorted(range(len(sentiment_prob)), key=lambda x:sentiment_prob[:, 1][x])[-5:]\n",
    "print(f'Most negative reviews indices: {neg_sentiment}')\n",
    "print(f'Most positive reviews indices: {pos_sentiment}')\n",
    "reviews_neg = [np.array(baby_df['review'])[x] for x in neg_sentiment]\n",
    "reviews_pos = [np.array(baby_df['review'])[x] for x in pos_sentiment]\n",
    "print('-----------------------------------')\n",
    "print('Most negative reviews:')\n",
    "for i in range(len(reviews_neg)):\n",
    "    print(f'Most negative review {i+1}: {reviews_neg[i]}')\n",
    "    print('-----------------------------------')\n",
    "print('Most positive reviews:')\n",
    "for i in range(len(reviews_pos)):\n",
    "    print(f'Most positive review {i+1}: {reviews_pos[i]}')\n",
    "    print('-----------------------------------')\n",
    "\n",
    "#hint: use the results of b)"
   ]
  },
  {
   "cell_type": "markdown",
   "metadata": {},
   "source": [
    "Comparing to top 10 positive/negative words, there is a difference between results in positive/negative reviews. The reviews from given results usually have a positive sentiment, however the prediction is based on weighting of each word. This means that if there is a word with large negative sentiment in a review with mostly positive sentiment words but with low weigthings - the overall review sentiment will be negative. Because of that, the results are expected to be as they are given."
   ]
  },
  {
   "cell_type": "code",
   "execution_count": 15,
   "metadata": {
    "collapsed": true
   },
   "outputs": [
    {
     "name": "stdout",
     "output_type": "stream",
     "text": [
      "Accuracy: 0.9008\n"
     ]
    }
   ],
   "source": [
    "#d) \n",
    "acc_1 = model.score(X_test, y_test)\n",
    "print(f'Accuracy: {acc_1}')"
   ]
  },
  {
   "cell_type": "markdown",
   "metadata": {},
   "source": [
    "The score of the model is fairly high so the model seems well trained."
   ]
  },
  {
   "cell_type": "markdown",
   "metadata": {},
   "source": [
    "## Exercise 5\n",
    "In this exercise we will limit the dictionary of CountVectorizer to the set of significant words, defined below.\n",
    "\n",
    "\n",
    "a) Redo exercises 2-5 using limited dictionary.   \n",
    "b) Check the impact of all the words from the dictionary.   \n",
    "c) Compare accuracy of predictions and the time of evaluation."
   ]
  },
  {
   "cell_type": "code",
   "execution_count": 16,
   "metadata": {},
   "outputs": [],
   "source": [
    "significant_words = ['love','great','easy','old','little','perfect','loves','well','able','car','broke','less','even','waste','disappointed','work','product','money','would','return']"
   ]
  },
  {
   "cell_type": "code",
   "execution_count": 17,
   "metadata": {
    "collapsed": true
   },
   "outputs": [
    {
     "name": "stdout",
     "output_type": "stream",
     "text": [
      "Most negative words: ['disappointed', 'waste', 'return', 'broke', 'money', 'work', 'even', 'would', 'product', 'less']\n",
      "Most positive words: ['old', 'car', 'able', 'well', 'little', 'great', 'easy', 'love', 'perfect', 'loves']\n",
      "Most negative reviews indices: [54636, 59656, 24581, 23107, 74902]\n",
      "Most positive reviews indices: [60336, 60515, 10503, 57036, 66569]\n",
      "-----------------------------------\n",
      "Most negative reviews:\n",
      "Most negative review 1: These are so useful when going out to eat  My son loves the images on them as well  Glad I found out about them\n",
      "-----------------------------------\n",
      "Most negative review 2: This bed works well with my special needs grandson He sleeps great on it The only thing I did not like was it takes awhile to inflate  its Loud\n",
      "-----------------------------------\n",
      "Most negative review 3: I got this for my son when he was still not steady sitting up for long periods I really like the extra cushioning and it packed up really well But it did not fit the carts at Target or the grocery stores in my area\n",
      "-----------------------------------\n",
      "Most negative review 4: I bought this sheet for my Graco Pack n Play and it fits great  Its very soft and looks great wash after wash\n",
      "-----------------------------------\n",
      "Most negative review 5: We bought this for our daughter when we were looking for a transitional toy to help our 15month daughter transition to sleeping in her own room  We already owned 3 larger Zoobies for our older daughters but they were too large to be an everywhere toy  Our daughter became attached to Gigi immediately  This is the PERFECT size to fit in the diaper bag attach to the stroller etc  She is now 20mos and enjoys playing with the velcro closure and zipper on the blanket  I cant recommend Zoobie babies more for little ones under 3\n",
      "-----------------------------------\n",
      "Most positive reviews:\n",
      "Most positive review 1: This is a great seat I recently purchased two for my 3 year old daughter She is not quite tall enough to use the seatbelt yet so the harness fits just right the I did a lot of research on safety before purchasing and this got great reviews She is comfy and loves the fact that she got to pick the seat in different colors for each car \n",
      "-----------------------------------\n",
      "Most positive review 2: Cute idea but I didnt realize when I bought this that the pacifier is actually sewn to the stuffed animal  I purchased it thinking I could attach my own pacifiers  to this stuffed animal but instead it came with its own pacifier actually sewn to it  Thankfully it came with the same pacifier I use Philips 2 Pack AVENT Soothie Pacifier Green 03 Months However I like to boil pacifiers before initial use cant do that here and was hoping to be able to use the stuffed animal for different Nuk pacifiers as they wear down etc  Had I know that it wasnt a pacifier holder but rather an allinone deal I wouldnt have purchased this product Bummer\n",
      "-----------------------------------\n",
      "Most positive review 3: We have a 6 month old and use this as our high chair It has been great so farvery easy to use and clean I havent tried to travel with it yet and our daughter is still using the tray so I havent tried to push it under the table yet I think its a great value for the price\n",
      "-----------------------------------\n",
      "Most positive review 4: YOU WOULD BE BETTER OFF WITH THE PADS FOR TRAINING PUPPIESOR SEVERAL LAYERS OF TOWELS  ANYTHING BUT THIS  FALSECONFIDENCE MAKES YOU TRUST IT WHEN IT HAS THE CAPACITY FORPERHAPS ONE CUP OF URINE DEFINITELY NOT MORE CONSEQUENCESHOURS OF TRYING TO REMOVE CAR SEAT UPHOLSTERY LINER TO WASHAND DRY AND THEN PUT BACK ON  H O U R S  OF FRUSTRATION\n",
      "-----------------------------------\n",
      "Most positive review 5: This item is beautiful it is really not made for all stairways just my 10 month old grandson thinks he is the hulk and try to shake it off the steps but so far so good\n",
      "-----------------------------------\n"
     ]
    },
    {
     "name": "stderr",
     "output_type": "stream",
     "text": [
      "/home/kodowanie/.local/lib/python3.8/site-packages/sklearn/utils/deprecation.py:87: FutureWarning: Function get_feature_names is deprecated; get_feature_names is deprecated in 1.0 and will be removed in 1.2. Please use get_feature_names_out instead.\n",
      "  warnings.warn(msg, category=FutureWarning)\n"
     ]
    }
   ],
   "source": [
    "#a)\n",
    "X = baby_df['review']\n",
    "y = baby_df['rating']\n",
    "reviews_train, reviews_test, y_train, y_test = train_test_split(X, y, test_size=0.5, random_state=43)\n",
    "\n",
    "vectorizer = CountVectorizer(vocabulary=significant_words)\n",
    "X_train = vectorizer.fit_transform(reviews_train)\n",
    "X_test = vectorizer.transform(reviews_test)\n",
    "\n",
    "model_ = LogisticRegression(max_iter=1000)\n",
    "model_.fit(X_train, y_train)\n",
    "\n",
    "coef = model_.coef_.tolist().pop()\n",
    "indexes_neg = sorted(range(len(coef)), key=lambda x: coef[x])[:10]\n",
    "indexes_pos = sorted(range(len(coef)), key=lambda x: coef[x])[-10:]\n",
    "print(f'Most negative words: {[vectorizer.get_feature_names()[i] for i in indexes_neg]}')\n",
    "print(f'Most positive words: {[vectorizer.get_feature_names()[i] for i in indexes_pos]}')\n",
    "\n",
    "sentiment = model_.predict(X_test)\n",
    "\n",
    "sentiment_prob = model_.predict_proba(X_test)\n",
    "\n",
    "neg_sentiment = sorted(range(len(sentiment_prob)), key=lambda x:sentiment_prob[:, 0][x])[-5:]\n",
    "pos_sentiment = sorted(range(len(sentiment_prob)), key=lambda x:sentiment_prob[:, 1][x])[-5:]\n",
    "print(f'Most negative reviews indices: {neg_sentiment}')\n",
    "print(f'Most positive reviews indices: {pos_sentiment}')\n",
    "reviews_neg = [np.array(baby_df['review'])[x] for x in neg_sentiment]\n",
    "reviews_pos = [np.array(baby_df['review'])[x] for x in pos_sentiment]\n",
    "print('-----------------------------------')\n",
    "print('Most negative reviews:')\n",
    "for i in range(len(reviews_neg)):\n",
    "    print(f'Most negative review {i+1}: {reviews_neg[i]}')\n",
    "    print('-----------------------------------')\n",
    "print('Most positive reviews:')\n",
    "for i in range(len(reviews_pos)):\n",
    "    print(f'Most positive review {i+1}: {reviews_pos[i]}')\n",
    "    print('-----------------------------------')\n",
    "\n",
    "acc_2 = model_.score(X_test, y_test)"
   ]
  },
  {
   "cell_type": "markdown",
   "metadata": {},
   "source": [
    "Comparing to results from model that was using no limitations of dictionary:\n",
    "* the results of some negative/positive words from dictionary are not very intuitive: for example words old and car are positive words. But overall results of wording are expected.\n",
    "* the results of positive/negative reviews are simillar, however there is a clear negative review in most positive sentiment reviews. This is caused by words that are negative but not classified because of given dictionary."
   ]
  },
  {
   "cell_type": "code",
   "execution_count": 18,
   "metadata": {
    "collapsed": true
   },
   "outputs": [
    {
     "name": "stdout",
     "output_type": "stream",
     "text": [
      "love : 1.3698976524524904\n",
      "great : 0.9369617326186344\n",
      "easy : 1.119406685765037\n",
      "old : 0.07748633667492044\n",
      "little : 0.5156942318384039\n",
      "perfect : 1.4459681844126886\n",
      "loves : 1.7400455398877799\n",
      "well : 0.4680548341402263\n",
      "able : 0.1883177748776173\n",
      "car : 0.09254342689592518\n",
      "broke : -1.7724302419436613\n",
      "less : -0.11846486377784393\n",
      "even : -0.5432893015603202\n",
      "waste : -2.0993806893927776\n",
      "disappointed : -2.45668585062283\n",
      "work : -0.6417252618292573\n",
      "product : -0.3047002359770949\n",
      "money : -0.8745018680409571\n",
      "would : -0.33243375548346604\n",
      "return : -2.0164142040923516\n"
     ]
    }
   ],
   "source": [
    "#b)\n",
    "coef = model_.coef_.tolist().pop()\n",
    "for i, x in enumerate(significant_words):\n",
    "    print(f'{x} : {coef[i]}')"
   ]
  },
  {
   "cell_type": "markdown",
   "metadata": {},
   "source": [
    "The impact of the words are expected and intuitive. However, there are some words with interesting impact values such as 'work', 'would', and 'product' that thave negative values, where 'old' has slightly positive impact."
   ]
  },
  {
   "cell_type": "markdown",
   "metadata": {},
   "source": [
    "For c) I wam going to use a slice of whole baby_df because the evaluation time with %timeit was way too long"
   ]
  },
  {
   "cell_type": "code",
   "execution_count": 19,
   "metadata": {
    "collapsed": true
   },
   "outputs": [
    {
     "name": "stdout",
     "output_type": "stream",
     "text": [
      "Timing of fit of model without limited dictionary: \n",
      "14.3 s ± 2.7 s per loop (mean ± std. dev. of 7 runs, 1 loop each)\n",
      "Timing of fit of model with limited dictionary: \n",
      "25.5 ms ± 728 µs per loop (mean ± std. dev. of 7 runs, 10 loops each)\n",
      "\n",
      "Accuracy from these models:\n",
      "Accuracy 1 = 0.9060666666666667    |    Accuracy 2 = 0.8426\n",
      "\n",
      "Accuracy from previous models:\n",
      "Accuracy 1 = 0.9008    |    Accuracy 2 = 0.8657407407407407\n"
     ]
    }
   ],
   "source": [
    "#c)\n",
    "X = baby_df['review'][:30000]\n",
    "y = baby_df['rating'][:30000]\n",
    "reviews_train, reviews_test, y_train, y_test = train_test_split(X, y, test_size=0.5, random_state=43)\n",
    "vectorizer = CountVectorizer()\n",
    "X_train = vectorizer.fit_transform(reviews_train)\n",
    "X_test = vectorizer.transform(reviews_test)\n",
    "model_a = LogisticRegression(max_iter=1000)\n",
    "print('Timing of fit of model without limited dictionary: ')\n",
    "%timeit model_a.fit(X_train, y_train)\n",
    "acc_a = model_a.score(X_test, y_test)\n",
    "\n",
    "reviews_train, reviews_test, y_train, y_test = train_test_split(X, y, test_size=0.5, random_state=43)\n",
    "vectorizer = CountVectorizer(vocabulary=significant_words)\n",
    "X_train = vectorizer.fit_transform(reviews_train)\n",
    "X_test = vectorizer.transform(reviews_test)\n",
    "model_b = LogisticRegression(max_iter=1000)\n",
    "print('Timing of fit of model with limited dictionary: ')\n",
    "%timeit model_b.fit(X_train, y_train)\n",
    "acc_b = model_b.score(X_test, y_test)\n",
    "print('\\nAccuracy from these models:')\n",
    "print(f'Accuracy 1 = {acc_a}    |    Accuracy 2 = {acc_b}')\n",
    "\n",
    "print('\\nAccuracy from previous models:')\n",
    "print(f'Accuracy 1 = {acc_1}    |    Accuracy 2 = {acc_2}')\n",
    "\n",
    "#hint: %time, %timeit"
   ]
  },
  {
   "cell_type": "markdown",
   "metadata": {},
   "source": [
    "Comparing the evaluation time - the model that uses given dictionary has much better times. However, the better calculation time is at the cost of words limitation. With fewer words in consideration, the second model has worse score from the first one. It is visible both on models that used sliced data and on model that used whole columns."
   ]
  }
 ],
 "metadata": {
  "anaconda-cloud": {},
  "kernelspec": {
   "display_name": "Python 3.8.10 64-bit",
   "language": "python",
   "name": "python3"
  },
  "language_info": {
   "codemirror_mode": {
    "name": "ipython",
    "version": 3
   },
   "file_extension": ".py",
   "mimetype": "text/x-python",
   "name": "python",
   "nbconvert_exporter": "python",
   "pygments_lexer": "ipython3",
   "version": "3.8.10"
  },
  "vscode": {
   "interpreter": {
    "hash": "916dbcbb3f70747c44a77c7bcd40155683ae19c65e1c03b4aa3499c5328201f1"
   }
  }
 },
 "nbformat": 4,
 "nbformat_minor": 4
}
