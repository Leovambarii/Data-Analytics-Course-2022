{
 "cells": [
  {
   "cell_type": "markdown",
   "metadata": {},
   "source": [
    "# 1. Lists, dictionaries, functions, data types"
   ]
  },
  {
   "cell_type": "markdown",
   "metadata": {},
   "source": [
    "# Variables"
   ]
  },
  {
   "cell_type": "markdown",
   "metadata": {},
   "source": [
    "Variables are declared in Python using standard \"=\" operator, as shown below:"
   ]
  },
  {
   "cell_type": "code",
   "execution_count": 2,
   "metadata": {
    "collapsed": true
   },
   "outputs": [],
   "source": [
    "a = 1\n",
    "b = 2.2\n",
    "c = 1 + 2j\n",
    "d = \"Hello world!\"\n",
    "e = \"Witaj świecie!\"\n",
    "f = 2 == 1 "
   ]
  },
  {
   "cell_type": "markdown",
   "metadata": {},
   "source": [
    "As we see, contrary to many other programming languages, there is no need to declare datatypes. Based on the given value the most probable data type is assumed. We can always check the type using built-in \"type()\" function."
   ]
  },
  {
   "cell_type": "code",
   "execution_count": 3,
   "metadata": {
    "collapsed": false
   },
   "outputs": [
    {
     "name": "stdout",
     "output_type": "stream",
     "text": [
      "<class 'int'>\n",
      "<class 'float'>\n",
      "<class 'complex'>\n",
      "<class 'str'>\n",
      "<class 'str'>\n",
      "<class 'bool'>\n"
     ]
    }
   ],
   "source": [
    "print(type(a))\n",
    "print(type(b))\n",
    "print(type(c))\n",
    "print(type(d))\n",
    "print(type(e))\n",
    "print(type(f))"
   ]
  },
  {
   "cell_type": "markdown",
   "metadata": {},
   "source": [
    "If there is a need, we can set the datatype explicitely."
   ]
  },
  {
   "cell_type": "code",
   "execution_count": 4,
   "metadata": {
    "collapsed": false
   },
   "outputs": [
    {
     "name": "stdout",
     "output_type": "stream",
     "text": [
      "<class 'float'>\n",
      "<class 'str'>\n"
     ]
    }
   ],
   "source": [
    "a = float(1)\n",
    "b = str(2.2)\n",
    "print(type(a))\n",
    "print(type(b))"
   ]
  },
  {
   "cell_type": "markdown",
   "metadata": {},
   "source": [
    "Knowing the datatype is very important, as operators such as +, -, \\*, \\*\\* (power) work differently depending on the data type."
   ]
  },
  {
   "cell_type": "markdown",
   "metadata": {},
   "source": [
    "## Ex. 1\n",
    "Check the value and datatype of:\n",
    "1. sum of *int* and *float*\n",
    "2. product of *float* and *complex*\n",
    "3. sum of *str* and *str*\n",
    "4. product of *int* and *str*"
   ]
  },
  {
   "cell_type": "code",
   "execution_count": 13,
   "metadata": {
    "collapsed": true
   },
   "outputs": [
    {
     "name": "stdout",
     "output_type": "stream",
     "text": [
      "<class 'float'>\n",
      "<class 'complex'>\n",
      "<class 'str'>\n",
      "<class 'str'>\n"
     ]
    }
   ],
   "source": [
    "#Here goes your code\n",
    "print(type(5+1.1))\n",
    "print(type(1.1+c))\n",
    "print(type(d+e))\n",
    "print(type(5*e))\n"
   ]
  },
  {
   "cell_type": "markdown",
   "metadata": {},
   "source": [
    "# Lists"
   ]
  },
  {
   "cell_type": "markdown",
   "metadata": {},
   "source": [
    "The native python structure for agregating variables is a list. We declare it using square brackets:"
   ]
  },
  {
   "cell_type": "code",
   "execution_count": 15,
   "metadata": {
    "collapsed": false
   },
   "outputs": [
    {
     "name": "stdout",
     "output_type": "stream",
     "text": [
      "[1.0, '2.2', (1+2j), 'Hello world!']\n"
     ]
    }
   ],
   "source": [
    "l1 = [1,2,3]\n",
    "l2 = [a,b,c,d]\n",
    "print(l2)"
   ]
  },
  {
   "cell_type": "markdown",
   "metadata": {},
   "source": [
    "As we see, a list does not require, that all it's elements are of the same type. We can define 2- or n-D lists, but they are nothing more than lists containing further lists. There is therefore no such thing as a dimension of a list."
   ]
  },
  {
   "cell_type": "code",
   "execution_count": 16,
   "metadata": {
    "collapsed": false
   },
   "outputs": [
    {
     "name": "stdout",
     "output_type": "stream",
     "text": [
      "[[2, 3, 4], [3, 4, 5]]\n",
      "[[2, 3, 4], [3, 4, 5], 'dfs', [2, [23, 3, [[23]]]]]\n"
     ]
    }
   ],
   "source": [
    "l3 = [[2,3,4], [3,4,5]]\n",
    "print(l3)      \n",
    "l4 = [[2,3,4], [3,4,5], \"dfs\", [2,[23,3,[[23]]]]]\n",
    "print(l4)  "
   ]
  },
  {
   "cell_type": "markdown",
   "metadata": {},
   "source": [
    "We can concatenate lists exactly in the same way as we did with string."
   ]
  },
  {
   "cell_type": "code",
   "execution_count": 17,
   "metadata": {
    "collapsed": false
   },
   "outputs": [
    {
     "name": "stdout",
     "output_type": "stream",
     "text": [
      "[[2, 3, 4], [3, 4, 5], [2, 3, 4], [3, 4, 5], 'dfs', [2, [23, 3, [[23]]]]]\n",
      "[[2, 3, 4], [3, 4, 5], [2, 3, 4], [3, 4, 5], [2, 3, 4], [3, 4, 5]]\n"
     ]
    }
   ],
   "source": [
    "print(l3 + l4)\n",
    "print(l3*3)"
   ]
  },
  {
   "cell_type": "markdown",
   "metadata": {},
   "source": [
    "There is no point of having a list if we cannot acces its elements. Python gives us various methods:"
   ]
  },
  {
   "cell_type": "code",
   "execution_count": 18,
   "metadata": {
    "collapsed": false
   },
   "outputs": [
    {
     "data": {
      "text/plain": [
       "3"
      ]
     },
     "execution_count": 18,
     "metadata": {},
     "output_type": "execute_result"
    }
   ],
   "source": [
    "l1 = [0,1,2,3,4,5,6,7,8,9,10]\n",
    "\n",
    "#Accesing a single element:\n",
    "l1[3]"
   ]
  },
  {
   "cell_type": "code",
   "execution_count": 19,
   "metadata": {
    "collapsed": false
   },
   "outputs": [
    {
     "data": {
      "text/plain": [
       "[3, 4, 5, 6, 7]"
      ]
     },
     "execution_count": 19,
     "metadata": {},
     "output_type": "execute_result"
    }
   ],
   "source": [
    "#Accesing subsequence of elements:   \n",
    "l1[3:8]"
   ]
  },
  {
   "cell_type": "code",
   "execution_count": 20,
   "metadata": {
    "collapsed": false
   },
   "outputs": [
    {
     "data": {
      "text/plain": [
       "[3, 4, 5, 6, 7, 8, 9, 10]"
      ]
     },
     "execution_count": 20,
     "metadata": {},
     "output_type": "execute_result"
    }
   ],
   "source": [
    "#Accesing all elements starting from index 3:\n",
    "l1[3:]"
   ]
  },
  {
   "cell_type": "code",
   "execution_count": 21,
   "metadata": {
    "collapsed": false
   },
   "outputs": [
    {
     "data": {
      "text/plain": [
       "[0, 1, 2, 3, 4, 5, 6, 7]"
      ]
     },
     "execution_count": 21,
     "metadata": {},
     "output_type": "execute_result"
    }
   ],
   "source": [
    "#Accesing all elements except last three:\n",
    "l1[:-3]"
   ]
  },
  {
   "cell_type": "code",
   "execution_count": 22,
   "metadata": {
    "collapsed": false
   },
   "outputs": [
    {
     "data": {
      "text/plain": [
       "[0, 3, 6, 9]"
      ]
     },
     "execution_count": 22,
     "metadata": {},
     "output_type": "execute_result"
    }
   ],
   "source": [
    "#Accesing every third element:\n",
    "l1[::3]"
   ]
  },
  {
   "cell_type": "code",
   "execution_count": 23,
   "metadata": {
    "collapsed": false
   },
   "outputs": [
    {
     "data": {
      "text/plain": [
       "[10, 7, 4, 1]"
      ]
     },
     "execution_count": 23,
     "metadata": {},
     "output_type": "execute_result"
    }
   ],
   "source": [
    "#Accesing every third element going backwards:\n",
    "l1[::-3]"
   ]
  },
  {
   "cell_type": "markdown",
   "metadata": {},
   "source": [
    "# Loops\n",
    "Python offers us standard **for** and **while** loops. The syntax is as folows: "
   ]
  },
  {
   "cell_type": "code",
   "execution_count": 24,
   "metadata": {
    "collapsed": false
   },
   "outputs": [
    {
     "name": "stdout",
     "output_type": "stream",
     "text": [
      "0\n",
      "1\n",
      "2\n",
      "3\n",
      "4\n"
     ]
    }
   ],
   "source": [
    "for i in range(5):\n",
    "    print(i)"
   ]
  },
  {
   "cell_type": "code",
   "execution_count": 25,
   "metadata": {
    "collapsed": false
   },
   "outputs": [
    {
     "name": "stdout",
     "output_type": "stream",
     "text": [
      "10\n",
      "9\n",
      "8\n",
      "7\n",
      "6\n"
     ]
    }
   ],
   "source": [
    "i = 10\n",
    "while i > 5:\n",
    "    print(i)\n",
    "    i -= 1"
   ]
  },
  {
   "cell_type": "markdown",
   "metadata": {},
   "source": [
    "Two facts should be noted. Firstly, python syntax does not require braces or semicolons. On the other hand, it relies on proper indentation. The following code will therefore not work:"
   ]
  },
  {
   "cell_type": "code",
   "execution_count": 26,
   "metadata": {
    "collapsed": false
   },
   "outputs": [
    {
     "ename": "IndentationError",
     "evalue": "expected an indented block (1658602140.py, line 3)",
     "output_type": "error",
     "traceback": [
      "\u001b[0;36m  Cell \u001b[0;32mIn [26], line 3\u001b[0;36m\u001b[0m\n\u001b[0;31m    print(i)\u001b[0m\n\u001b[0m    ^\u001b[0m\n\u001b[0;31mIndentationError\u001b[0m\u001b[0;31m:\u001b[0m expected an indented block\n"
     ]
    }
   ],
   "source": [
    "i = 10\n",
    "while i > 5:\n",
    "print(i)\n",
    "i -= 1"
   ]
  },
  {
   "cell_type": "markdown",
   "metadata": {},
   "source": [
    "Second observation refers to the **range()** function. It is commonly used and returns the object of type **iterable** containing the sequence of numbers. This is a special type designed for loop expressions. The syntax is **range(start = 0, end, step = 1)**. Note, that it is impossible to acces specific element of **range**."
   ]
  },
  {
   "cell_type": "code",
   "execution_count": 27,
   "metadata": {
    "collapsed": false
   },
   "outputs": [
    {
     "name": "stdout",
     "output_type": "stream",
     "text": [
      "3\n",
      "4\n",
      "5\n",
      "6\n",
      "7\n",
      "8\n",
      "9\n"
     ]
    }
   ],
   "source": [
    "for i in range(3,10):\n",
    "    print(i)"
   ]
  },
  {
   "cell_type": "code",
   "execution_count": 28,
   "metadata": {
    "collapsed": false
   },
   "outputs": [
    {
     "name": "stdout",
     "output_type": "stream",
     "text": [
      "3\n",
      "5\n",
      "7\n",
      "9\n"
     ]
    }
   ],
   "source": [
    "for i in range(3,10,2):\n",
    "    print(i)"
   ]
  },
  {
   "cell_type": "code",
   "execution_count": 29,
   "metadata": {
    "collapsed": false
   },
   "outputs": [
    {
     "name": "stdout",
     "output_type": "stream",
     "text": [
      "10\n",
      "7\n",
      "4\n"
     ]
    }
   ],
   "source": [
    "for i in range(10,1,-3):\n",
    "    print(i)"
   ]
  },
  {
   "cell_type": "code",
   "execution_count": 30,
   "metadata": {
    "collapsed": true
   },
   "outputs": [],
   "source": [
    "for i in range(10,10):\n",
    "    print(i)"
   ]
  },
  {
   "cell_type": "markdown",
   "metadata": {},
   "source": [
    "We are not limited to object of type **iterable**, we can iterate over normal lists as well."
   ]
  },
  {
   "cell_type": "code",
   "execution_count": 31,
   "metadata": {
    "collapsed": false
   },
   "outputs": [
    {
     "name": "stdout",
     "output_type": "stream",
     "text": [
      "[2, 3, 4]\n",
      "[3, 4, 5]\n",
      "dfs\n",
      "[2, [23, 3, [[23]]]]\n"
     ]
    }
   ],
   "source": [
    "for i in l4:\n",
    "    print(i)"
   ]
  },
  {
   "cell_type": "markdown",
   "metadata": {},
   "source": [
    "Loop expressions may also serve us as an inline list constructor."
   ]
  },
  {
   "cell_type": "code",
   "execution_count": 32,
   "metadata": {
    "collapsed": false
   },
   "outputs": [
    {
     "data": {
      "text/plain": [
       "[1, 2, 5, 10, 17, 26, 37, 50, 65, 82]"
      ]
     },
     "execution_count": 32,
     "metadata": {},
     "output_type": "execute_result"
    }
   ],
   "source": [
    "l5 = [i**2 + 1 for i in range(10)]\n",
    "l5"
   ]
  },
  {
   "cell_type": "markdown",
   "metadata": {},
   "source": [
    "## Ex. 2\n",
    "Construct a list containing squares of all even positive integers less than 100. Then print every eleventh. "
   ]
  },
  {
   "cell_type": "code",
   "execution_count": 37,
   "metadata": {
    "collapsed": true
   },
   "outputs": [
    {
     "data": {
      "text/plain": [
       "[1, 144, 529, 1156, 2025, 3136, 4489, 6084, 7921]"
      ]
     },
     "execution_count": 37,
     "metadata": {},
     "output_type": "execute_result"
    }
   ],
   "source": [
    "#Here goes your code. Try to do it in two lines.\n",
    "my_l = [i**2 for i in range(1,100)]\n",
    "my_l[::11]"
   ]
  },
  {
   "cell_type": "markdown",
   "metadata": {},
   "source": [
    "# Functions\n",
    "In Python we don't have to declare neither the type which is returned by a function, nor the type of its arguments. The syntax is as follows:"
   ]
  },
  {
   "cell_type": "code",
   "execution_count": 23,
   "metadata": {
    "collapsed": false
   },
   "outputs": [
    {
     "name": "stdout",
     "output_type": "stream",
     "text": [
      "8\n",
      "-2e+23\n",
      "Hello World! Hello World! Hello World! Hello World! Hello World! \n"
     ]
    }
   ],
   "source": [
    "def multiply(a,b):\n",
    "    return a*b\n",
    "\n",
    "print( multiply(2, 4) )\n",
    "print( multiply(-2, 1e23) )\n",
    "print( multiply(\"Hello World! \", 5) )"
   ]
  },
  {
   "cell_type": "markdown",
   "metadata": {},
   "source": [
    "Functions can return multiple values as well. "
   ]
  },
  {
   "cell_type": "code",
   "execution_count": 24,
   "metadata": {
    "collapsed": false
   },
   "outputs": [
    {
     "name": "stdout",
     "output_type": "stream",
     "text": [
      "(6, 8)\n",
      "6\n",
      "8\n"
     ]
    }
   ],
   "source": [
    "def sum_multiply(a,b):\n",
    "    return a+b, a*b\n",
    "\n",
    "result = sum_multiply(2, 4)\n",
    "result1, result2 = sum_multiply(2, 4)\n",
    "_, result2 = sum_multiply(2, 4)\n",
    "\n",
    "print(result)\n",
    "print(result1)\n",
    "print(result2)"
   ]
  },
  {
   "cell_type": "markdown",
   "metadata": {},
   "source": [
    "## Ex. 3\n",
    "Define a function which given an integer $n$, returns a list with first $n$ elements of Fibonacci sequence."
   ]
  },
  {
   "cell_type": "code",
   "execution_count": 38,
   "metadata": {
    "collapsed": true
   },
   "outputs": [
    {
     "name": "stdout",
     "output_type": "stream",
     "text": [
      "[0, 1, 1, 2, 3, 5, 8, 13, 21]\n"
     ]
    }
   ],
   "source": [
    "#Here goes your code.\n",
    "def fib(n):\n",
    "    if n==0:\n",
    "        return [0]\n",
    "    elif n==1:\n",
    "        return [0, 1]\n",
    "    else:\n",
    "        my_list = fib(n-1)\n",
    "        my_list.append(my_list[-1]+my_list[-2])\n",
    "        return my_list\n",
    "\n",
    "print(fib(8))\n",
    "        \n"
   ]
  },
  {
   "cell_type": "markdown",
   "metadata": {},
   "source": [
    "# Dictionaries\n",
    "Python dictionary is an unordered set, in which every element is labeled. They are written with curly brackets and contain keys and values."
   ]
  },
  {
   "cell_type": "code",
   "execution_count": 25,
   "metadata": {
    "collapsed": false
   },
   "outputs": [
    {
     "data": {
      "text/plain": [
       "'123-456-789'"
      ]
     },
     "execution_count": 25,
     "metadata": {},
     "output_type": "execute_result"
    }
   ],
   "source": [
    "phonebook = {\"Joe\": \"123-456-789\", \"Mary\": \"222-333-444\", \"Jane\": \"987-654-321\"}\n",
    "phonebook[\"Joe\"]"
   ]
  },
  {
   "cell_type": "markdown",
   "metadata": {},
   "source": [
    "Dictionaries can be nested and do not require uniformity of entry type."
   ]
  },
  {
   "cell_type": "code",
   "execution_count": 26,
   "metadata": {
    "collapsed": false
   },
   "outputs": [
    {
     "name": "stdout",
     "output_type": "stream",
     "text": [
      "Baker Streen 221\n",
      "222-333-444\n",
      "987-654-321\n"
     ]
    }
   ],
   "source": [
    "phonebook = {}\n",
    "phonebook[\"Joe\"]  = {\"tel\": \"123-456-789\" , \"address\": \"Baker Streen 221\"}\n",
    "phonebook[\"Mary\"] = {\"tel\": \"222-333-444\"}\n",
    "phonebook[\"Jane\"] = \"987-654-321\"\n",
    "\n",
    "print(phonebook[\"Joe\"][\"address\"])\n",
    "print(phonebook[\"Mary\"][\"tel\"])\n",
    "print(phonebook[\"Jane\"])"
   ]
  },
  {
   "cell_type": "markdown",
   "metadata": {},
   "source": [
    "It is quite often that we use dictionaries to store data arrays."
   ]
  },
  {
   "cell_type": "code",
   "execution_count": 27,
   "metadata": {
    "collapsed": false
   },
   "outputs": [
    {
     "name": "stdout",
     "output_type": "stream",
     "text": [
      "[400, 361, 324, 289, 256, 225, 196, 169, 144, 121, 100, 81, 64, 49, 36, 25, 16, 9, 4, 1, 0, 1, 4, 9, 16, 25, 36, 49, 64, 81, 100, 121, 144, 169, 196, 225, 256, 289, 324, 361, 400]\n"
     ]
    }
   ],
   "source": [
    "parabola = {\"x\": [x for x in range(-20,21)], \"y\": [x**2 for x in range(-20,21)]}\n",
    "print(parabola[\"y\"])"
   ]
  },
  {
   "cell_type": "markdown",
   "metadata": {},
   "source": [
    " A key doesn't have to be string, it can be every *hashable* object, such as for example an integer or float."
   ]
  },
  {
   "cell_type": "code",
   "execution_count": 28,
   "metadata": {
    "collapsed": false
   },
   "outputs": [
    {
     "data": {
      "text/plain": [
       "1156"
      ]
     },
     "execution_count": 28,
     "metadata": {},
     "output_type": "execute_result"
    }
   ],
   "source": [
    "squares = {}\n",
    "for i in range(100):\n",
    "    squares[i] = i**2\n",
    "\n",
    "squares[34]"
   ]
  },
  {
   "cell_type": "markdown",
   "metadata": {},
   "source": [
    "We can learn if a key is already in the dictionary in three ways:"
   ]
  },
  {
   "cell_type": "code",
   "execution_count": 29,
   "metadata": {
    "collapsed": false
   },
   "outputs": [
    {
     "name": "stdout",
     "output_type": "stream",
     "text": [
      "True\n",
      "False\n",
      "dict_keys([0, 1, 2, 3, 4, 5, 6, 7, 8, 9, 10, 11, 12, 13, 14, 15, 16, 17, 18, 19, 20, 21, 22, 23, 24, 25, 26, 27, 28, 29, 30, 31, 32, 33, 34, 35, 36, 37, 38, 39, 40, 41, 42, 43, 44, 45, 46, 47, 48, 49, 50, 51, 52, 53, 54, 55, 56, 57, 58, 59, 60, 61, 62, 63, 64, 65, 66, 67, 68, 69, 70, 71, 72, 73, 74, 75, 76, 77, 78, 79, 80, 81, 82, 83, 84, 85, 86, 87, 88, 89, 90, 91, 92, 93, 94, 95, 96, 97, 98, 99])\n",
      "4\n"
     ]
    },
    {
     "ename": "KeyError",
     "evalue": "101",
     "output_type": "error",
     "traceback": [
      "\u001b[0;31m---------------------------------------------------------------------------\u001b[0m",
      "\u001b[0;31mKeyError\u001b[0m                                  Traceback (most recent call last)",
      "\u001b[0;32m<ipython-input-29-f1fdb11a1b88>\u001b[0m in \u001b[0;36m<module>\u001b[0;34m()\u001b[0m\n\u001b[1;32m      8\u001b[0m \u001b[0;31m#Or in a primitive way:\u001b[0m\u001b[0;34m\u001b[0m\u001b[0;34m\u001b[0m\u001b[0m\n\u001b[1;32m      9\u001b[0m \u001b[0mprint\u001b[0m\u001b[0;34m(\u001b[0m\u001b[0msquares\u001b[0m\u001b[0;34m[\u001b[0m\u001b[0;36m2\u001b[0m\u001b[0;34m]\u001b[0m\u001b[0;34m)\u001b[0m\u001b[0;34m\u001b[0m\u001b[0m\n\u001b[0;32m---> 10\u001b[0;31m \u001b[0mprint\u001b[0m\u001b[0;34m(\u001b[0m\u001b[0msquares\u001b[0m\u001b[0;34m[\u001b[0m\u001b[0;36m101\u001b[0m\u001b[0;34m]\u001b[0m\u001b[0;34m)\u001b[0m\u001b[0;34m\u001b[0m\u001b[0m\n\u001b[0m",
      "\u001b[0;31mKeyError\u001b[0m: 101"
     ]
    }
   ],
   "source": [
    "# Checking a single element\n",
    "print(2 in squares)\n",
    "print(101 in squares)\n",
    "\n",
    "# printing all keys\n",
    "print(squares.keys())\n",
    "\n",
    "#Or in a primitive way:\n",
    "print(squares[2])\n",
    "print(squares[101])"
   ]
  },
  {
   "cell_type": "markdown",
   "metadata": {},
   "source": [
    "## Ex. 4\n",
    "Define a dictionary, which for every integer less than 1000 gives a number of it's divisors."
   ]
  },
  {
   "cell_type": "code",
   "execution_count": 58,
   "metadata": {
    "collapsed": true
   },
   "outputs": [
    {
     "name": "stdout",
     "output_type": "stream",
     "text": [
      "{1: 1, 2: 2, 3: 2, 4: 3, 5: 2, 6: 4, 7: 2, 8: 4, 9: 3, 10: 4, 11: 2, 12: 6, 13: 2, 14: 4, 15: 4, 16: 5, 17: 2, 18: 6, 19: 2, 20: 6, 21: 4, 22: 4, 23: 2, 24: 8, 25: 3, 26: 4, 27: 4, 28: 6, 29: 2, 30: 8, 31: 2, 32: 6, 33: 4, 34: 4, 35: 4, 36: 9, 37: 2, 38: 4, 39: 4, 40: 8, 41: 2, 42: 8, 43: 2, 44: 6, 45: 6, 46: 4, 47: 2, 48: 10, 49: 3, 50: 6, 51: 4, 52: 6, 53: 2, 54: 8, 55: 4, 56: 8, 57: 4, 58: 4, 59: 2, 60: 12, 61: 2, 62: 4, 63: 6, 64: 7, 65: 4, 66: 8, 67: 2, 68: 6, 69: 4, 70: 8, 71: 2, 72: 12, 73: 2, 74: 4, 75: 6, 76: 6, 77: 4, 78: 8, 79: 2, 80: 10, 81: 5, 82: 4, 83: 2, 84: 12, 85: 4, 86: 4, 87: 4, 88: 8, 89: 2, 90: 12, 91: 4, 92: 6, 93: 4, 94: 4, 95: 4, 96: 12, 97: 2, 98: 6, 99: 6, 100: 9, 101: 2, 102: 8, 103: 2, 104: 8, 105: 8, 106: 4, 107: 2, 108: 12, 109: 2, 110: 8, 111: 4, 112: 10, 113: 2, 114: 8, 115: 4, 116: 6, 117: 6, 118: 4, 119: 4, 120: 16, 121: 3, 122: 4, 123: 4, 124: 6, 125: 4, 126: 12, 127: 2, 128: 8, 129: 4, 130: 8, 131: 2, 132: 12, 133: 4, 134: 4, 135: 8, 136: 8, 137: 2, 138: 8, 139: 2, 140: 12, 141: 4, 142: 4, 143: 4, 144: 15, 145: 4, 146: 4, 147: 6, 148: 6, 149: 2, 150: 12, 151: 2, 152: 8, 153: 6, 154: 8, 155: 4, 156: 12, 157: 2, 158: 4, 159: 4, 160: 12, 161: 4, 162: 10, 163: 2, 164: 6, 165: 8, 166: 4, 167: 2, 168: 16, 169: 3, 170: 8, 171: 6, 172: 6, 173: 2, 174: 8, 175: 6, 176: 10, 177: 4, 178: 4, 179: 2, 180: 18, 181: 2, 182: 8, 183: 4, 184: 8, 185: 4, 186: 8, 187: 4, 188: 6, 189: 8, 190: 8, 191: 2, 192: 14, 193: 2, 194: 4, 195: 8, 196: 9, 197: 2, 198: 12, 199: 2, 200: 12, 201: 4, 202: 4, 203: 4, 204: 12, 205: 4, 206: 4, 207: 6, 208: 10, 209: 4, 210: 16, 211: 2, 212: 6, 213: 4, 214: 4, 215: 4, 216: 16, 217: 4, 218: 4, 219: 4, 220: 12, 221: 4, 222: 8, 223: 2, 224: 12, 225: 9, 226: 4, 227: 2, 228: 12, 229: 2, 230: 8, 231: 8, 232: 8, 233: 2, 234: 12, 235: 4, 236: 6, 237: 4, 238: 8, 239: 2, 240: 20, 241: 2, 242: 6, 243: 6, 244: 6, 245: 6, 246: 8, 247: 4, 248: 8, 249: 4, 250: 8, 251: 2, 252: 18, 253: 4, 254: 4, 255: 8, 256: 9, 257: 2, 258: 8, 259: 4, 260: 12, 261: 6, 262: 4, 263: 2, 264: 16, 265: 4, 266: 8, 267: 4, 268: 6, 269: 2, 270: 16, 271: 2, 272: 10, 273: 8, 274: 4, 275: 6, 276: 12, 277: 2, 278: 4, 279: 6, 280: 16, 281: 2, 282: 8, 283: 2, 284: 6, 285: 8, 286: 8, 287: 4, 288: 18, 289: 3, 290: 8, 291: 4, 292: 6, 293: 2, 294: 12, 295: 4, 296: 8, 297: 8, 298: 4, 299: 4, 300: 18, 301: 4, 302: 4, 303: 4, 304: 10, 305: 4, 306: 12, 307: 2, 308: 12, 309: 4, 310: 8, 311: 2, 312: 16, 313: 2, 314: 4, 315: 12, 316: 6, 317: 2, 318: 8, 319: 4, 320: 14, 321: 4, 322: 8, 323: 4, 324: 15, 325: 6, 326: 4, 327: 4, 328: 8, 329: 4, 330: 16, 331: 2, 332: 6, 333: 6, 334: 4, 335: 4, 336: 20, 337: 2, 338: 6, 339: 4, 340: 12, 341: 4, 342: 12, 343: 4, 344: 8, 345: 8, 346: 4, 347: 2, 348: 12, 349: 2, 350: 12, 351: 8, 352: 12, 353: 2, 354: 8, 355: 4, 356: 6, 357: 8, 358: 4, 359: 2, 360: 24, 361: 3, 362: 4, 363: 6, 364: 12, 365: 4, 366: 8, 367: 2, 368: 10, 369: 6, 370: 8, 371: 4, 372: 12, 373: 2, 374: 8, 375: 8, 376: 8, 377: 4, 378: 16, 379: 2, 380: 12, 381: 4, 382: 4, 383: 2, 384: 16, 385: 8, 386: 4, 387: 6, 388: 6, 389: 2, 390: 16, 391: 4, 392: 12, 393: 4, 394: 4, 395: 4, 396: 18, 397: 2, 398: 4, 399: 8, 400: 15, 401: 2, 402: 8, 403: 4, 404: 6, 405: 10, 406: 8, 407: 4, 408: 16, 409: 2, 410: 8, 411: 4, 412: 6, 413: 4, 414: 12, 415: 4, 416: 12, 417: 4, 418: 8, 419: 2, 420: 24, 421: 2, 422: 4, 423: 6, 424: 8, 425: 6, 426: 8, 427: 4, 428: 6, 429: 8, 430: 8, 431: 2, 432: 20, 433: 2, 434: 8, 435: 8, 436: 6, 437: 4, 438: 8, 439: 2, 440: 16, 441: 9, 442: 8, 443: 2, 444: 12, 445: 4, 446: 4, 447: 4, 448: 14, 449: 2, 450: 18, 451: 4, 452: 6, 453: 4, 454: 4, 455: 8, 456: 16, 457: 2, 458: 4, 459: 8, 460: 12, 461: 2, 462: 16, 463: 2, 464: 10, 465: 8, 466: 4, 467: 2, 468: 18, 469: 4, 470: 8, 471: 4, 472: 8, 473: 4, 474: 8, 475: 6, 476: 12, 477: 6, 478: 4, 479: 2, 480: 24, 481: 4, 482: 4, 483: 8, 484: 9, 485: 4, 486: 12, 487: 2, 488: 8, 489: 4, 490: 12, 491: 2, 492: 12, 493: 4, 494: 8, 495: 12, 496: 10, 497: 4, 498: 8, 499: 2, 500: 12, 501: 4, 502: 4, 503: 2, 504: 24, 505: 4, 506: 8, 507: 6, 508: 6, 509: 2, 510: 16, 511: 4, 512: 10, 513: 8, 514: 4, 515: 4, 516: 12, 517: 4, 518: 8, 519: 4, 520: 16, 521: 2, 522: 12, 523: 2, 524: 6, 525: 12, 526: 4, 527: 4, 528: 20, 529: 3, 530: 8, 531: 6, 532: 12, 533: 4, 534: 8, 535: 4, 536: 8, 537: 4, 538: 4, 539: 6, 540: 24, 541: 2, 542: 4, 543: 4, 544: 12, 545: 4, 546: 16, 547: 2, 548: 6, 549: 6, 550: 12, 551: 4, 552: 16, 553: 4, 554: 4, 555: 8, 556: 6, 557: 2, 558: 12, 559: 4, 560: 20, 561: 8, 562: 4, 563: 2, 564: 12, 565: 4, 566: 4, 567: 10, 568: 8, 569: 2, 570: 16, 571: 2, 572: 12, 573: 4, 574: 8, 575: 6, 576: 21, 577: 2, 578: 6, 579: 4, 580: 12, 581: 4, 582: 8, 583: 4, 584: 8, 585: 12, 586: 4, 587: 2, 588: 18, 589: 4, 590: 8, 591: 4, 592: 10, 593: 2, 594: 16, 595: 8, 596: 6, 597: 4, 598: 8, 599: 2, 600: 24, 601: 2, 602: 8, 603: 6, 604: 6, 605: 6, 606: 8, 607: 2, 608: 12, 609: 8, 610: 8, 611: 4, 612: 18, 613: 2, 614: 4, 615: 8, 616: 16, 617: 2, 618: 8, 619: 2, 620: 12, 621: 8, 622: 4, 623: 4, 624: 20, 625: 5, 626: 4, 627: 8, 628: 6, 629: 4, 630: 24, 631: 2, 632: 8, 633: 4, 634: 4, 635: 4, 636: 12, 637: 6, 638: 8, 639: 6, 640: 16, 641: 2, 642: 8, 643: 2, 644: 12, 645: 8, 646: 8, 647: 2, 648: 20, 649: 4, 650: 12, 651: 8, 652: 6, 653: 2, 654: 8, 655: 4, 656: 10, 657: 6, 658: 8, 659: 2, 660: 24, 661: 2, 662: 4, 663: 8, 664: 8, 665: 8, 666: 12, 667: 4, 668: 6, 669: 4, 670: 8, 671: 4, 672: 24, 673: 2, 674: 4, 675: 12, 676: 9, 677: 2, 678: 8, 679: 4, 680: 16, 681: 4, 682: 8, 683: 2, 684: 18, 685: 4, 686: 8, 687: 4, 688: 10, 689: 4, 690: 16, 691: 2, 692: 6, 693: 12, 694: 4, 695: 4, 696: 16, 697: 4, 698: 4, 699: 4, 700: 18, 701: 2, 702: 16, 703: 4, 704: 14, 705: 8, 706: 4, 707: 4, 708: 12, 709: 2, 710: 8, 711: 6, 712: 8, 713: 4, 714: 16, 715: 8, 716: 6, 717: 4, 718: 4, 719: 2, 720: 30, 721: 4, 722: 6, 723: 4, 724: 6, 725: 6, 726: 12, 727: 2, 728: 16, 729: 7, 730: 8, 731: 4, 732: 12, 733: 2, 734: 4, 735: 12, 736: 12, 737: 4, 738: 12, 739: 2, 740: 12, 741: 8, 742: 8, 743: 2, 744: 16, 745: 4, 746: 4, 747: 6, 748: 12, 749: 4, 750: 16, 751: 2, 752: 10, 753: 4, 754: 8, 755: 4, 756: 24, 757: 2, 758: 4, 759: 8, 760: 16, 761: 2, 762: 8, 763: 4, 764: 6, 765: 12, 766: 4, 767: 4, 768: 18, 769: 2, 770: 16, 771: 4, 772: 6, 773: 2, 774: 12, 775: 6, 776: 8, 777: 8, 778: 4, 779: 4, 780: 24, 781: 4, 782: 8, 783: 8, 784: 15, 785: 4, 786: 8, 787: 2, 788: 6, 789: 4, 790: 8, 791: 4, 792: 24, 793: 4, 794: 4, 795: 8, 796: 6, 797: 2, 798: 16, 799: 4, 800: 18, 801: 6, 802: 4, 803: 4, 804: 12, 805: 8, 806: 8, 807: 4, 808: 8, 809: 2, 810: 20, 811: 2, 812: 12, 813: 4, 814: 8, 815: 4, 816: 20, 817: 4, 818: 4, 819: 12, 820: 12, 821: 2, 822: 8, 823: 2, 824: 8, 825: 12, 826: 8, 827: 2, 828: 18, 829: 2, 830: 8, 831: 4, 832: 14, 833: 6, 834: 8, 835: 4, 836: 12, 837: 8, 838: 4, 839: 2, 840: 32, 841: 3, 842: 4, 843: 4, 844: 6, 845: 6, 846: 12, 847: 6, 848: 10, 849: 4, 850: 12, 851: 4, 852: 12, 853: 2, 854: 8, 855: 12, 856: 8, 857: 2, 858: 16, 859: 2, 860: 12, 861: 8, 862: 4, 863: 2, 864: 24, 865: 4, 866: 4, 867: 6, 868: 12, 869: 4, 870: 16, 871: 4, 872: 8, 873: 6, 874: 8, 875: 8, 876: 12, 877: 2, 878: 4, 879: 4, 880: 20, 881: 2, 882: 18, 883: 2, 884: 12, 885: 8, 886: 4, 887: 2, 888: 16, 889: 4, 890: 8, 891: 10, 892: 6, 893: 4, 894: 8, 895: 4, 896: 16, 897: 8, 898: 4, 899: 4, 900: 27, 901: 4, 902: 8, 903: 8, 904: 8, 905: 4, 906: 8, 907: 2, 908: 6, 909: 6, 910: 16, 911: 2, 912: 20, 913: 4, 914: 4, 915: 8, 916: 6, 917: 4, 918: 16, 919: 2, 920: 16, 921: 4, 922: 4, 923: 4, 924: 24, 925: 6, 926: 4, 927: 6, 928: 12, 929: 2, 930: 16, 931: 6, 932: 6, 933: 4, 934: 4, 935: 8, 936: 24, 937: 2, 938: 8, 939: 4, 940: 12, 941: 2, 942: 8, 943: 4, 944: 10, 945: 16, 946: 8, 947: 2, 948: 12, 949: 4, 950: 12, 951: 4, 952: 16, 953: 2, 954: 12, 955: 4, 956: 6, 957: 8, 958: 4, 959: 4, 960: 28, 961: 3, 962: 8, 963: 6, 964: 6, 965: 4, 966: 16, 967: 2, 968: 12, 969: 8, 970: 8, 971: 2, 972: 18, 973: 4, 974: 4, 975: 12, 976: 10, 977: 2, 978: 8, 979: 4, 980: 18, 981: 6, 982: 4, 983: 2, 984: 16, 985: 4, 986: 8, 987: 8, 988: 12, 989: 4, 990: 24, 991: 2, 992: 12, 993: 4, 994: 8, 995: 4, 996: 12, 997: 2, 998: 4, 999: 8}\n"
     ]
    }
   ],
   "source": [
    "#Here goes your code\n",
    "def my_fun(n):\n",
    "    x = len([i for i in range(1, n+1) if n%i==0])\n",
    "    return x\n",
    "my_dict = {}\n",
    "for i in range(1, 1000):\n",
    "    my_dict[i] = my_fun(i)\n",
    "print(my_dict)\n"
   ]
  },
  {
   "cell_type": "markdown",
   "metadata": {},
   "source": [
    "# Tuples\n",
    "Tuples are ordered collections which are very similar to the lists. One of the few differences is, that elements of tuple are unchangeable."
   ]
  },
  {
   "cell_type": "code",
   "execution_count": 30,
   "metadata": {
    "collapsed": false
   },
   "outputs": [
    {
     "name": "stdout",
     "output_type": "stream",
     "text": [
      "2\n",
      "100\n",
      "2\n"
     ]
    },
    {
     "ename": "TypeError",
     "evalue": "'tuple' object does not support item assignment",
     "output_type": "error",
     "traceback": [
      "\u001b[0;31m---------------------------------------------------------------------------\u001b[0m",
      "\u001b[0;31mTypeError\u001b[0m                                 Traceback (most recent call last)",
      "\u001b[0;32m<ipython-input-30-2589ab47d29c>\u001b[0m in \u001b[0;36m<module>\u001b[0;34m()\u001b[0m\n\u001b[1;32m      5\u001b[0m \u001b[0mprint\u001b[0m\u001b[0;34m(\u001b[0m\u001b[0mtab\u001b[0m\u001b[0;34m[\u001b[0m\u001b[0;36m1\u001b[0m\u001b[0;34m]\u001b[0m\u001b[0;34m)\u001b[0m\u001b[0;34m\u001b[0m\u001b[0m\n\u001b[1;32m      6\u001b[0m \u001b[0mprint\u001b[0m\u001b[0;34m(\u001b[0m\u001b[0mtup\u001b[0m\u001b[0;34m[\u001b[0m\u001b[0;36m1\u001b[0m\u001b[0;34m]\u001b[0m\u001b[0;34m)\u001b[0m\u001b[0;34m\u001b[0m\u001b[0m\n\u001b[0;32m----> 7\u001b[0;31m \u001b[0mtup\u001b[0m\u001b[0;34m[\u001b[0m\u001b[0;36m1\u001b[0m\u001b[0;34m]\u001b[0m \u001b[0;34m=\u001b[0m \u001b[0;36m100\u001b[0m\u001b[0;34m\u001b[0m\u001b[0m\n\u001b[0m",
      "\u001b[0;31mTypeError\u001b[0m: 'tuple' object does not support item assignment"
     ]
    }
   ],
   "source": [
    "tab = [1,2,3]\n",
    "tup = (1,2,3)\n",
    "print(tab[1])\n",
    "tab[1] = 100\n",
    "print(tab[1])\n",
    "print(tup[1])\n",
    "tup[1] = 100"
   ]
  },
  {
   "cell_type": "markdown",
   "metadata": {},
   "source": [
    "It is important to remember, that if you want to create single element tuple it requires adding a comma after an element."
   ]
  },
  {
   "cell_type": "code",
   "execution_count": 31,
   "metadata": {
    "collapsed": false
   },
   "outputs": [
    {
     "name": "stdout",
     "output_type": "stream",
     "text": [
      "<class 'tuple'>\n",
      "<class 'str'>\n"
     ]
    }
   ],
   "source": [
    "thistuple = (\"apple\",)\n",
    "print(type(thistuple))\n",
    "\n",
    "#NOT a tuple\n",
    "thistuple = (\"apple\")\n",
    "print(type(thistuple))"
   ]
  },
  {
   "cell_type": "markdown",
   "metadata": {},
   "source": [
    "## Ex. 5\n",
    "Check if joining two tuples, accesing a range of values and negative indexing works in the same way with tuples as with lists."
   ]
  },
  {
   "cell_type": "code",
   "execution_count": 43,
   "metadata": {
    "collapsed": true
   },
   "outputs": [
    {
     "name": "stdout",
     "output_type": "stream",
     "text": [
      "(1, 2, 3, 7, 8, 9, 4, 5, 6, 7)\n",
      "(2, 3, 7)\n",
      "(7, 5)\n"
     ]
    }
   ],
   "source": [
    "#Here goes your code\n",
    "tuple_1 = (1,2,3,7,8,9)\n",
    "tuple_2 = (4,5,6,7)\n",
    "\n",
    "print(tuple_1+tuple_2)\n",
    "print(tuple_1[1:4])\n",
    "print(tuple_2[::-2])"
   ]
  }
 ],
 "metadata": {
  "anaconda-cloud": {},
  "kernelspec": {
   "display_name": "Python 3.8.10 ('.venv': venv)",
   "language": "python",
   "name": "python3"
  },
  "language_info": {
   "codemirror_mode": {
    "name": "ipython",
    "version": 3
   },
   "file_extension": ".py",
   "mimetype": "text/x-python",
   "name": "python",
   "nbconvert_exporter": "python",
   "pygments_lexer": "ipython3",
   "version": "3.8.10"
  },
  "vscode": {
   "interpreter": {
    "hash": "c6a245ae3eb2bfc494aef3ed0becc3bc2cc5bbd880a0f5319bc30cd86b6fea90"
   }
  }
 },
 "nbformat": 4,
 "nbformat_minor": 2
}
